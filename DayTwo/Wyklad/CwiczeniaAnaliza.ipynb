{
 "cells": [
  {
   "cell_type": "markdown",
   "id": "c23fa5c5",
   "metadata": {},
   "source": [
    "# Ćwiczenia"
   ]
  },
  {
   "cell_type": "markdown",
   "id": "b0869f03",
   "metadata": {},
   "source": [
    "## Ćwiczenie 1. - NumPy"
   ]
  },
  {
   "cell_type": "raw",
   "id": "a231fa35",
   "metadata": {},
   "source": [
    "import numpy as np\n",
    "\n",
    "# Ćwiczenie: Stworzenie dwuwymiarowej tablicy i wykonanie operacji\n",
    "tablica_2d_cw = np.array([[1, 2, 3], [4, 5, 6], [7, 8, 9]])\n",
    "\n",
    "# Zadanie: Pomnóż każdy element tablicy przez 2\n",
    "wynik_mnozenia_cw = # Tu dodaj kod\n",
    "\n",
    "# Zadanie: Oblicz średnią dla każdej kolumny\n",
    "srednia_kolumn_cw = # Tu dodaj kod\n",
    "\n",
    "# Wyświetlenie wyników\n",
    "print(\"Tablica po mnożeniu:\", wynik_mnozenia_cw)\n",
    "print(\"Średnie kolumn:\", srednia_kolumn_cw)"
   ]
  },
  {
   "cell_type": "markdown",
   "id": "97ed7d51",
   "metadata": {},
   "source": [
    "#### Rozwiązanie"
   ]
  },
  {
   "cell_type": "code",
   "execution_count": 1,
   "id": "d24ab099",
   "metadata": {},
   "outputs": [
    {
     "name": "stdout",
     "output_type": "stream",
     "text": [
      "Tablica po mnożeniu przez 2:\n",
      "[[ 2  4  6]\n",
      " [ 8 10 12]\n",
      " [14 16 18]]\n",
      "\n",
      "Średnie kolumn:\n",
      "[4. 5. 6.]\n"
     ]
    }
   ],
   "source": [
    "import numpy as np\n",
    "\n",
    "# Stworzenie dwuwymiarowej tablicy\n",
    "tablica_2d_cw = np.array([[1, 2, 3], [4, 5, 6], [7, 8, 9]])\n",
    "\n",
    "# Zadanie: Pomnóż każdy element tablicy przez 2\n",
    "wynik_mnozenia_cw = tablica_2d_cw * 2\n",
    "\n",
    "# Zadanie: Oblicz średnią dla każdej kolumny\n",
    "srednia_kolumn_cw = np.mean(tablica_2d_cw, axis=0)\n",
    "\n",
    "# Wyświetlenie wyników\n",
    "print(\"Tablica po mnożeniu przez 2:\")\n",
    "print(wynik_mnozenia_cw)\n",
    "\n",
    "print(\"\\nŚrednie kolumn:\")\n",
    "print(srednia_kolumn_cw)"
   ]
  },
  {
   "cell_type": "markdown",
   "id": "fb85632c",
   "metadata": {},
   "source": [
    "#### Omówienie"
   ]
  },
  {
   "cell_type": "raw",
   "id": "fd0bb062",
   "metadata": {},
   "source": [
    "tablica_2d_cw * 2 mnoży każdy element tablicy przez 2.\n",
    "np.mean(tablica_2d_cw, axis=0) oblicza średnią dla każdej kolumny (oś 0).\n",
    "axis=0 oznacza, że operacja jest wykonywana wzdłuż kolumn."
   ]
  },
  {
   "cell_type": "markdown",
   "id": "f4069b68",
   "metadata": {},
   "source": [
    "## Ćwiczenie 2. - Pandas"
   ]
  },
  {
   "cell_type": "raw",
   "id": "497c91c0",
   "metadata": {},
   "source": [
    "import pandas as pd\n",
    "import numpy as np\n",
    "\n",
    "# Ćwiczenie: Stworzenie DataFrame z danymi losowymi\n",
    "df_cw = pd.DataFrame(np.random.randint(0, 100, size=(5, 3)), columns=['A', 'B', 'C'])\n",
    "\n",
    "# Zadanie: Wyświetlenie informacji o danych w DataFrame\n",
    "info_dane_cw = # Tu dodaj kod\n",
    "\n",
    "# Zadanie: Wyświetlenie trzech pierwszych wierszy DataFrame\n",
    "pierwsze_wiersze_cw = # Tu dodaj kod\n",
    "\n",
    "# Wyświetlenie wyników\n",
    "print(\"Informacje o danych:\", info_dane_cw)\n",
    "print(\"Trzy pierwsze wiersze DataFrame:\\n\", pierwsze_wiersze_cw)"
   ]
  },
  {
   "cell_type": "markdown",
   "id": "6fd2ba60",
   "metadata": {},
   "source": [
    "#### Rozwiązanie:"
   ]
  },
  {
   "cell_type": "code",
   "execution_count": 2,
   "id": "baed8b4b",
   "metadata": {},
   "outputs": [
    {
     "name": "stdout",
     "output_type": "stream",
     "text": [
      "<class 'pandas.core.frame.DataFrame'>\n",
      "RangeIndex: 5 entries, 0 to 4\n",
      "Data columns (total 3 columns):\n",
      " #   Column  Non-Null Count  Dtype\n",
      "---  ------  --------------  -----\n",
      " 0   A       5 non-null      int32\n",
      " 1   B       5 non-null      int32\n",
      " 2   C       5 non-null      int32\n",
      "dtypes: int32(3)\n",
      "memory usage: 192.0 bytes\n",
      "Informacje o danych: None\n",
      "Trzy pierwsze wiersze DataFrame:\n",
      "     A   B   C\n",
      "0  37  94  36\n",
      "1  10  22  55\n",
      "2  60  81  21\n"
     ]
    }
   ],
   "source": [
    "import pandas as pd\n",
    "import numpy as np\n",
    "\n",
    "# Stworzenie DataFrame z danymi losowymi\n",
    "df_cw = pd.DataFrame(np.random.randint(0, 100, size=(5, 3)), columns=['A', 'B', 'C'])\n",
    "\n",
    "# Wyświetlenie informacji o danych w DataFrame\n",
    "info_dane_cw = df_cw.info()\n",
    "\n",
    "# Wyświetlenie trzech pierwszych wierszy DataFrame\n",
    "pierwsze_wiersze_cw = df_cw.head(3)\n",
    "\n",
    "# Wyświetlenie wyników\n",
    "print(\"Informacje o danych:\", info_dane_cw)\n",
    "print(\"Trzy pierwsze wiersze DataFrame:\\n\", pierwsze_wiersze_cw)"
   ]
  },
  {
   "cell_type": "markdown",
   "id": "781af381",
   "metadata": {},
   "source": [
    "#### Omówienie"
   ]
  },
  {
   "cell_type": "raw",
   "id": "4ff1a437",
   "metadata": {},
   "source": [
    "df_cw.info() dostarcza informacji o strukturze danych, typach kolumn i ilości niepustych wartości.\n",
    "df_cw.head(3) wyświetla pierwsze trzy wiersze DataFrame.\n",
    "Te funkcje są przydatne podczas analizy danych i pozwalają uzyskać szybki podgląd na strukturę i zawartość DataFrame."
   ]
  },
  {
   "cell_type": "markdown",
   "id": "91a21539",
   "metadata": {},
   "source": [
    "## Ćwiczenie 3. - Wczytywanie i zapis danych"
   ]
  },
  {
   "cell_type": "raw",
   "id": "1492e07d",
   "metadata": {},
   "source": [
    "import pandas as pd\n",
    "\n",
    "# Ćwiczenie: Wczytanie danych z pliku CSV\n",
    "df_wczytane_cw = # Tu dodaj kod\n",
    "\n",
    "# Zadanie: Wyświetlenie pięciu pierwszych wierszy wczytanych danych\n",
    "pierwsze_wiersze_wczytane_cw = # Tu dodaj kod\n",
    "\n",
    "# Zadanie: Zapisanie wczytanych danych do pliku Excel\n",
    "# (Uwaga: Dla potrzeb ćwiczenia, możesz użyć tych samych wczytanych danych)\n",
    "df_wczytane_cw.to_excel('dane_wczytane.xlsx', index=False)\n",
    "\n",
    "# Wyświetlenie wyników\n",
    "print(\"Pięć pierwszych wierszy wczytanych danych:\\n\", pierwsze_wiersze_wczytane_cw)\n",
    "print(\"Dane zostały zapisane do pliku Excel.\")"
   ]
  },
  {
   "cell_type": "markdown",
   "id": "58c5df1d",
   "metadata": {},
   "source": [
    "#### Rozwiązanie"
   ]
  },
  {
   "cell_type": "code",
   "execution_count": 3,
   "id": "fb72b02d",
   "metadata": {},
   "outputs": [],
   "source": [
    "import pandas as pd\n",
    "\n",
    "# Wczytanie danych z pliku CSV\n",
    "df_wczytane_cw = pd.read_csv('../DayTwo/top_100_world_university_2024_new.csv')\n",
    "\n",
    "# Wyświetlenie pięciu pierwszych wierszy wczytanych danych\n",
    "pierwsze_wiersze_wczytane_cw = df_wczytane_cw.head()\n",
    "\n",
    "# Zapisanie wczytanych danych do pliku Excel\n",
    "df_wczytane_cw.to_excel('dane_wczytane_top_universities.xlsx', index=False)"
   ]
  },
  {
   "cell_type": "markdown",
   "id": "41497c32",
   "metadata": {},
   "source": [
    "#### Omówienie"
   ]
  },
  {
   "cell_type": "raw",
   "id": "1d0603bc",
   "metadata": {},
   "source": [
    "Warto zauważyć, że w kodzie używamy funkcji read_csv do wczytania danych z pliku CSV. W przypadku plików Excel, moglibyśmy użyć pd.read_excel. Następnie używamy metody head() do wyświetlenia pierwszych pięciu wierszy wczytanych danych. Ostatecznie dane są zapisywane do pliku Excel za pomocą to_excel, gdzie parametr index=False oznacza, że nie chcemy zapisywać indeksu do pliku."
   ]
  },
  {
   "cell_type": "markdown",
   "id": "8dcd11bd",
   "metadata": {},
   "source": [
    "## Ćwiczenie 4. - Atrybuty DataFrame w Pandas"
   ]
  },
  {
   "cell_type": "raw",
   "id": "ce457e25",
   "metadata": {},
   "source": [
    "import pandas as pd\n",
    "\n",
    "# Ćwiczenie: Sprawdzenie kształtu i struktury DataFrame\n",
    "df_cw = pd.DataFrame({'A': [1, 2, 3], 'B': [4, 5, 6]})\n",
    "\n",
    "# Zadanie: Wyświetlenie kształtu DataFrame\n",
    "ksztalt_cw = # Tu dodaj kod\n",
    "\n",
    "# Zadanie: Wyświetlenie indeksów wierszy DataFrame\n",
    "indeksy_cw = # Tu dodaj kod\n",
    "\n",
    "# Zadanie: Wyświetlenie etykiet kolumn DataFrame\n",
    "etykiety_kolumn_cw = # Tu dodaj kod\n",
    "\n",
    "# Zadanie: Wyświetlenie typów danych kolumn DataFrame\n",
    "typy_danych_cw = # Tu dodaj kod\n",
    "\n",
    "# Wyświetlenie wyników\n",
    "print(\"Kształt DataFrame:\", ksztalt_cw)\n",
    "print(\"Indeksy wierszy DataFrame:\", indeksy_cw)\n",
    "print(\"Etykiety kolumn DataFrame:\", etykiety_kolumn_cw)\n",
    "print(\"Typy danych kolumn DataFrame:\\n\", typy_danych_cw)"
   ]
  },
  {
   "cell_type": "markdown",
   "id": "f32163d9",
   "metadata": {},
   "source": [
    "#### Rozwiązanie"
   ]
  },
  {
   "cell_type": "code",
   "execution_count": 4,
   "id": "a76ed0c7",
   "metadata": {},
   "outputs": [
    {
     "name": "stdout",
     "output_type": "stream",
     "text": [
      "Kształt DataFrame: (3, 2)\n",
      "Indeksy wierszy DataFrame: RangeIndex(start=0, stop=3, step=1)\n",
      "Etykiety kolumn DataFrame: Index(['A', 'B'], dtype='object')\n",
      "Typy danych kolumn DataFrame:\n",
      " A    int64\n",
      "B    int64\n",
      "dtype: object\n"
     ]
    }
   ],
   "source": [
    "import pandas as pd\n",
    "\n",
    "# Ćwiczenie: Sprawdzenie kształtu i struktury DataFrame\n",
    "df_cw = pd.DataFrame({'A': [1, 2, 3], 'B': [4, 5, 6]})\n",
    "\n",
    "# Zadanie: Wyświetlenie kształtu DataFrame\n",
    "ksztalt_cw = df_cw.shape\n",
    "\n",
    "# Zadanie: Wyświetlenie indeksów wierszy DataFrame\n",
    "indeksy_cw = df_cw.index\n",
    "\n",
    "# Zadanie: Wyświetlenie etykiet kolumn DataFrame\n",
    "etykiety_kolumn_cw = df_cw.columns\n",
    "\n",
    "# Zadanie: Wyświetlenie typów danych kolumn DataFrame\n",
    "typy_danych_cw = df_cw.dtypes\n",
    "\n",
    "# Wyświetlenie wyników\n",
    "print(\"Kształt DataFrame:\", ksztalt_cw)\n",
    "print(\"Indeksy wierszy DataFrame:\", indeksy_cw)\n",
    "print(\"Etykiety kolumn DataFrame:\", etykiety_kolumn_cw)\n",
    "print(\"Typy danych kolumn DataFrame:\\n\", typy_danych_cw)"
   ]
  },
  {
   "cell_type": "markdown",
   "id": "684e3e2f",
   "metadata": {},
   "source": [
    "## Ćwiczenie 5. - Przydatne funkcje w Pandas"
   ]
  },
  {
   "cell_type": "raw",
   "id": "0ec00002",
   "metadata": {},
   "source": [
    "# Ćwiczenie: Użycie funkcji describe, info, head, tail, sample\n",
    "df_cw = pd.DataFrame({'A': [1, 2, 3, 4, 5],\n",
    "                      'B': ['a', 'b', 'c', 'd', 'e'],\n",
    "                      'C': [0.1, 0.5, 0.8, 0.3, 0.9]})\n",
    "\n",
    "# Zadanie: Uzyskanie opisu statystycznego dla DataFrame\n",
    "opis_statystyczny_cw = # Tu dodaj kod\n",
    "\n",
    "# Zadanie: Wyświetlenie informacji o danych w DataFrame\n",
    "informacje_o_danych_cw = # Tu dodaj kod\n",
    "\n",
    "# Zadanie: Wyświetlenie trzech pierwszych wierszy DataFrame\n",
    "pierwsze_wiersze_cw = # Tu dodaj kod\n",
    "\n",
    "# Zadanie: Wyświetlenie trzech ostatnich wierszy DataFrame\n",
    "ostatnie_wiersze_cw = # Tu dodaj kod\n",
    "\n",
    "# Zadanie: Wyświetlenie trzech losowych wierszy DataFrame\n",
    "losowe_wiersze_cw = # Tu dodaj kod\n",
    "\n",
    "# Wyświetlenie wyników\n",
    "print(\"Opis statystyczny DataFrame:\\n\", opis_statystyczny_cw)\n",
    "print(\"Informacje o danych w DataFrame:\\n\", informacje_o_danych_cw)\n",
    "print(\"Trzy pierwsze wiersze DataFrame:\\n\", pierwsze_wiersze_cw)\n",
    "print(\"Trzy ostatnie wiersze DataFrame:\\n\", ostatnie_wiersze_cw)\n",
    "print(\"Trzy losowe wiersze DataFrame:\\n\", losowe_wiersze_cw)"
   ]
  },
  {
   "cell_type": "markdown",
   "id": "457b4717",
   "metadata": {},
   "source": [
    "#### Rozwiązanie"
   ]
  },
  {
   "cell_type": "code",
   "execution_count": 5,
   "id": "acd3ec9a",
   "metadata": {},
   "outputs": [
    {
     "name": "stdout",
     "output_type": "stream",
     "text": [
      "<class 'pandas.core.frame.DataFrame'>\n",
      "RangeIndex: 5 entries, 0 to 4\n",
      "Data columns (total 3 columns):\n",
      " #   Column  Non-Null Count  Dtype  \n",
      "---  ------  --------------  -----  \n",
      " 0   A       5 non-null      int64  \n",
      " 1   B       5 non-null      object \n",
      " 2   C       5 non-null      float64\n",
      "dtypes: float64(1), int64(1), object(1)\n",
      "memory usage: 252.0+ bytes\n",
      "Opis statystyczny DataFrame:\n",
      "               A         C\n",
      "count  5.000000  5.000000\n",
      "mean   3.000000  0.520000\n",
      "std    1.581139  0.334664\n",
      "min    1.000000  0.100000\n",
      "25%    2.000000  0.300000\n",
      "50%    3.000000  0.500000\n",
      "75%    4.000000  0.800000\n",
      "max    5.000000  0.900000\n",
      "\n",
      "Informacje o danych w DataFrame:\n",
      " None\n",
      "\n",
      "Trzy pierwsze wiersze DataFrame:\n",
      "    A  B    C\n",
      "0  1  a  0.1\n",
      "1  2  b  0.5\n",
      "2  3  c  0.8\n",
      "\n",
      "Trzy ostatnie wiersze DataFrame:\n",
      "    A  B    C\n",
      "2  3  c  0.8\n",
      "3  4  d  0.3\n",
      "4  5  e  0.9\n",
      "\n",
      "Trzy losowe wiersze DataFrame:\n",
      "    A  B    C\n",
      "4  5  e  0.9\n",
      "1  2  b  0.5\n",
      "3  4  d  0.3\n"
     ]
    }
   ],
   "source": [
    "# Rozwiązanie: Użycie funkcji describe, info, head, tail, sample\n",
    "df_cw = pd.DataFrame({'A': [1, 2, 3, 4, 5],\n",
    "                      'B': ['a', 'b', 'c', 'd', 'e'],\n",
    "                      'C': [0.1, 0.5, 0.8, 0.3, 0.9]})\n",
    "\n",
    "# Opis statystyczny dla DataFrame\n",
    "opis_statystyczny_cw = df_cw.describe()\n",
    "\n",
    "# Informacje o danych w DataFrame\n",
    "informacje_o_danych_cw = df_cw.info()\n",
    "\n",
    "# Trzy pierwsze wiersze DataFrame\n",
    "pierwsze_wiersze_cw = df_cw.head(3)\n",
    "\n",
    "# Trzy ostatnie wiersze DataFrame\n",
    "ostatnie_wiersze_cw = df_cw.tail(3)\n",
    "\n",
    "# Trzy losowe wiersze DataFrame\n",
    "losowe_wiersze_cw = df_cw.sample(3)\n",
    "\n",
    "# Wyświetlenie wyników\n",
    "print(\"Opis statystyczny DataFrame:\\n\", opis_statystyczny_cw)\n",
    "print(\"\\nInformacje o danych w DataFrame:\\n\", informacje_o_danych_cw)\n",
    "print(\"\\nTrzy pierwsze wiersze DataFrame:\\n\", pierwsze_wiersze_cw)\n",
    "print(\"\\nTrzy ostatnie wiersze DataFrame:\\n\", ostatnie_wiersze_cw)\n",
    "print(\"\\nTrzy losowe wiersze DataFrame:\\n\", losowe_wiersze_cw)"
   ]
  },
  {
   "cell_type": "markdown",
   "id": "2e3ab1db",
   "metadata": {},
   "source": [
    "## Ćwiczenie 6. - Czyszczenie Wartości Zduplikowanych w Pandas"
   ]
  },
  {
   "cell_type": "raw",
   "id": "a7d5f957",
   "metadata": {},
   "source": [
    "# Ćwiczenie: Sprawdzenie duplikatów i usunięcie ich\n",
    "df_cw = pd.DataFrame({'A': [1, 2, 2, 3, 4],\n",
    "                      'B': ['a', 'b', 'b', 'c', 'd']})\n",
    "\n",
    "# Zadanie: Sprawdzenie duplikatów w całych wierszach\n",
    "duplikaty_wiersze_cw = # Tu dodaj kod\n",
    "\n",
    "# Zadanie: Sprawdzenie duplikatów w kolumnie 'A'\n",
    "duplikaty_kolumna_A_cw = # Tu dodaj kod\n",
    "\n",
    "# Zadanie: Usunięcie zduplikowanych wierszy\n",
    "df_bez_duplikatow_cw = # Tu dodaj kod\n",
    "\n",
    "# Zadanie: Usunięcie zduplikowanych wierszy bazując na kolumnie 'A'\n",
    "df_bez_duplikatow_kolumna_A_cw = # Tu dodaj kod\n",
    "\n",
    "# Wyświetlenie wyników\n",
    "print(\"Duplikaty wierszy:\\n\", duplikaty_wiersze_cw)\n",
    "print(\"Duplikaty w kolumnie 'A':\\n\", duplikaty_kolumna_A_cw)\n",
    "print(\"DataFrame bez duplikatów:\\n\", df_bez_duplikatow_cw)\n",
    "print(\"DataFrame bez duplikatów w kolumnie 'A':\\n\", df_bez_duplikatow_kolumna_A_cw)"
   ]
  },
  {
   "cell_type": "markdown",
   "id": "e40c40cd",
   "metadata": {},
   "source": [
    "#### Rozwiązanie"
   ]
  },
  {
   "cell_type": "code",
   "execution_count": 6,
   "id": "69e9a751",
   "metadata": {},
   "outputs": [
    {
     "name": "stdout",
     "output_type": "stream",
     "text": [
      "Duplikaty wierszy:\n",
      " 0    False\n",
      "1    False\n",
      "2     True\n",
      "3    False\n",
      "4    False\n",
      "dtype: bool\n",
      "Duplikaty w kolumnie 'A':\n",
      " 0    False\n",
      "1    False\n",
      "2     True\n",
      "3    False\n",
      "4    False\n",
      "Name: A, dtype: bool\n",
      "DataFrame bez duplikatów:\n",
      "    A  B\n",
      "0  1  a\n",
      "1  2  b\n",
      "3  3  c\n",
      "4  4  d\n",
      "DataFrame bez duplikatów w kolumnie 'A':\n",
      "    A  B\n",
      "0  1  a\n",
      "1  2  b\n",
      "3  3  c\n",
      "4  4  d\n"
     ]
    }
   ],
   "source": [
    "import pandas as pd\n",
    "\n",
    "# Przykładowe utworzenie DataFrame\n",
    "df_cw = pd.DataFrame({'A': [1, 2, 2, 3, 4],\n",
    "                      'B': ['a', 'b', 'b', 'c', 'd']})\n",
    "\n",
    "# Sprawdzenie duplikatów w całych wierszach\n",
    "duplikaty_wiersze_cw = df_cw.duplicated()\n",
    "\n",
    "# Sprawdzenie duplikatów w kolumnie 'A'\n",
    "duplikaty_kolumna_A_cw = df_cw['A'].duplicated()\n",
    "\n",
    "# Usunięcie zduplikowanych wierszy\n",
    "df_bez_duplikatow_cw = df_cw.drop_duplicates()\n",
    "\n",
    "# Usunięcie zduplikowanych wierszy bazując na kolumnie 'A'\n",
    "df_bez_duplikatow_kolumna_A_cw = df_cw.drop_duplicates(subset='A')\n",
    "\n",
    "# Wyświetlenie wyników\n",
    "print(\"Duplikaty wierszy:\\n\", duplikaty_wiersze_cw)\n",
    "print(\"Duplikaty w kolumnie 'A':\\n\", duplikaty_kolumna_A_cw)\n",
    "print(\"DataFrame bez duplikatów:\\n\", df_bez_duplikatow_cw)\n",
    "print(\"DataFrame bez duplikatów w kolumnie 'A':\\n\", df_bez_duplikatow_kolumna_A_cw)"
   ]
  },
  {
   "cell_type": "markdown",
   "id": "987e4804",
   "metadata": {},
   "source": [
    "## Ćwiczenie 7. - Wartości Brakujące - Różne Podejścia do Radzenia Sobie z Nimi w Pandas"
   ]
  },
  {
   "cell_type": "raw",
   "id": "fc17ab37",
   "metadata": {},
   "source": [
    "# Ćwiczenie: Radzenie sobie z wartościami brakującymi\n",
    "df_cw = pd.DataFrame({'A': [1, 2, None, 4],\n",
    "                      'B': ['a', 'b', 'c', None]})\n",
    "\n",
    "# Zadanie: Sprawdzenie wartości brakujących w DataFrame\n",
    "brakujace_wartosci_cw = # Tu dodaj kod\n",
    "\n",
    "# Zadanie: Usunięcie wierszy zawierających wartości brakujące\n",
    "df_bez_brakujacych_wierszy_cw = # Tu dodaj kod\n",
    "\n",
    "# Zadanie: Uzupełnienie wartości brakujących w kolumnie 'A' średnią wartością\n",
    "srednia_wartosc_A_cw = # Tu dodaj kod\n",
    "df_uzupelnione_cw = # Tu dodaj kod\n",
    "\n",
    "# Wyświetlenie wyników\n",
    "print(\"Wartości brakujące w DataFrame:\\n\", brakujace_wartosci_cw)\n",
    "print(\"DataFrame bez wierszy zawierających wartości brakujące:\\n\", df_bez_brakujacych_wierszy_cw)\n",
    "print(\"DataFrame po uzupełnieniu wartości brakujących:\\n\", df_uzupelnione_cw)"
   ]
  },
  {
   "cell_type": "markdown",
   "id": "a9322e86",
   "metadata": {},
   "source": [
    "#### Rozwiązanie"
   ]
  },
  {
   "cell_type": "code",
   "execution_count": 7,
   "id": "26f0c9c9",
   "metadata": {},
   "outputs": [
    {
     "name": "stdout",
     "output_type": "stream",
     "text": [
      "Wartości brakujące w DataFrame:\n",
      "        A      B\n",
      "0  False  False\n",
      "1  False  False\n",
      "2   True  False\n",
      "3  False   True\n",
      "DataFrame bez wierszy zawierających wartości brakujące:\n",
      "      A  B\n",
      "0  1.0  a\n",
      "1  2.0  b\n",
      "DataFrame po uzupełnieniu wartości brakujących:\n",
      "           A            B\n",
      "0  1.000000            a\n",
      "1  2.000000            b\n",
      "2  2.333333            c\n",
      "3  4.000000  brak_danych\n"
     ]
    }
   ],
   "source": [
    "# Rozwiązanie: Radzenie sobie z wartościami brakującymi\n",
    "df_cw = pd.DataFrame({'A': [1, 2, None, 4],\n",
    "                      'B': ['a', 'b', 'c', None]})\n",
    "\n",
    "# Sprawdzenie wartości brakujących w DataFrame\n",
    "brakujace_wartosci_cw = df_cw.isnull()\n",
    "\n",
    "# Usunięcie wierszy zawierających wartości brakujące\n",
    "df_bez_brakujacych_wierszy_cw = df_cw.dropna()\n",
    "\n",
    "# Uzupełnienie wartości brakujących w kolumnie 'A' średnią wartością\n",
    "srednia_wartosc_A_cw = df_cw['A'].mean()\n",
    "df_uzupelnione_cw = df_cw.fillna({'A': srednia_wartosc_A_cw, 'B': 'brak_danych'})\n",
    "\n",
    "# Wyświetlenie wyników\n",
    "print(\"Wartości brakujące w DataFrame:\\n\", brakujace_wartosci_cw)\n",
    "print(\"DataFrame bez wierszy zawierających wartości brakujące:\\n\", df_bez_brakujacych_wierszy_cw)\n",
    "print(\"DataFrame po uzupełnieniu wartości brakujących:\\n\", df_uzupelnione_cw)"
   ]
  },
  {
   "cell_type": "markdown",
   "id": "583ee98c",
   "metadata": {},
   "source": [
    "## Ćwiczenie 8. - Wykrywanie Wartości Odstających w Pandas"
   ]
  },
  {
   "cell_type": "raw",
   "id": "34096f2b",
   "metadata": {},
   "source": [
    "# Ćwiczenie: Wykrywanie i radzenie sobie z wartościami odstającymi\n",
    "df_cw = pd.DataFrame({'A': [1, 2, 3, 100],\n",
    "                      'B': [4, 5, 6, 200]})\n",
    "\n",
    "# Zadanie: Wykrycie wartości odstających na podstawie kwantyli\n",
    "kwantyl_25_cw = # Tu dodaj kod\n",
    "kwantyl_75_cw = # Tu dodaj kod\n",
    "rozstep_miedzykwartylowy_cw = # Tu dodaj kod\n",
    "\n",
    "# Zadanie: Definiowanie zakresu wartości \"normalnych\"\n",
    "dolny_limit_cw = # Tu dodaj kod\n",
    "gorny_limit_cw = # Tu dodaj kod\n",
    "\n",
    "# Zadanie: Wykrywanie wartości odstających\n",
    "odstajace_wartosci_cw = # Tu dodaj kod\n",
    "\n",
    "# Zadanie: Zastępowanie wartości odstających wartością graniczną\n",
    "df_bez_odstajacych_cw = # Tu dodaj kod\n",
    "\n",
    "# Wyświetlenie wyników\n",
    "print(\"Wartości odstające w DataFrame:\\n\", odstajace_wartosci_cw)\n",
    "print(\"DataFrame po zastąpieniu wartości odstających:\\n\", df_bez_odstajacych_cw)"
   ]
  },
  {
   "cell_type": "markdown",
   "id": "4a26976e",
   "metadata": {},
   "source": [
    "#### Rozwiązanie"
   ]
  },
  {
   "cell_type": "code",
   "execution_count": 8,
   "id": "860aa147",
   "metadata": {},
   "outputs": [
    {
     "name": "stdout",
     "output_type": "stream",
     "text": [
      "Wartości odstające w DataFrame:\n",
      "        A      B\n",
      "0  False  False\n",
      "1  False  False\n",
      "2  False  False\n",
      "3   True   True\n",
      "DataFrame po zastąpieniu wartości odstających:\n",
      "       A        B\n",
      "0   1.0    4.000\n",
      "1   2.0    5.000\n",
      "2   3.0    6.000\n",
      "3  65.5  129.125\n"
     ]
    }
   ],
   "source": [
    "# Rozwiązanie: Wykrywanie i radzenie sobie z wartościami odstającymi\n",
    "\n",
    "import pandas as pd\n",
    "\n",
    "# Przykładowe utworzenie DataFrame z wartościami odstającymi\n",
    "data = {'A': [1, 2, 3, 100],\n",
    "        'B': [4, 5, 6, 200]}\n",
    "df_cw = pd.DataFrame(data)\n",
    "\n",
    "# Wykrycie wartości odstających na podstawie kwantyli\n",
    "kwantyl_25_cw = df_cw.quantile(0.25)\n",
    "kwantyl_75_cw = df_cw.quantile(0.75)\n",
    "rozstep_miedzykwartylowy_cw = kwantyl_75_cw - kwantyl_25_cw\n",
    "\n",
    "# Definiowanie zakresu wartości \"normalnych\"\n",
    "dolny_limit_cw = kwantyl_25_cw - 1.5 * rozstep_miedzykwartylowy_cw\n",
    "gorny_limit_cw = kwantyl_75_cw + 1.5 * rozstep_miedzykwartylowy_cw\n",
    "\n",
    "# Wykrywanie wartości odstających\n",
    "odstajace_wartosci_cw = (df_cw < dolny_limit_cw) | (df_cw > gorny_limit_cw)\n",
    "\n",
    "# Zastępowanie wartości odstających wartością graniczną\n",
    "df_bez_odstajacych_cw = df_cw.mask(odstajace_wartosci_cw, gorny_limit_cw, axis=1)\n",
    "\n",
    "# Wyświetlenie wyników\n",
    "print(\"Wartości odstające w DataFrame:\\n\", odstajace_wartosci_cw)\n",
    "print(\"DataFrame po zastąpieniu wartości odstających:\\n\", df_bez_odstajacych_cw)"
   ]
  },
  {
   "cell_type": "markdown",
   "id": "2dfda2ac",
   "metadata": {},
   "source": [
    "## Ćwiczenie 9. - Sortowanie Danych w Pandas"
   ]
  },
  {
   "cell_type": "raw",
   "id": "0b7f0ee7",
   "metadata": {},
   "source": [
    "# Ćwiczenie: Sortowanie danych w Pandas\n",
    "df_cw = pd.DataFrame({'A': [3, 1, 4, 2],\n",
    "                      'B': ['c', 'a', 'd', 'b']})\n",
    "\n",
    "# Zadanie: Sortowanie wierszy według kolumny 'A'\n",
    "df_posortowany_cw = # Tu dodaj kod\n",
    "\n",
    "# Zadanie: Sortowanie kolumn według etykiet\n",
    "df_kolumny_posortowane_cw = # Tu dodaj kod\n",
    "\n",
    "# Zadanie: Sortowanie wierszy malejąco według kolumny 'A'\n",
    "df_posortowany_malejaco_cw = # Tu dodaj kod\n",
    "\n",
    "# Wyświetlenie wyników\n",
    "print(\"DataFrame po posortowaniu wierszy według kolumny 'A':\\n\", df_posortowany_cw)\n",
    "print(\"DataFrame po posortowaniu kolumn według etykiet:\\n\", df_kolumny_posortowane_cw)\n",
    "print(\"DataFrame po posortowaniu malejąco według kolumny 'A':\\n\", df_posortowany_malejaco_cw)"
   ]
  },
  {
   "cell_type": "markdown",
   "id": "0cf6f202",
   "metadata": {},
   "source": [
    "#### Rozwiązanie"
   ]
  },
  {
   "cell_type": "code",
   "execution_count": 9,
   "id": "592a59b2",
   "metadata": {},
   "outputs": [
    {
     "name": "stdout",
     "output_type": "stream",
     "text": [
      "DataFrame po posortowaniu wierszy według kolumny 'A':\n",
      "    A  B\n",
      "1  1  a\n",
      "3  2  b\n",
      "0  3  c\n",
      "2  4  d\n",
      "DataFrame po posortowaniu kolumn według etykiet:\n",
      "    A  B\n",
      "0  3  c\n",
      "1  1  a\n",
      "2  4  d\n",
      "3  2  b\n",
      "DataFrame po posortowaniu malejąco według kolumny 'A':\n",
      "    A  B\n",
      "2  4  d\n",
      "0  3  c\n",
      "3  2  b\n",
      "1  1  a\n"
     ]
    }
   ],
   "source": [
    "# Rozwiązanie Ćwiczenia: Sortowanie danych w Pandas\n",
    "df_cw = pd.DataFrame({'A': [3, 1, 4, 2],\n",
    "                      'B': ['c', 'a', 'd', 'b']})\n",
    "\n",
    "# Zadanie: Sortowanie wierszy według kolumny 'A'\n",
    "df_posortowany_cw = df_cw.sort_values(by='A')\n",
    "\n",
    "# Zadanie: Sortowanie kolumn według etykiet\n",
    "df_kolumny_posortowane_cw = df_cw.sort_index(axis=1)\n",
    "\n",
    "# Zadanie: Sortowanie wierszy malejąco według kolumny 'A'\n",
    "df_posortowany_malejaco_cw = df_cw.sort_values(by='A', ascending=False)\n",
    "\n",
    "# Wyświetlenie wyników\n",
    "print(\"DataFrame po posortowaniu wierszy według kolumny 'A':\\n\", df_posortowany_cw)\n",
    "print(\"DataFrame po posortowaniu kolumn według etykiet:\\n\", df_kolumny_posortowane_cw)\n",
    "print(\"DataFrame po posortowaniu malejąco według kolumny 'A':\\n\", df_posortowany_malejaco_cw)"
   ]
  },
  {
   "cell_type": "markdown",
   "id": "efffc2de",
   "metadata": {},
   "source": [
    "## Ćwiczenie 10. - Filtrowanie Danych w Pandas"
   ]
  },
  {
   "cell_type": "raw",
   "id": "29ed5e85",
   "metadata": {},
   "source": [
    "# Ćwiczenie: Filtrowanie danych w Pandas\n",
    "df_cw = pd.DataFrame({'A': [1, 2, 3, 4],\n",
    "                      'B': ['a', 'b', 'c', 'd']}, index=['x', 'y', 'z', 'w'])\n",
    "\n",
    "# Zadanie: Filtrowanie wierszy o indeksach 'x' i 'y' oraz kolumny 'A'\n",
    "df_filtr_loc_cw = # Tu dodaj kod\n",
    "\n",
    "# Zadanie: Filtrowanie pierwszych dwóch wierszy oraz pierwszej kolumny za pomocą iloc\n",
    "df_filtr_iloc_cw = # Tu dodaj kod\n",
    "\n",
    "# Zadanie: Filtrowanie wierszy, gdzie wartość w kolumnie 'A' jest większa niż 2 za pomocą query\n",
    "df_filtr_query_cw = # Tu dodaj kod\n",
    "\n",
    "# Zadanie: Filtrowanie, zwracając nowy DataFrame z wartościami, które spełniają warunek, a reszta to NaN za pomocą where\n",
    "df_filtr_where_cw = # Tu dodaj kod\n",
    "\n",
    "# Zadanie: Filtrowanie wierszy, gdzie wartość w kolumnie 'B' jest jedną z określonych wartości za pomocą isin\n",
    "df_filtr_isin_cw = # Tu dodaj kod\n",
    "\n",
    "# Zadanie: Filtrowanie wierszy, gdzie wartość w kolumnie 'A' jest NaN za pomocą isnull\n",
    "df_filtr_isnull_cw = # Tu dodaj kod\n",
    "\n",
    "# Zadanie: Filtrowanie wierszy, gdzie wartość w kolumnie 'A' nie jest NaN za pomocą notnull\n",
    "df_filtr_notnull_cw = # Tu dodaj kod\n",
    "\n",
    "# Wyświetlenie wyników\n",
    "print(\"Wynik filtrowania za pomocą loc:\\n\", df_filtr_loc_cw)\n",
    "print(\"Wynik filtrowania za pomocą iloc:\\n\", df_filtr_iloc_cw)\n",
    "print(\"Wynik filtrowania za pomocą query:\\n\", df_filtr_query_cw)\n",
    "print(\"Wynik filtrowania za pomocą where:\\n\", df_filtr_where_cw)\n",
    "print(\"Wynik filtrowania za pomocą isin:\\n\", df_filtr_isin_cw)\n",
    "print(\"Wynik filtrowania za pomocą isnull:\\n\", df_filtr_isnull_cw)\n",
    "print(\"Wynik filtrowania za pomocą notnull:\\n\", df_filtr_notnull_cw)"
   ]
  },
  {
   "cell_type": "markdown",
   "id": "b3734913",
   "metadata": {},
   "source": [
    "#### Rozwiązanie"
   ]
  },
  {
   "cell_type": "code",
   "execution_count": 10,
   "id": "cd4f176a",
   "metadata": {},
   "outputs": [
    {
     "name": "stdout",
     "output_type": "stream",
     "text": [
      "Wynik filtrowania za pomocą loc:\n",
      " x    1\n",
      "y    2\n",
      "Name: A, dtype: int64 \n",
      "\n",
      "----------------------\n",
      "\n",
      "Wynik filtrowania za pomocą iloc:\n",
      " x    1\n",
      "y    2\n",
      "Name: A, dtype: int64 \n",
      "\n",
      "----------------------\n",
      "\n",
      "Wynik filtrowania za pomocą query:\n",
      "    A  B\n",
      "z  3  c\n",
      "w  4  d \n",
      "\n",
      "----------------------\n",
      "\n",
      "Wynik filtrowania za pomocą where:\n",
      "      A    B\n",
      "x  NaN  NaN\n",
      "y  NaN  NaN\n",
      "z  3.0    c\n",
      "w  4.0    d \n",
      "\n",
      "----------------------\n",
      "\n",
      "Wynik filtrowania za pomocą isin:\n",
      "    A  B\n",
      "x  1  a\n",
      "z  3  c \n",
      "\n",
      "----------------------\n",
      "\n",
      "Wynik filtrowania za pomocą isnull:\n",
      " Empty DataFrame\n",
      "Columns: [A, B]\n",
      "Index: [] \n",
      "\n",
      "----------------------\n",
      "\n",
      "Wynik filtrowania za pomocą notnull:\n",
      "    A  B\n",
      "x  1  a\n",
      "y  2  b\n",
      "z  3  c\n",
      "w  4  d \n",
      "\n",
      "----------------------\n",
      "\n"
     ]
    }
   ],
   "source": [
    "# Rozwiązanie: Filtrowanie danych w Pandas\n",
    "df_cw = pd.DataFrame({'A': [1, 2, 3, 4],\n",
    "                      'B': ['a', 'b', 'c', 'd']}, index=['x', 'y', 'z', 'w'])\n",
    "\n",
    "# Filtrowanie wierszy o indeksach 'x' i 'y' oraz kolumny 'A'\n",
    "df_filtr_loc_cw = df_cw.loc[['x', 'y'], 'A']\n",
    "\n",
    "# Filtrowanie pierwszych dwóch wierszy oraz pierwszej kolumny za pomocą ilocdf_cw\n",
    "df_filtr_iloc_cw = df_cw.iloc[:2, 0]\n",
    "\n",
    "# Filtrowanie wierszy, gdzie wartość w kolumnie 'A' jest większa niż 2 za pomocą query\n",
    "df_filtr_query_cw = df_cw.query('A > 2')\n",
    "\n",
    "# Filtrowanie, zwracając nowy DataFrame z wartościami, które spełniają warunek, a reszta to NaN za pomocą where\n",
    "df_filtr_where_cw = df_cw.where(df_cw['A'] > 2)\n",
    "\n",
    "# Filtrowanie wierszy, gdzie wartość w kolumnie 'B' jest jedną z określonych wartości za pomocą isin\n",
    "df_filtr_isin_cw = df_cw[df_cw['B'].isin(['a', 'c'])]\n",
    "\n",
    "# Filtrowanie wierszy, gdzie wartość w kolumnie 'A' jest NaN za pomocą isnull\n",
    "df_filtr_isnull_cw = df_cw[df_cw['A'].isnull()]\n",
    "\n",
    "# Filtrowanie wierszy, gdzie wartość w kolumnie 'A' nie jest NaN za pomocą notnull\n",
    "df_filtr_notnull_cw = df_cw[df_cw['A'].notnull()]\n",
    "\n",
    "# Wyświetlenie wyników\n",
    "print(\"Wynik filtrowania za pomocą loc:\\n\", df_filtr_loc_cw, '\\n\\n----------------------\\n')\n",
    "print(\"Wynik filtrowania za pomocą iloc:\\n\", df_filtr_iloc_cw, '\\n\\n----------------------\\n')\n",
    "print(\"Wynik filtrowania za pomocą query:\\n\", df_filtr_query_cw, '\\n\\n----------------------\\n')\n",
    "print(\"Wynik filtrowania za pomocą where:\\n\", df_filtr_where_cw, '\\n\\n----------------------\\n')\n",
    "print(\"Wynik filtrowania za pomocą isin:\\n\", df_filtr_isin_cw, '\\n\\n----------------------\\n')\n",
    "print(\"Wynik filtrowania za pomocą isnull:\\n\", df_filtr_isnull_cw, '\\n\\n----------------------\\n')\n",
    "print(\"Wynik filtrowania za pomocą notnull:\\n\", df_filtr_notnull_cw, '\\n\\n----------------------\\n')"
   ]
  },
  {
   "cell_type": "markdown",
   "id": "f4624f28",
   "metadata": {},
   "source": [
    "## Ćwiczenie 11. - Tabele Przestawne w Pandas"
   ]
  },
  {
   "cell_type": "raw",
   "id": "a9b08889",
   "metadata": {},
   "source": [
    "# Ćwiczenie: Tworzenie tabeli przestawnej w Pandas\n",
    "df_cw = pd.DataFrame({'Category': ['A', 'B', 'A', 'B', 'A', 'B'],\n",
    "                      'Value': [10, 20, 30, 40, 50, 60]})\n",
    "\n",
    "# Zadanie: Stwórz tabelę przestawną na podstawie danych w df_cw\n",
    "table_przestawna_cw = # Tu dodaj kod\n",
    "\n",
    "# Zadanie: Określ indeksy i kolumny dla tabeli przestawnej\n",
    "table_przestawna_indeks_kolumny_cw = # Tu dodaj kod\n",
    "\n",
    "# Zadanie: Określ funkcję agregującą (np. suma) dla tabeli przestawnej\n",
    "table_przestawna_suma_cw = # Tu dodaj kod\n",
    "\n",
    "# Zadanie: Uzupełnij wartości brakujące w tabeli przestawnej (np. wartością 0)\n",
    "table_przestawna_uzupelniona_cw = # Tu dodaj kod\n",
    "\n",
    "# Wyświetlenie wyników\n",
    "print(\"Tabela przestawna:\\n\", table_przestawna_cw)\n",
    "print(\"Tabela przestawna z określonymi indeksami i kolumnami:\\n\", table_przestawna_indeks_kolumny_cw)\n",
    "print(\"Tabela przestawna z określoną funkcją agregującą (suma):\\n\", table_przestawna_suma_cw)\n",
    "print(\"Tabela przestawna z uzupełnionymi wartościami brakującymi:\\n\", table_przestawna_uzupelniona_cw)"
   ]
  },
  {
   "cell_type": "markdown",
   "id": "16c883b3",
   "metadata": {},
   "source": [
    "#### Rozwiązanie"
   ]
  },
  {
   "cell_type": "code",
   "execution_count": 11,
   "id": "3f92df64",
   "metadata": {},
   "outputs": [
    {
     "name": "stdout",
     "output_type": "stream",
     "text": [
      "Tabela przestawna:\n",
      " Category   A    B\n",
      "Value     90  120\n",
      "Tabela przestawna z określonymi indeksami i kolumnami:\n",
      " Category     A      B\n",
      "Category             \n",
      "A         90.0    NaN\n",
      "B          NaN  120.0 \n",
      "\n",
      "----------------------\n",
      "\n",
      "Tabela przestawna z określoną funkcją agregującą (suma):\n",
      "           Value\n",
      "Category       \n",
      "A            90\n",
      "B           120 \n",
      "\n",
      "----------------------\n",
      "\n",
      "Tabela przestawna z uzupełnionymi wartościami brakującymi:\n",
      "           Value\n",
      "Category       \n",
      "A            90\n",
      "B           120 \n",
      "\n",
      "----------------------\n",
      "\n"
     ]
    }
   ],
   "source": [
    "# Rozwiązanie: Tworzenie tabeli przestawnej w Pandas\n",
    "df_cw = pd.DataFrame({'Category': ['A', 'B', 'A', 'B', 'A', 'B'],\n",
    "                      'Value': [10, 20, 30, 40, 50, 60]})\n",
    "\n",
    "# Tworzenie tabeli przestawnej\n",
    "table_przestawna_cw = pd.pivot_table(df_cw, values='Value', columns='Category', aggfunc='sum')\n",
    "\n",
    "# Określanie indeksów i kolumn dla tabeli przestawnej\n",
    "table_przestawna_indeks_kolumny_cw = pd.pivot_table(df_cw, values='Value', index='Category', columns='Category', aggfunc='sum')\n",
    "\n",
    "# Określanie funkcji agregującej (np. suma) dla tabeli przestawnej\n",
    "table_przestawna_suma_cw = pd.pivot_table(df_cw, values='Value', index='Category', aggfunc='sum')\n",
    "\n",
    "# Uzupełnianie wartości brakujących w tabeli przestawnej (np. wartością 0)\n",
    "table_przestawna_uzupelniona_cw = pd.pivot_table(df_cw, values='Value', index='Category', fill_value=0, aggfunc='sum')\n",
    "\n",
    "# Wyświetlenie wyników\n",
    "print(\"Tabela przestawna:\\n\", table_przestawna_cw)\n",
    "print(\"Tabela przestawna z określonymi indeksami i kolumnami:\\n\", table_przestawna_indeks_kolumny_cw, '\\n\\n----------------------\\n')\n",
    "print(\"Tabela przestawna z określoną funkcją agregującą (suma):\\n\", table_przestawna_suma_cw, '\\n\\n----------------------\\n')\n",
    "print(\"Tabela przestawna z uzupełnionymi wartościami brakującymi:\\n\", table_przestawna_uzupelniona_cw, '\\n\\n----------------------\\n')"
   ]
  },
  {
   "cell_type": "markdown",
   "id": "fe83e229",
   "metadata": {},
   "source": [
    "## Ćwiczenie 12. - Grupowanie Danych w Pandas"
   ]
  },
  {
   "cell_type": "raw",
   "id": "a9f4d111",
   "metadata": {},
   "source": [
    "# Ćwiczenie: Grupowanie danych w Pandas\n",
    "df_cw = pd.DataFrame({'Category': ['A', 'B', 'A', 'B', 'A', 'B'],\n",
    "                      'Value': [10, 20, 30, 40, 50, 60]})\n",
    "\n",
    "# Zadanie: Grupowanie na podstawie kolumny 'Category' i obliczanie sumy dla każdej grupy\n",
    "grupowanie_jedna_kolumna_cw = # Tu dodaj kod\n",
    "\n",
    "# Zadanie: Grupowanie na podstawie wielu kolumn i obliczanie sumy dla każdej grupy\n",
    "grupowanie_wiele_kolumn_cw = # Tu dodaj kod\n",
    "\n",
    "# Zadanie: Grupowanie i obliczanie różnych statystyk dla każdej grupy\n",
    "grupowanie_statystyki_cw = # Tu dodaj kod\n",
    "\n",
    "# Wyświetlenie wyników\n",
    "print(\"Wynik grupowania na podstawie jednej kolumny:\\n\", grupowanie_jedna_kolumna_cw)\n",
    "print(\"Wynik grupowania na podstawie wielu kolumn:\\n\", grupowanie_wiele_kolumn_cw)\n",
    "print(\"Wynik grupowania z różnymi operacjami dla każdej grupy:\\n\", grupowanie_statystyki_cw)"
   ]
  },
  {
   "cell_type": "markdown",
   "id": "f0f8368d",
   "metadata": {},
   "source": [
    "#### Rozwiązanie"
   ]
  },
  {
   "cell_type": "code",
   "execution_count": 12,
   "id": "6c1a285c",
   "metadata": {},
   "outputs": [
    {
     "name": "stdout",
     "output_type": "stream",
     "text": [
      "Wynik grupowania na podstawie jednej kolumny:\n",
      "           Value\n",
      "Category       \n",
      "A            90\n",
      "B           120 \n",
      "\n",
      "----------------------\n",
      "\n",
      "Wynik grupowania na podstawie wielu kolumn:\n",
      "   Category  Value  Count\n",
      "0        A     10      1\n",
      "1        A     30      1\n",
      "2        A     50      1\n",
      "3        B     20      1\n",
      "4        B     40      1\n",
      "5        B     60      1 \n",
      "\n",
      "----------------------\n",
      "\n",
      "Wynik grupowania z różnymi operacjami dla każdej grupy:\n",
      "          Value            \n",
      "           sum  mean count\n",
      "Category                  \n",
      "A           90  30.0     3\n",
      "B          120  40.0     3 \n",
      "\n",
      "----------------------\n",
      "\n"
     ]
    }
   ],
   "source": [
    "# Rozwiązanie Ćwiczenia: Grupowanie danych w Pandas\n",
    "df_cw = pd.DataFrame({'Category': ['A', 'B', 'A', 'B', 'A', 'B'],\n",
    "                      'Value': [10, 20, 30, 40, 50, 60]})\n",
    "\n",
    "# Zadanie: Grupowanie na podstawie kolumny 'Category' i obliczanie sumy dla każdej grupy\n",
    "grupowanie_jedna_kolumna_cw = df_cw.groupby('Category').sum()\n",
    "\n",
    "# Zadanie: Grupowanie na podstawie wielu kolumn i obliczanie sumy dla każdej grupy\n",
    "grupowanie_wiele_kolumn_cw = df_cw.groupby(['Category', 'Value']).size().reset_index(name='Count')\n",
    "\n",
    "# Zadanie: Grupowanie i obliczanie różnych statystyk dla każdej grupy\n",
    "grupowanie_statystyki_cw = df_cw.groupby('Category').agg({'Value': ['sum', 'mean', 'count']})\n",
    "\n",
    "# Wyświetlenie wyników\n",
    "print(\"Wynik grupowania na podstawie jednej kolumny:\\n\", grupowanie_jedna_kolumna_cw, '\\n\\n----------------------\\n')\n",
    "print(\"Wynik grupowania na podstawie wielu kolumn:\\n\", grupowanie_wiele_kolumn_cw, '\\n\\n----------------------\\n')\n",
    "print(\"Wynik grupowania z różnymi operacjami dla każdej grupy:\\n\", grupowanie_statystyki_cw, '\\n\\n----------------------\\n')"
   ]
  },
  {
   "cell_type": "markdown",
   "id": "d94d89f7",
   "metadata": {},
   "source": [
    "## Ćwiczenie 13. - Łączenie Danych w Pandas"
   ]
  },
  {
   "cell_type": "raw",
   "id": "d67d88fa",
   "metadata": {},
   "source": [
    "# Ćwiczenie: Łączenie danych w Pandas\n",
    "df1_cw = pd.DataFrame({'ID': [1, 2, 3],\n",
    "                       'Value1': ['A', 'B', 'C']})\n",
    "\n",
    "df2_cw = pd.DataFrame({'ID': [2, 3, 4],\n",
    "                       'Value2': ['X', 'Y', 'Z']})\n",
    "\n",
    "# Zadanie: Łączenie na podstawie wspólnej kolumny 'ID'\n",
    "laczenie_kolumna_cw = # Tu dodaj kod\n",
    "\n",
    "# Zadanie: Przykładowe utworzenie DataFrame'ów do łączenia na podstawie indeksu\n",
    "df3_cw = pd.DataFrame({'Value3': ['M', 'N', 'O']}, index=[1, 2, 3])\n",
    "\n",
    "# Zadanie: Łączenie na podstawie wspólnego indeksu\n",
    "laczenie_indeks_cw = # Tu dodaj kod\n",
    "\n",
    "# Zadanie: Łączenie na podstawie wspólnego indeksu w kierunku pionowym\n",
    "laczenie_pionowe_cw = # Tu dodaj kod\n",
    "\n",
    "# Wyświetlenie wyników\n",
    "print(\"Wynik łączenia na podstawie wspólnej kolumny:\\n\", laczenie_kolumna_cw)\n",
    "print(\"Wynik łączenia na podstawie wspólnego indeksu:\\n\", laczenie_indeks_cw)\n",
    "print(\"Wynik łączenia na podstawie wspólnego indeksu w kierunku pionowym:\\n\", laczenie_pionowe_cw)"
   ]
  },
  {
   "cell_type": "markdown",
   "id": "55f4dbd3",
   "metadata": {},
   "source": [
    "#### Rozwiązanie"
   ]
  },
  {
   "cell_type": "code",
   "execution_count": 14,
   "id": "8859a10b",
   "metadata": {},
   "outputs": [
    {
     "name": "stdout",
     "output_type": "stream",
     "text": [
      "Wynik łączenia na podstawie wspólnej kolumny:\n",
      "    ID Value1 Value2\n",
      "0   2      B      X\n",
      "1   3      C      Y \n",
      "\n",
      "----------------------\n",
      "\n",
      "Wynik łączenia na podstawie wspólnego indeksu:\n",
      "     ID Value1 Value3\n",
      "0  1.0      A    NaN\n",
      "1  2.0      B      M\n",
      "2  3.0      C      N\n",
      "3  NaN    NaN      O \n",
      "\n",
      "----------------------\n",
      "\n",
      "Wynik łączenia na podstawie wspólnego indeksu w kierunku pionowym:\n",
      "     ID Value1 Value3\n",
      "0  1.0      A    NaN\n",
      "1  2.0      B    NaN\n",
      "2  3.0      C    NaN\n",
      "1  NaN    NaN      M\n",
      "2  NaN    NaN      N\n",
      "3  NaN    NaN      O \n",
      "\n",
      "----------------------\n",
      "\n"
     ]
    }
   ],
   "source": [
    "# Rozwiązanie: Łączenie danych w Pandas\n",
    "df1_cw = pd.DataFrame({'ID': [1, 2, 3],\n",
    "                       'Value1': ['A', 'B', 'C']})\n",
    "\n",
    "df2_cw = pd.DataFrame({'ID': [2, 3, 4],\n",
    "                       'Value2': ['X', 'Y', 'Z']})\n",
    "\n",
    "# Rozwiązanie: Łączenie na podstawie wspólnej kolumny 'ID'\n",
    "laczenie_kolumna_cw = pd.merge(df1_cw, df2_cw, on='ID')\n",
    "\n",
    "# Przykładowe utworzenie DataFrame'ów do łączenia na podstawie indeksu\n",
    "df3_cw = pd.DataFrame({'Value3': ['M', 'N', 'O']}, index=[1, 2, 3])\n",
    "\n",
    "# Rozwiązanie: Łączenie na podstawie wspólnego indeksu\n",
    "laczenie_indeks_cw = pd.concat([df1_cw, df3_cw], axis=1)\n",
    "\n",
    "# Rozwiązanie: Łączenie na podstawie wspólnego indeksu w kierunku pionowym\n",
    "laczenie_pionowe_cw = pd.concat([df1_cw, df3_cw], axis=0)\n",
    "\n",
    "# Wyświetlenie wyników\n",
    "print(\"Wynik łączenia na podstawie wspólnej kolumny:\\n\", laczenie_kolumna_cw, '\\n\\n----------------------\\n')\n",
    "print(\"Wynik łączenia na podstawie wspólnego indeksu:\\n\", laczenie_indeks_cw, '\\n\\n----------------------\\n')\n",
    "print(\"Wynik łączenia na podstawie wspólnego indeksu w kierunku pionowym:\\n\", laczenie_pionowe_cw, '\\n\\n----------------------\\n')"
   ]
  },
  {
   "cell_type": "markdown",
   "id": "f78280f1",
   "metadata": {},
   "source": [
    "## Ćwiczenie 14. - Tworzenie Nowych Atrybutów w Pandas"
   ]
  },
  {
   "cell_type": "raw",
   "id": "a255a087",
   "metadata": {},
   "source": [
    "# Ćwiczenie: Tworzenie nowych atrybutów w Pandas\n",
    "df_cw = pd.DataFrame({'Value1': [10, 20, 30],\n",
    "                      'Value2': [5, 15, 25]})\n",
    "\n",
    "# Zadanie: Dodaj nowy atrybut 'Multiply' na podstawie iloczynu istniejących kolumn\n",
    "df_cw['Multiply'] = # Tu dodaj kod\n",
    "\n",
    "# Zadanie: Dodaj nowy atrybut 'Status' na podstawie warunku logicznego (np. > 50)\n",
    "df_cw['Status'] = # Tu dodaj kod\n",
    "\n",
    "# Zadanie: Utwórz nowy atrybut 'Grade' przy użyciu funkcji (np. A, B, C)\n",
    "def categorize_grade(multiply_value):\n",
    "    # Tu dodaj kod\n",
    "\n",
    "df_cw['Grade'] = # Tu dodaj kod\n",
    "\n",
    "# Wyświetlenie wyników\n",
    "print(\"DataFrame z dodanym atrybutem 'Multiply':\\n\", df_cw)\n",
    "print(\"DataFrame z dodanym atrybutem 'Status':\\n\", df_cw)\n",
    "print(\"DataFrame z dodanym atrybutem 'Grade':\\n\", df_cw)"
   ]
  },
  {
   "cell_type": "markdown",
   "id": "aa268cef",
   "metadata": {},
   "source": [
    "#### Rozwiązanie"
   ]
  },
  {
   "cell_type": "code",
   "execution_count": 15,
   "id": "b9ce939a",
   "metadata": {},
   "outputs": [
    {
     "name": "stdout",
     "output_type": "stream",
     "text": [
      "DataFrame z dodanym atrybutem 'Multiply':\n",
      "    Value1  Value2  Multiply Status Grade\n",
      "0      10       5        50    Low     C\n",
      "1      20      15       300   High     B\n",
      "2      30      25       750   High     A \n",
      "\n",
      "----------------------\n",
      "\n",
      "DataFrame z dodanym atrybutem 'Status':\n",
      "    Value1  Value2  Multiply Status Grade\n",
      "0      10       5        50    Low     C\n",
      "1      20      15       300   High     B\n",
      "2      30      25       750   High     A \n",
      "\n",
      "----------------------\n",
      "\n",
      "DataFrame z dodanym atrybutem 'Grade':\n",
      "    Value1  Value2  Multiply Status Grade\n",
      "0      10       5        50    Low     C\n",
      "1      20      15       300   High     B\n",
      "2      30      25       750   High     A \n",
      "\n",
      "----------------------\n",
      "\n"
     ]
    }
   ],
   "source": [
    "# Rozwiązanie: Tworzenie nowych atrybutów w Pandas\n",
    "df_cw = pd.DataFrame({'Value1': [10, 20, 30],\n",
    "                      'Value2': [5, 15, 25]})\n",
    "\n",
    "# Dodaj nowy atrybut 'Multiply' na podstawie iloczynu istniejących kolumn\n",
    "df_cw['Multiply'] = df_cw['Value1'] * df_cw['Value2']\n",
    "\n",
    "# Dodaj nowy atrybut 'Status' na podstawie warunku logicznego (np. > 50)\n",
    "df_cw['Status'] = ['High' if x > 50 else 'Low' for x in df_cw['Multiply']]\n",
    "\n",
    "# Utwórz nowy atrybut 'Grade' przy użyciu funkcji (np. A, B, C)\n",
    "def categorize_grade(multiply_value):\n",
    "    if multiply_value > 500:\n",
    "        return 'A'\n",
    "    elif multiply_value > 200:\n",
    "        return 'B'\n",
    "    else:\n",
    "        return 'C'\n",
    "\n",
    "df_cw['Grade'] = df_cw['Multiply'].apply(categorize_grade)\n",
    "\n",
    "# Wyświetlenie wyników\n",
    "print(\"DataFrame z dodanym atrybutem 'Multiply':\\n\", df_cw, '\\n\\n----------------------\\n')\n",
    "print(\"DataFrame z dodanym atrybutem 'Status':\\n\", df_cw, '\\n\\n----------------------\\n')\n",
    "print(\"DataFrame z dodanym atrybutem 'Grade':\\n\", df_cw, '\\n\\n----------------------\\n')"
   ]
  },
  {
   "cell_type": "code",
   "execution_count": null,
   "id": "b001b825",
   "metadata": {},
   "outputs": [],
   "source": []
  }
 ],
 "metadata": {
  "kernelspec": {
   "display_name": "Python 3 (ipykernel)",
   "language": "python",
   "name": "python3"
  },
  "language_info": {
   "codemirror_mode": {
    "name": "ipython",
    "version": 3
   },
   "file_extension": ".py",
   "mimetype": "text/x-python",
   "name": "python",
   "nbconvert_exporter": "python",
   "pygments_lexer": "ipython3",
   "version": "3.11.5"
  }
 },
 "nbformat": 4,
 "nbformat_minor": 5
}
