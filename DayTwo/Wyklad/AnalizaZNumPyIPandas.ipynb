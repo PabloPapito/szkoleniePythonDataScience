{
 "cells": [
  {
   "cell_type": "markdown",
   "id": "9b6d1606",
   "metadata": {},
   "source": [
    "# Analiza z NumPy i Pandas"
   ]
  },
  {
   "cell_type": "markdown",
   "id": "a2b448dc",
   "metadata": {},
   "source": [
    "## 1. Tablice Jedno i Dwuwymiarowe w NumPy oraz Podstawowe Operacje"
   ]
  },
  {
   "cell_type": "markdown",
   "id": "b6048343",
   "metadata": {},
   "source": [
    "#### Tworzenie Tablic w NumPy:"
   ]
  },
  {
   "cell_type": "code",
   "execution_count": 1,
   "id": "b19ed8f0",
   "metadata": {},
   "outputs": [],
   "source": [
    "import numpy as np\n",
    "\n",
    "# Jednowymiarowa tablica\n",
    "tablica_1d = np.array([1, 2, 3, 4, 5])\n",
    "\n",
    "# Dwuwymiarowa tablica\n",
    "tablica_2d = np.array([[1, 2, 3], [4, 5, 6], [7, 8, 9]])"
   ]
  },
  {
   "cell_type": "code",
   "execution_count": 2,
   "id": "af6c60b9",
   "metadata": {},
   "outputs": [
    {
     "name": "stdout",
     "output_type": "stream",
     "text": [
      "[1 2 3 4 5]\n"
     ]
    }
   ],
   "source": [
    "print(tablica_1d)"
   ]
  },
  {
   "cell_type": "code",
   "execution_count": 3,
   "id": "fe91e39d",
   "metadata": {},
   "outputs": [
    {
     "name": "stdout",
     "output_type": "stream",
     "text": [
      "[[1 2 3]\n",
      " [4 5 6]\n",
      " [7 8 9]]\n"
     ]
    }
   ],
   "source": [
    "print(tablica_2d)"
   ]
  },
  {
   "cell_type": "markdown",
   "id": "f12d0a39",
   "metadata": {},
   "source": [
    "#### Podstawowe Operacje na Tablicach NumPy:"
   ]
  },
  {
   "cell_type": "code",
   "execution_count": 4,
   "id": "97afec71",
   "metadata": {},
   "outputs": [],
   "source": [
    "# Podstawowe Operacje Matematyczne:\n",
    "# Dodawanie\n",
    "wynik_dodawania = tablica_1d + 10\n",
    "\n",
    "# Mnożenie\n",
    "wynik_mnożenia = tablica_2d * 2"
   ]
  },
  {
   "cell_type": "code",
   "execution_count": 5,
   "id": "d681cff5",
   "metadata": {},
   "outputs": [
    {
     "name": "stdout",
     "output_type": "stream",
     "text": [
      "[11 12 13 14 15]\n"
     ]
    }
   ],
   "source": [
    "print(wynik_dodawania)"
   ]
  },
  {
   "cell_type": "code",
   "execution_count": 6,
   "id": "2d7341e6",
   "metadata": {},
   "outputs": [
    {
     "name": "stdout",
     "output_type": "stream",
     "text": [
      "[[ 2  4  6]\n",
      " [ 8 10 12]\n",
      " [14 16 18]]\n"
     ]
    }
   ],
   "source": [
    "print(wynik_mnożenia)"
   ]
  },
  {
   "cell_type": "code",
   "execution_count": 7,
   "id": "5b87749a",
   "metadata": {},
   "outputs": [],
   "source": [
    "# Indeksowanie i Wycinanie:\n",
    "# Indeksowanie\n",
    "element = tablica_1d[2]  # Pobiera trzeci element tablicy\n",
    "\n",
    "# Wycinanie\n",
    "fragment_tablicy = tablica_2d[:, 1:3]  # Pobiera drugą i trzecią kolumnę"
   ]
  },
  {
   "cell_type": "code",
   "execution_count": 8,
   "id": "64c62c35",
   "metadata": {},
   "outputs": [
    {
     "name": "stdout",
     "output_type": "stream",
     "text": [
      "3\n",
      "[[2 3]\n",
      " [5 6]\n",
      " [8 9]]\n"
     ]
    }
   ],
   "source": [
    "print(element)\n",
    "print(fragment_tablicy)"
   ]
  },
  {
   "cell_type": "code",
   "execution_count": 9,
   "id": "0e27d504",
   "metadata": {},
   "outputs": [],
   "source": [
    "# Operacje statystyczne\n",
    "# Suma elementów\n",
    "suma = np.sum(tablica_2d)\n",
    "\n",
    "# Średnia\n",
    "srednia = np.mean(tablica_1d)\n",
    "\n",
    "# Maksimum i minimum\n",
    "maksimum = np.max(tablica_2d)\n",
    "minimum = np.min(tablica_1d)"
   ]
  },
  {
   "cell_type": "code",
   "execution_count": 10,
   "id": "38f94958",
   "metadata": {},
   "outputs": [
    {
     "name": "stdout",
     "output_type": "stream",
     "text": [
      "45\n",
      "3.0\n",
      "9\n",
      "1\n"
     ]
    }
   ],
   "source": [
    "print(suma)\n",
    "print(srednia)\n",
    "print(maksimum)\n",
    "print(minimum)"
   ]
  },
  {
   "cell_type": "code",
   "execution_count": 11,
   "id": "25759ed1",
   "metadata": {},
   "outputs": [],
   "source": [
    "# Operacje na wymiarach\n",
    "# Transpozycja\n",
    "transponowana_tablica = np.transpose(tablica_2d)\n",
    "\n",
    "# Wyznacznik\n",
    "wyznacznik = np.linalg.det(tablica_2d)"
   ]
  },
  {
   "cell_type": "code",
   "execution_count": 12,
   "id": "a50d0bca",
   "metadata": {},
   "outputs": [
    {
     "name": "stdout",
     "output_type": "stream",
     "text": [
      "[[1 2 3]\n",
      " [4 5 6]\n",
      " [7 8 9]]\n"
     ]
    }
   ],
   "source": [
    "print(tablica_2d)"
   ]
  },
  {
   "cell_type": "code",
   "execution_count": 13,
   "id": "d2c3b9b0",
   "metadata": {},
   "outputs": [
    {
     "name": "stdout",
     "output_type": "stream",
     "text": [
      "[[1 4 7]\n",
      " [2 5 8]\n",
      " [3 6 9]]\n"
     ]
    }
   ],
   "source": [
    "print(transponowana_tablica)"
   ]
  },
  {
   "cell_type": "code",
   "execution_count": 14,
   "id": "ecfc3a3d",
   "metadata": {},
   "outputs": [
    {
     "name": "stdout",
     "output_type": "stream",
     "text": [
      "6.66133814775094e-16\n"
     ]
    }
   ],
   "source": [
    "print(wyznacznik)"
   ]
  },
  {
   "cell_type": "markdown",
   "id": "7d125f22",
   "metadata": {},
   "source": [
    "## 2. Series i DataFrame w Pandas"
   ]
  },
  {
   "cell_type": "markdown",
   "id": "06fa5267",
   "metadata": {},
   "source": [
    "#### Tworzenie Series i DataFrame w Pandas:"
   ]
  },
  {
   "cell_type": "code",
   "execution_count": 15,
   "id": "7fc87f3b",
   "metadata": {},
   "outputs": [],
   "source": [
    "import pandas as pd\n",
    "\n",
    "# Tworzenie Series\n",
    "seria = pd.Series([1, 3, 5, np.nan, 6, 8])\n",
    "\n",
    "# Tworzenie DataFrame z tablicy NumPy\n",
    "df_tablica = pd.DataFrame(np.random.randn(6, 4), columns=list('ABCD'))\n",
    "\n",
    "# Tworzenie DataFrame z Dictionary\n",
    "df_slownik = pd.DataFrame({'A': 1.0,\n",
    "                            'B': pd.Timestamp('20220101'),\n",
    "                            'C': pd.Series(1, index=list(range(4)), dtype='float32'),\n",
    "                            'D': np.array([3] * 4, dtype='int32'),\n",
    "                            'E': pd.Categorical([\"test\", \"train\", \"test\", \"train\"]),\n",
    "                            'F': 'foo'})"
   ]
  },
  {
   "cell_type": "code",
   "execution_count": 16,
   "id": "861ce6f3",
   "metadata": {},
   "outputs": [
    {
     "name": "stdout",
     "output_type": "stream",
     "text": [
      "0    1.0\n",
      "1    3.0\n",
      "2    5.0\n",
      "3    NaN\n",
      "4    6.0\n",
      "5    8.0\n",
      "dtype: float64\n"
     ]
    }
   ],
   "source": [
    "print(seria)"
   ]
  },
  {
   "cell_type": "code",
   "execution_count": 17,
   "id": "bb3565b4",
   "metadata": {},
   "outputs": [
    {
     "name": "stdout",
     "output_type": "stream",
     "text": [
      "          A         B         C         D\n",
      "0 -0.145226  2.927792  0.233280 -0.167124\n",
      "1 -1.849695  0.381697  0.088762 -0.904872\n",
      "2 -1.130233  0.442396  0.546979  0.519358\n",
      "3 -0.437288  1.039373  0.126466 -0.042667\n",
      "4  0.157797 -0.088101  0.411264 -1.335605\n",
      "5  1.136508 -0.286960 -0.605081 -1.240668\n"
     ]
    }
   ],
   "source": [
    "print(df_tablica)"
   ]
  },
  {
   "cell_type": "code",
   "execution_count": 18,
   "id": "2f2e4641",
   "metadata": {},
   "outputs": [
    {
     "name": "stdout",
     "output_type": "stream",
     "text": [
      "     A          B    C  D      E    F\n",
      "0  1.0 2022-01-01  1.0  3   test  foo\n",
      "1  1.0 2022-01-01  1.0  3  train  foo\n",
      "2  1.0 2022-01-01  1.0  3   test  foo\n",
      "3  1.0 2022-01-01  1.0  3  train  foo\n"
     ]
    }
   ],
   "source": [
    "print(df_slownik)"
   ]
  },
  {
   "cell_type": "markdown",
   "id": "981e460e",
   "metadata": {},
   "source": [
    "## 3. Wczytywanie i Zapis Danych w Różnych Formatach"
   ]
  },
  {
   "cell_type": "markdown",
   "id": "145749fe",
   "metadata": {},
   "source": [
    "#### Wczytywanie Danych w Pandas:"
   ]
  },
  {
   "cell_type": "raw",
   "id": "52884fc8",
   "metadata": {},
   "source": [
    "import pandas as pd\n",
    "\n",
    "# Wczytywanie danych z pliku CSV\n",
    "df_csv = pd.read_csv('nazwa_pliku.csv')\n",
    "\n",
    "# Wczytywanie danych z pliku Excel\n",
    "df_excel = pd.read_excel('nazwa_pliku.xlsx', sheet_name='Arkusz1')"
   ]
  },
  {
   "cell_type": "code",
   "execution_count": 19,
   "id": "809e2346",
   "metadata": {},
   "outputs": [
    {
     "data": {
      "text/html": [
       "<div>\n",
       "<style scoped>\n",
       "    .dataframe tbody tr th:only-of-type {\n",
       "        vertical-align: middle;\n",
       "    }\n",
       "\n",
       "    .dataframe tbody tr th {\n",
       "        vertical-align: top;\n",
       "    }\n",
       "\n",
       "    .dataframe thead th {\n",
       "        text-align: right;\n",
       "    }\n",
       "</style>\n",
       "<table border=\"1\" class=\"dataframe\">\n",
       "  <thead>\n",
       "    <tr style=\"text-align: right;\">\n",
       "      <th></th>\n",
       "      <th>sequence</th>\n",
       "      <th>rank</th>\n",
       "      <th>university</th>\n",
       "      <th>overall_score</th>\n",
       "      <th>academic_reputation</th>\n",
       "      <th>employer_reputation</th>\n",
       "      <th>faculty_student_ratio</th>\n",
       "      <th>citations_per_faculty</th>\n",
       "      <th>international_faculty_ratio</th>\n",
       "      <th>international_students_ratio</th>\n",
       "      <th>international_research_network</th>\n",
       "      <th>employment_outcomes</th>\n",
       "      <th>sustainability</th>\n",
       "      <th>Fundos (US$)</th>\n",
       "    </tr>\n",
       "  </thead>\n",
       "  <tbody>\n",
       "    <tr>\n",
       "      <th>0</th>\n",
       "      <td>0</td>\n",
       "      <td>1</td>\n",
       "      <td>Massachusetts Institute of Technology (MIT)</td>\n",
       "      <td>100.0</td>\n",
       "      <td>100.0</td>\n",
       "      <td>100.0</td>\n",
       "      <td>100.0</td>\n",
       "      <td>100.0</td>\n",
       "      <td>100.0</td>\n",
       "      <td>88.2</td>\n",
       "      <td>94.3</td>\n",
       "      <td>100.0</td>\n",
       "      <td>95.2</td>\n",
       "      <td>9.2</td>\n",
       "    </tr>\n",
       "    <tr>\n",
       "      <th>1</th>\n",
       "      <td>1</td>\n",
       "      <td>2</td>\n",
       "      <td>University of Cambridge</td>\n",
       "      <td>99.2</td>\n",
       "      <td>100.0</td>\n",
       "      <td>100.0</td>\n",
       "      <td>100.0</td>\n",
       "      <td>92.3</td>\n",
       "      <td>100.0</td>\n",
       "      <td>95.8</td>\n",
       "      <td>99.9</td>\n",
       "      <td>100.0</td>\n",
       "      <td>97.3</td>\n",
       "      <td>7.8</td>\n",
       "    </tr>\n",
       "    <tr>\n",
       "      <th>2</th>\n",
       "      <td>2</td>\n",
       "      <td>3</td>\n",
       "      <td>University of Oxford</td>\n",
       "      <td>98.9</td>\n",
       "      <td>100.0</td>\n",
       "      <td>100.0</td>\n",
       "      <td>100.0</td>\n",
       "      <td>90.6</td>\n",
       "      <td>98.2</td>\n",
       "      <td>98.2</td>\n",
       "      <td>100.0</td>\n",
       "      <td>100.0</td>\n",
       "      <td>97.8</td>\n",
       "      <td>6.7</td>\n",
       "    </tr>\n",
       "    <tr>\n",
       "      <th>3</th>\n",
       "      <td>3</td>\n",
       "      <td>4</td>\n",
       "      <td>Harvard University</td>\n",
       "      <td>98.3</td>\n",
       "      <td>100.0</td>\n",
       "      <td>100.0</td>\n",
       "      <td>98.3</td>\n",
       "      <td>100.0</td>\n",
       "      <td>84.6</td>\n",
       "      <td>66.8</td>\n",
       "      <td>100.0</td>\n",
       "      <td>100.0</td>\n",
       "      <td>96.7</td>\n",
       "      <td>6.3</td>\n",
       "    </tr>\n",
       "    <tr>\n",
       "      <th>4</th>\n",
       "      <td>4</td>\n",
       "      <td>5</td>\n",
       "      <td>Stanford University</td>\n",
       "      <td>98.1</td>\n",
       "      <td>100.0</td>\n",
       "      <td>100.0</td>\n",
       "      <td>100.0</td>\n",
       "      <td>99.9</td>\n",
       "      <td>99.9</td>\n",
       "      <td>51.2</td>\n",
       "      <td>95.8</td>\n",
       "      <td>100.0</td>\n",
       "      <td>94.4</td>\n",
       "      <td>6.2</td>\n",
       "    </tr>\n",
       "    <tr>\n",
       "      <th>...</th>\n",
       "      <td>...</td>\n",
       "      <td>...</td>\n",
       "      <td>...</td>\n",
       "      <td>...</td>\n",
       "      <td>...</td>\n",
       "      <td>...</td>\n",
       "      <td>...</td>\n",
       "      <td>...</td>\n",
       "      <td>...</td>\n",
       "      <td>...</td>\n",
       "      <td>...</td>\n",
       "      <td>...</td>\n",
       "      <td>...</td>\n",
       "      <td>...</td>\n",
       "    </tr>\n",
       "    <tr>\n",
       "      <th>100</th>\n",
       "      <td>100</td>\n",
       "      <td>100</td>\n",
       "      <td>University of Nottingham</td>\n",
       "      <td>60.4</td>\n",
       "      <td>60.7</td>\n",
       "      <td>72.1</td>\n",
       "      <td>32.2</td>\n",
       "      <td>46.5</td>\n",
       "      <td>90.0</td>\n",
       "      <td>75.2</td>\n",
       "      <td>98.4</td>\n",
       "      <td>24.4</td>\n",
       "      <td>80.0</td>\n",
       "      <td>0</td>\n",
       "    </tr>\n",
       "    <tr>\n",
       "      <th>101</th>\n",
       "      <td>101</td>\n",
       "      <td>102</td>\n",
       "      <td>University of Wisconsin-Madison</td>\n",
       "      <td>60.0</td>\n",
       "      <td>80.2</td>\n",
       "      <td>47.8</td>\n",
       "      <td>61.3</td>\n",
       "      <td>37.4</td>\n",
       "      <td>30.9</td>\n",
       "      <td>22.8</td>\n",
       "      <td>83.6</td>\n",
       "      <td>73.1</td>\n",
       "      <td>83.7</td>\n",
       "      <td>0</td>\n",
       "    </tr>\n",
       "    <tr>\n",
       "      <th>102</th>\n",
       "      <td>102</td>\n",
       "      <td>103</td>\n",
       "      <td>Pontificia Universidad CatÃ³lica de Chile (UC)</td>\n",
       "      <td>59.9</td>\n",
       "      <td>92.9</td>\n",
       "      <td>99.5</td>\n",
       "      <td>20.6</td>\n",
       "      <td>11.6</td>\n",
       "      <td>16.4</td>\n",
       "      <td>3.5</td>\n",
       "      <td>56.8</td>\n",
       "      <td>76.3</td>\n",
       "      <td>91.3</td>\n",
       "      <td>0</td>\n",
       "    </tr>\n",
       "    <tr>\n",
       "      <th>103</th>\n",
       "      <td>103</td>\n",
       "      <td>104</td>\n",
       "      <td>The University of Sheffield</td>\n",
       "      <td>59.7</td>\n",
       "      <td>58.7</td>\n",
       "      <td>52.3</td>\n",
       "      <td>54.7</td>\n",
       "      <td>46.9</td>\n",
       "      <td>84.0</td>\n",
       "      <td>97.5</td>\n",
       "      <td>96.1</td>\n",
       "      <td>24.9</td>\n",
       "      <td>76.3</td>\n",
       "      <td>0</td>\n",
       "    </tr>\n",
       "    <tr>\n",
       "      <th>104</th>\n",
       "      <td>104</td>\n",
       "      <td>105</td>\n",
       "      <td>Uppsala University</td>\n",
       "      <td>59.4</td>\n",
       "      <td>62.7</td>\n",
       "      <td>30.5</td>\n",
       "      <td>47.7</td>\n",
       "      <td>45.6</td>\n",
       "      <td>98.3</td>\n",
       "      <td>82.4</td>\n",
       "      <td>95.5</td>\n",
       "      <td>58.2</td>\n",
       "      <td>99.4</td>\n",
       "      <td>0</td>\n",
       "    </tr>\n",
       "  </tbody>\n",
       "</table>\n",
       "<p>105 rows × 14 columns</p>\n",
       "</div>"
      ],
      "text/plain": [
       "     sequence  rank                                      university  \\\n",
       "0           0     1     Massachusetts Institute of Technology (MIT)   \n",
       "1           1     2                         University of Cambridge   \n",
       "2           2     3                            University of Oxford   \n",
       "3           3     4                              Harvard University   \n",
       "4           4     5                             Stanford University   \n",
       "..        ...   ...                                             ...   \n",
       "100       100   100                        University of Nottingham   \n",
       "101       101   102                 University of Wisconsin-Madison   \n",
       "102       102   103  Pontificia Universidad CatÃ³lica de Chile (UC)   \n",
       "103       103   104                     The University of Sheffield   \n",
       "104       104   105                              Uppsala University   \n",
       "\n",
       "     overall_score  academic_reputation  employer_reputation  \\\n",
       "0            100.0                100.0                100.0   \n",
       "1             99.2                100.0                100.0   \n",
       "2             98.9                100.0                100.0   \n",
       "3             98.3                100.0                100.0   \n",
       "4             98.1                100.0                100.0   \n",
       "..             ...                  ...                  ...   \n",
       "100           60.4                 60.7                 72.1   \n",
       "101           60.0                 80.2                 47.8   \n",
       "102           59.9                 92.9                 99.5   \n",
       "103           59.7                 58.7                 52.3   \n",
       "104           59.4                 62.7                 30.5   \n",
       "\n",
       "     faculty_student_ratio  citations_per_faculty  \\\n",
       "0                    100.0                  100.0   \n",
       "1                    100.0                   92.3   \n",
       "2                    100.0                   90.6   \n",
       "3                     98.3                  100.0   \n",
       "4                    100.0                   99.9   \n",
       "..                     ...                    ...   \n",
       "100                   32.2                   46.5   \n",
       "101                   61.3                   37.4   \n",
       "102                   20.6                   11.6   \n",
       "103                   54.7                   46.9   \n",
       "104                   47.7                   45.6   \n",
       "\n",
       "     international_faculty_ratio  international_students_ratio  \\\n",
       "0                          100.0                          88.2   \n",
       "1                          100.0                          95.8   \n",
       "2                           98.2                          98.2   \n",
       "3                           84.6                          66.8   \n",
       "4                           99.9                          51.2   \n",
       "..                           ...                           ...   \n",
       "100                         90.0                          75.2   \n",
       "101                         30.9                          22.8   \n",
       "102                         16.4                           3.5   \n",
       "103                         84.0                          97.5   \n",
       "104                         98.3                          82.4   \n",
       "\n",
       "     international_research_network  employment_outcomes  sustainability  \\\n",
       "0                              94.3                100.0            95.2   \n",
       "1                              99.9                100.0            97.3   \n",
       "2                             100.0                100.0            97.8   \n",
       "3                             100.0                100.0            96.7   \n",
       "4                              95.8                100.0            94.4   \n",
       "..                              ...                  ...             ...   \n",
       "100                            98.4                 24.4            80.0   \n",
       "101                            83.6                 73.1            83.7   \n",
       "102                            56.8                 76.3            91.3   \n",
       "103                            96.1                 24.9            76.3   \n",
       "104                            95.5                 58.2            99.4   \n",
       "\n",
       "    Fundos (US$)  \n",
       "0            9.2  \n",
       "1            7.8  \n",
       "2            6.7  \n",
       "3            6.3  \n",
       "4            6.2  \n",
       "..           ...  \n",
       "100            0  \n",
       "101            0  \n",
       "102            0  \n",
       "103            0  \n",
       "104            0  \n",
       "\n",
       "[105 rows x 14 columns]"
      ]
     },
     "execution_count": 19,
     "metadata": {},
     "output_type": "execute_result"
    }
   ],
   "source": [
    "# Ścieżka względna\n",
    "df = pd.read_csv('../DayTwo/top_100_world_university_2024_new.csv')\n",
    "df"
   ]
  },
  {
   "cell_type": "code",
   "execution_count": 20,
   "id": "5f6eafd3",
   "metadata": {},
   "outputs": [
    {
     "data": {
      "text/html": [
       "<div>\n",
       "<style scoped>\n",
       "    .dataframe tbody tr th:only-of-type {\n",
       "        vertical-align: middle;\n",
       "    }\n",
       "\n",
       "    .dataframe tbody tr th {\n",
       "        vertical-align: top;\n",
       "    }\n",
       "\n",
       "    .dataframe thead th {\n",
       "        text-align: right;\n",
       "    }\n",
       "</style>\n",
       "<table border=\"1\" class=\"dataframe\">\n",
       "  <thead>\n",
       "    <tr style=\"text-align: right;\">\n",
       "      <th></th>\n",
       "      <th>work_year</th>\n",
       "      <th>job_title</th>\n",
       "      <th>job_category</th>\n",
       "      <th>salary_currency</th>\n",
       "      <th>salary</th>\n",
       "      <th>salary_in_usd</th>\n",
       "      <th>employee_residence</th>\n",
       "      <th>experience_level</th>\n",
       "      <th>employment_type</th>\n",
       "      <th>work_setting</th>\n",
       "      <th>company_location</th>\n",
       "      <th>company_size</th>\n",
       "    </tr>\n",
       "  </thead>\n",
       "  <tbody>\n",
       "    <tr>\n",
       "      <th>0</th>\n",
       "      <td>2023</td>\n",
       "      <td>Data DevOps Engineer</td>\n",
       "      <td>Data Engineering</td>\n",
       "      <td>EUR</td>\n",
       "      <td>88000</td>\n",
       "      <td>95012</td>\n",
       "      <td>Germany</td>\n",
       "      <td>Mid-level</td>\n",
       "      <td>Full-time</td>\n",
       "      <td>Hybrid</td>\n",
       "      <td>Germany</td>\n",
       "      <td>L</td>\n",
       "    </tr>\n",
       "    <tr>\n",
       "      <th>1</th>\n",
       "      <td>2023</td>\n",
       "      <td>Data Architect</td>\n",
       "      <td>Data Architecture and Modeling</td>\n",
       "      <td>USD</td>\n",
       "      <td>186000</td>\n",
       "      <td>186000</td>\n",
       "      <td>United States</td>\n",
       "      <td>Senior</td>\n",
       "      <td>Full-time</td>\n",
       "      <td>In-person</td>\n",
       "      <td>United States</td>\n",
       "      <td>M</td>\n",
       "    </tr>\n",
       "    <tr>\n",
       "      <th>2</th>\n",
       "      <td>2023</td>\n",
       "      <td>Data Architect</td>\n",
       "      <td>Data Architecture and Modeling</td>\n",
       "      <td>USD</td>\n",
       "      <td>81800</td>\n",
       "      <td>81800</td>\n",
       "      <td>United States</td>\n",
       "      <td>Senior</td>\n",
       "      <td>Full-time</td>\n",
       "      <td>In-person</td>\n",
       "      <td>United States</td>\n",
       "      <td>M</td>\n",
       "    </tr>\n",
       "    <tr>\n",
       "      <th>3</th>\n",
       "      <td>2023</td>\n",
       "      <td>Data Scientist</td>\n",
       "      <td>Data Science and Research</td>\n",
       "      <td>USD</td>\n",
       "      <td>212000</td>\n",
       "      <td>212000</td>\n",
       "      <td>United States</td>\n",
       "      <td>Senior</td>\n",
       "      <td>Full-time</td>\n",
       "      <td>In-person</td>\n",
       "      <td>United States</td>\n",
       "      <td>M</td>\n",
       "    </tr>\n",
       "    <tr>\n",
       "      <th>4</th>\n",
       "      <td>2023</td>\n",
       "      <td>Data Scientist</td>\n",
       "      <td>Data Science and Research</td>\n",
       "      <td>USD</td>\n",
       "      <td>93300</td>\n",
       "      <td>93300</td>\n",
       "      <td>United States</td>\n",
       "      <td>Senior</td>\n",
       "      <td>Full-time</td>\n",
       "      <td>In-person</td>\n",
       "      <td>United States</td>\n",
       "      <td>M</td>\n",
       "    </tr>\n",
       "  </tbody>\n",
       "</table>\n",
       "</div>"
      ],
      "text/plain": [
       "   work_year             job_title                    job_category  \\\n",
       "0       2023  Data DevOps Engineer                Data Engineering   \n",
       "1       2023        Data Architect  Data Architecture and Modeling   \n",
       "2       2023        Data Architect  Data Architecture and Modeling   \n",
       "3       2023        Data Scientist       Data Science and Research   \n",
       "4       2023        Data Scientist       Data Science and Research   \n",
       "\n",
       "  salary_currency  salary  salary_in_usd employee_residence experience_level  \\\n",
       "0             EUR   88000          95012            Germany        Mid-level   \n",
       "1             USD  186000         186000      United States           Senior   \n",
       "2             USD   81800          81800      United States           Senior   \n",
       "3             USD  212000         212000      United States           Senior   \n",
       "4             USD   93300          93300      United States           Senior   \n",
       "\n",
       "  employment_type work_setting company_location company_size  \n",
       "0       Full-time       Hybrid          Germany            L  \n",
       "1       Full-time    In-person    United States            M  \n",
       "2       Full-time    In-person    United States            M  \n",
       "3       Full-time    In-person    United States            M  \n",
       "4       Full-time    In-person    United States            M  "
      ]
     },
     "execution_count": 20,
     "metadata": {},
     "output_type": "execute_result"
    }
   ],
   "source": [
    "# Ścieżka bezwzględna\n",
    "dfTwo = pd.read_csv(r'C:\\Users\\PabloPapito\\PythonWAnalizieDanych\\DayTwo\\jobs_in_data.csv')\n",
    "dfTwo.head()"
   ]
  },
  {
   "cell_type": "markdown",
   "id": "ed893b9b",
   "metadata": {},
   "source": [
    "#### Zapis Danych w Pandas:"
   ]
  },
  {
   "cell_type": "raw",
   "id": "82193d34",
   "metadata": {},
   "source": [
    "# Zapisywanie danych do pliku CSV\n",
    "df_csv.to_csv('nowy_plik.csv', index=False)\n",
    "\n",
    "# Zapisywanie danych do pliku Excel\n",
    "df_excel.to_excel('nowy_plik.xlsx', sheet_name='NowyArkusz', index=False)"
   ]
  },
  {
   "cell_type": "code",
   "execution_count": 21,
   "id": "24af468e",
   "metadata": {},
   "outputs": [],
   "source": [
    "df_slownik.to_csv('NowyPlikSlownik.csv', index=False)\n",
    "df_slownik.to_excel('NowyPlikExcel.xlsx', sheet_name='Slownik', index=False)"
   ]
  },
  {
   "cell_type": "code",
   "execution_count": 22,
   "id": "bce74b48",
   "metadata": {},
   "outputs": [
    {
     "name": "stdout",
     "output_type": "stream",
     "text": [
      "C:\\Users\\PabloPapito\\PythonWAnalizieDanych\\DayTwo\n",
      "C:\\Users\\PabloPapito\\AppData\\Roaming\\jupyter\\runtime\n"
     ]
    }
   ],
   "source": [
    "# Sprawdzenie Current Working Directory (CWD) w JupyterNotebook\n",
    "# metoda 1\n",
    "import os\n",
    "\n",
    "notebook_path = os.getcwd()\n",
    "print(notebook_path)\n",
    "\n",
    "# metoda 2\n",
    "from ipykernel import get_connection_file\n",
    "# import os - to już zaimportowaliśmy więc nie ma potrzeby powielać, natomiast jest niezbędnę do wykorzystania metody 2\n",
    "\n",
    "connection_file = get_connection_file()\n",
    "notebook_path = os.path.dirname(connection_file)\n",
    "print(notebook_path)"
   ]
  },
  {
   "cell_type": "markdown",
   "id": "756bdd12",
   "metadata": {},
   "source": [
    "## 4. Podstawowe Atrybuty DataFrame w Pandas"
   ]
  },
  {
   "cell_type": "markdown",
   "id": "ff3306f7",
   "metadata": {},
   "source": [
    "#### Atrybut shape:"
   ]
  },
  {
   "cell_type": "code",
   "execution_count": 23,
   "id": "9f2cf3ad",
   "metadata": {},
   "outputs": [
    {
     "name": "stdout",
     "output_type": "stream",
     "text": [
      "Kształt DataFrame: (3, 2)\n"
     ]
    }
   ],
   "source": [
    "import pandas as pd\n",
    "\n",
    "# Przykładowe utworzenie DataFrame\n",
    "data = {'A': [1, 2, 3], 'B': [4, 5, 6]}\n",
    "df = pd.DataFrame(data)\n",
    "\n",
    "# Sprawdzenie kształtu DataFrame\n",
    "ksztalt = df.shape\n",
    "print(\"Kształt DataFrame:\", ksztalt)"
   ]
  },
  {
   "cell_type": "markdown",
   "id": "da88d887",
   "metadata": {},
   "source": [
    "#### Atrybut index:"
   ]
  },
  {
   "cell_type": "code",
   "execution_count": 24,
   "id": "2a9da38c",
   "metadata": {},
   "outputs": [
    {
     "name": "stdout",
     "output_type": "stream",
     "text": [
      "Indeksy wierszy DataFrame: RangeIndex(start=0, stop=3, step=1)\n"
     ]
    }
   ],
   "source": [
    "# Sprawdzenie indeksów wierszy DataFrame\n",
    "indeksy = df.index\n",
    "print(\"Indeksy wierszy DataFrame:\", indeksy)"
   ]
  },
  {
   "cell_type": "markdown",
   "id": "bd07a8f0",
   "metadata": {},
   "source": [
    "#### Atrybut columns:"
   ]
  },
  {
   "cell_type": "code",
   "execution_count": 25,
   "id": "a3aedb3d",
   "metadata": {},
   "outputs": [
    {
     "name": "stdout",
     "output_type": "stream",
     "text": [
      "Etykiety kolumn DataFrame: Index(['A', 'B'], dtype='object')\n"
     ]
    }
   ],
   "source": [
    "# Sprawdzenie etykiet kolumn DataFrame\n",
    "etykiety_kolumn = df.columns\n",
    "print(\"Etykiety kolumn DataFrame:\", etykiety_kolumn)"
   ]
  },
  {
   "cell_type": "markdown",
   "id": "ea31d0cb",
   "metadata": {},
   "source": [
    "#### Atrybut dtypes:"
   ]
  },
  {
   "cell_type": "code",
   "execution_count": 26,
   "id": "6da84e1e",
   "metadata": {},
   "outputs": [
    {
     "name": "stdout",
     "output_type": "stream",
     "text": [
      "Typy danych kolumn DataFrame:\n",
      " A    int64\n",
      "B    int64\n",
      "dtype: object\n"
     ]
    }
   ],
   "source": [
    "# Sprawdzenie typów danych kolumn DataFrame\n",
    "typy_danych = df.dtypes\n",
    "print(\"Typy danych kolumn DataFrame:\\n\", typy_danych)"
   ]
  },
  {
   "cell_type": "markdown",
   "id": "f039d2ed",
   "metadata": {},
   "source": [
    "## 5. Przydatne funckje w Pandas"
   ]
  },
  {
   "cell_type": "code",
   "execution_count": 27,
   "id": "ddd562da",
   "metadata": {},
   "outputs": [
    {
     "name": "stdout",
     "output_type": "stream",
     "text": [
      "Opis statystyczny DataFrame:\n",
      "          A    B\n",
      "count  3.0  3.0\n",
      "mean   2.0  5.0\n",
      "std    1.0  1.0\n",
      "min    1.0  4.0\n",
      "25%    1.5  4.5\n",
      "50%    2.0  5.0\n",
      "75%    2.5  5.5\n",
      "max    3.0  6.0\n"
     ]
    }
   ],
   "source": [
    "# Przykład użycia describe\n",
    "opis_statystyczny = df.describe()\n",
    "print(\"Opis statystyczny DataFrame:\\n\", opis_statystyczny)"
   ]
  },
  {
   "cell_type": "code",
   "execution_count": 28,
   "id": "f4deb391",
   "metadata": {},
   "outputs": [
    {
     "name": "stdout",
     "output_type": "stream",
     "text": [
      "<class 'pandas.core.frame.DataFrame'>\n",
      "RangeIndex: 3 entries, 0 to 2\n",
      "Data columns (total 2 columns):\n",
      " #   Column  Non-Null Count  Dtype\n",
      "---  ------  --------------  -----\n",
      " 0   A       3 non-null      int64\n",
      " 1   B       3 non-null      int64\n",
      "dtypes: int64(2)\n",
      "memory usage: 180.0 bytes\n",
      "Informacje o danych w DataFrame:\n",
      " None\n"
     ]
    }
   ],
   "source": [
    "# Przykład użycia info\n",
    "informacje_o_danych = df.info()\n",
    "print(\"Informacje o danych w DataFrame:\\n\", informacje_o_danych)"
   ]
  },
  {
   "cell_type": "code",
   "execution_count": 29,
   "id": "a98160c6",
   "metadata": {},
   "outputs": [
    {
     "name": "stdout",
     "output_type": "stream",
     "text": [
      "Pierwsze trzy wiersze DataFrame:\n",
      "    A  B\n",
      "0  1  4\n",
      "1  2  5\n",
      "2  3  6\n"
     ]
    }
   ],
   "source": [
    "# Przykład użycia head\n",
    "pierwsze_wiersze = df.head(3)  # Zwróci trzy pierwsze wiersze\n",
    "print(\"Pierwsze trzy wiersze DataFrame:\\n\", pierwsze_wiersze)"
   ]
  },
  {
   "cell_type": "code",
   "execution_count": 30,
   "id": "65dbb70f",
   "metadata": {},
   "outputs": [
    {
     "name": "stdout",
     "output_type": "stream",
     "text": [
      "Ostatnie trzy wiersze DataFrame:\n",
      "    A  B\n",
      "0  1  4\n",
      "1  2  5\n",
      "2  3  6\n"
     ]
    }
   ],
   "source": [
    "# Przykład użycia tail\n",
    "ostatnie_wiersze = df.tail(3)  # Zwróci trzy ostatnie wiersze\n",
    "print(\"Ostatnie trzy wiersze DataFrame:\\n\", ostatnie_wiersze)"
   ]
  },
  {
   "cell_type": "code",
   "execution_count": 31,
   "id": "8b28386e",
   "metadata": {},
   "outputs": [
    {
     "name": "stdout",
     "output_type": "stream",
     "text": [
      "Losowe trzy wiersze DataFrame:\n",
      "    A  B\n",
      "2  3  6\n",
      "0  1  4\n",
      "1  2  5\n"
     ]
    }
   ],
   "source": [
    "# Przykład użycia sample\n",
    "losowe_wiersze = df.sample(3)  # Zwróci trzy losowe wiersze\n",
    "print(\"Losowe trzy wiersze DataFrame:\\n\", losowe_wiersze)"
   ]
  },
  {
   "cell_type": "markdown",
   "id": "ca2d5bdc",
   "metadata": {},
   "source": [
    "## 6. Czyszczenie Wartości Zduplikowanych w Pandas"
   ]
  },
  {
   "cell_type": "code",
   "execution_count": 32,
   "id": "eb7712d5",
   "metadata": {},
   "outputs": [
    {
     "name": "stdout",
     "output_type": "stream",
     "text": [
      "Duplikaty wierszy:\n",
      " 0    False\n",
      "1    False\n",
      "2     True\n",
      "3    False\n",
      "4    False\n",
      "dtype: bool\n",
      "Duplikaty w kolumnie 'A':\n",
      " 0    False\n",
      "1    False\n",
      "2     True\n",
      "3    False\n",
      "4    False\n",
      "Name: A, dtype: bool\n"
     ]
    }
   ],
   "source": [
    "import pandas as pd\n",
    "\n",
    "# Przykładowe utworzenie DataFrame z zduplikowanymi danymi\n",
    "data = {'A': [1, 2, 2, 3, 4],\n",
    "        'B': ['a', 'b', 'b', 'c', 'd']}\n",
    "df = pd.DataFrame(data)\n",
    "\n",
    "# Sprawdzenie duplikatów w całych wierszach\n",
    "duplikaty_wiersze = df.duplicated()\n",
    "\n",
    "# Sprawdzenie duplikatów w kolumnie 'A'\n",
    "duplikaty_kolumna_A = df['A'].duplicated()\n",
    "\n",
    "print(\"Duplikaty wierszy:\\n\", duplikaty_wiersze)\n",
    "print(\"Duplikaty w kolumnie 'A':\\n\", duplikaty_kolumna_A)"
   ]
  },
  {
   "cell_type": "code",
   "execution_count": 33,
   "id": "f5a8cbd5",
   "metadata": {},
   "outputs": [
    {
     "data": {
      "text/html": [
       "<div>\n",
       "<style scoped>\n",
       "    .dataframe tbody tr th:only-of-type {\n",
       "        vertical-align: middle;\n",
       "    }\n",
       "\n",
       "    .dataframe tbody tr th {\n",
       "        vertical-align: top;\n",
       "    }\n",
       "\n",
       "    .dataframe thead th {\n",
       "        text-align: right;\n",
       "    }\n",
       "</style>\n",
       "<table border=\"1\" class=\"dataframe\">\n",
       "  <thead>\n",
       "    <tr style=\"text-align: right;\">\n",
       "      <th></th>\n",
       "      <th>sequence</th>\n",
       "      <th>rank</th>\n",
       "      <th>university</th>\n",
       "      <th>overall_score</th>\n",
       "      <th>academic_reputation</th>\n",
       "      <th>employer_reputation</th>\n",
       "      <th>faculty_student_ratio</th>\n",
       "      <th>citations_per_faculty</th>\n",
       "      <th>international_faculty_ratio</th>\n",
       "      <th>international_students_ratio</th>\n",
       "      <th>international_research_network</th>\n",
       "      <th>employment_outcomes</th>\n",
       "      <th>sustainability</th>\n",
       "      <th>Fundos (US$)</th>\n",
       "    </tr>\n",
       "  </thead>\n",
       "  <tbody>\n",
       "    <tr>\n",
       "      <th>0</th>\n",
       "      <td>0</td>\n",
       "      <td>1</td>\n",
       "      <td>Massachusetts Institute of Technology (MIT)</td>\n",
       "      <td>100.0</td>\n",
       "      <td>100.0</td>\n",
       "      <td>100.0</td>\n",
       "      <td>100.0</td>\n",
       "      <td>100.0</td>\n",
       "      <td>100.0</td>\n",
       "      <td>88.2</td>\n",
       "      <td>94.3</td>\n",
       "      <td>100.0</td>\n",
       "      <td>95.2</td>\n",
       "      <td>9.2</td>\n",
       "    </tr>\n",
       "    <tr>\n",
       "      <th>1</th>\n",
       "      <td>1</td>\n",
       "      <td>2</td>\n",
       "      <td>University of Cambridge</td>\n",
       "      <td>99.2</td>\n",
       "      <td>100.0</td>\n",
       "      <td>100.0</td>\n",
       "      <td>100.0</td>\n",
       "      <td>92.3</td>\n",
       "      <td>100.0</td>\n",
       "      <td>95.8</td>\n",
       "      <td>99.9</td>\n",
       "      <td>100.0</td>\n",
       "      <td>97.3</td>\n",
       "      <td>7.8</td>\n",
       "    </tr>\n",
       "    <tr>\n",
       "      <th>2</th>\n",
       "      <td>2</td>\n",
       "      <td>3</td>\n",
       "      <td>University of Oxford</td>\n",
       "      <td>98.9</td>\n",
       "      <td>100.0</td>\n",
       "      <td>100.0</td>\n",
       "      <td>100.0</td>\n",
       "      <td>90.6</td>\n",
       "      <td>98.2</td>\n",
       "      <td>98.2</td>\n",
       "      <td>100.0</td>\n",
       "      <td>100.0</td>\n",
       "      <td>97.8</td>\n",
       "      <td>6.7</td>\n",
       "    </tr>\n",
       "    <tr>\n",
       "      <th>3</th>\n",
       "      <td>3</td>\n",
       "      <td>4</td>\n",
       "      <td>Harvard University</td>\n",
       "      <td>98.3</td>\n",
       "      <td>100.0</td>\n",
       "      <td>100.0</td>\n",
       "      <td>98.3</td>\n",
       "      <td>100.0</td>\n",
       "      <td>84.6</td>\n",
       "      <td>66.8</td>\n",
       "      <td>100.0</td>\n",
       "      <td>100.0</td>\n",
       "      <td>96.7</td>\n",
       "      <td>6.3</td>\n",
       "    </tr>\n",
       "    <tr>\n",
       "      <th>4</th>\n",
       "      <td>4</td>\n",
       "      <td>5</td>\n",
       "      <td>Stanford University</td>\n",
       "      <td>98.1</td>\n",
       "      <td>100.0</td>\n",
       "      <td>100.0</td>\n",
       "      <td>100.0</td>\n",
       "      <td>99.9</td>\n",
       "      <td>99.9</td>\n",
       "      <td>51.2</td>\n",
       "      <td>95.8</td>\n",
       "      <td>100.0</td>\n",
       "      <td>94.4</td>\n",
       "      <td>6.2</td>\n",
       "    </tr>\n",
       "    <tr>\n",
       "      <th>...</th>\n",
       "      <td>...</td>\n",
       "      <td>...</td>\n",
       "      <td>...</td>\n",
       "      <td>...</td>\n",
       "      <td>...</td>\n",
       "      <td>...</td>\n",
       "      <td>...</td>\n",
       "      <td>...</td>\n",
       "      <td>...</td>\n",
       "      <td>...</td>\n",
       "      <td>...</td>\n",
       "      <td>...</td>\n",
       "      <td>...</td>\n",
       "      <td>...</td>\n",
       "    </tr>\n",
       "    <tr>\n",
       "      <th>100</th>\n",
       "      <td>100</td>\n",
       "      <td>100</td>\n",
       "      <td>University of Nottingham</td>\n",
       "      <td>60.4</td>\n",
       "      <td>60.7</td>\n",
       "      <td>72.1</td>\n",
       "      <td>32.2</td>\n",
       "      <td>46.5</td>\n",
       "      <td>90.0</td>\n",
       "      <td>75.2</td>\n",
       "      <td>98.4</td>\n",
       "      <td>24.4</td>\n",
       "      <td>80.0</td>\n",
       "      <td>0</td>\n",
       "    </tr>\n",
       "    <tr>\n",
       "      <th>101</th>\n",
       "      <td>101</td>\n",
       "      <td>102</td>\n",
       "      <td>University of Wisconsin-Madison</td>\n",
       "      <td>60.0</td>\n",
       "      <td>80.2</td>\n",
       "      <td>47.8</td>\n",
       "      <td>61.3</td>\n",
       "      <td>37.4</td>\n",
       "      <td>30.9</td>\n",
       "      <td>22.8</td>\n",
       "      <td>83.6</td>\n",
       "      <td>73.1</td>\n",
       "      <td>83.7</td>\n",
       "      <td>0</td>\n",
       "    </tr>\n",
       "    <tr>\n",
       "      <th>102</th>\n",
       "      <td>102</td>\n",
       "      <td>103</td>\n",
       "      <td>Pontificia Universidad CatÃ³lica de Chile (UC)</td>\n",
       "      <td>59.9</td>\n",
       "      <td>92.9</td>\n",
       "      <td>99.5</td>\n",
       "      <td>20.6</td>\n",
       "      <td>11.6</td>\n",
       "      <td>16.4</td>\n",
       "      <td>3.5</td>\n",
       "      <td>56.8</td>\n",
       "      <td>76.3</td>\n",
       "      <td>91.3</td>\n",
       "      <td>0</td>\n",
       "    </tr>\n",
       "    <tr>\n",
       "      <th>103</th>\n",
       "      <td>103</td>\n",
       "      <td>104</td>\n",
       "      <td>The University of Sheffield</td>\n",
       "      <td>59.7</td>\n",
       "      <td>58.7</td>\n",
       "      <td>52.3</td>\n",
       "      <td>54.7</td>\n",
       "      <td>46.9</td>\n",
       "      <td>84.0</td>\n",
       "      <td>97.5</td>\n",
       "      <td>96.1</td>\n",
       "      <td>24.9</td>\n",
       "      <td>76.3</td>\n",
       "      <td>0</td>\n",
       "    </tr>\n",
       "    <tr>\n",
       "      <th>104</th>\n",
       "      <td>104</td>\n",
       "      <td>105</td>\n",
       "      <td>Uppsala University</td>\n",
       "      <td>59.4</td>\n",
       "      <td>62.7</td>\n",
       "      <td>30.5</td>\n",
       "      <td>47.7</td>\n",
       "      <td>45.6</td>\n",
       "      <td>98.3</td>\n",
       "      <td>82.4</td>\n",
       "      <td>95.5</td>\n",
       "      <td>58.2</td>\n",
       "      <td>99.4</td>\n",
       "      <td>0</td>\n",
       "    </tr>\n",
       "  </tbody>\n",
       "</table>\n",
       "<p>105 rows × 14 columns</p>\n",
       "</div>"
      ],
      "text/plain": [
       "     sequence  rank                                      university  \\\n",
       "0           0     1     Massachusetts Institute of Technology (MIT)   \n",
       "1           1     2                         University of Cambridge   \n",
       "2           2     3                            University of Oxford   \n",
       "3           3     4                              Harvard University   \n",
       "4           4     5                             Stanford University   \n",
       "..        ...   ...                                             ...   \n",
       "100       100   100                        University of Nottingham   \n",
       "101       101   102                 University of Wisconsin-Madison   \n",
       "102       102   103  Pontificia Universidad CatÃ³lica de Chile (UC)   \n",
       "103       103   104                     The University of Sheffield   \n",
       "104       104   105                              Uppsala University   \n",
       "\n",
       "     overall_score  academic_reputation  employer_reputation  \\\n",
       "0            100.0                100.0                100.0   \n",
       "1             99.2                100.0                100.0   \n",
       "2             98.9                100.0                100.0   \n",
       "3             98.3                100.0                100.0   \n",
       "4             98.1                100.0                100.0   \n",
       "..             ...                  ...                  ...   \n",
       "100           60.4                 60.7                 72.1   \n",
       "101           60.0                 80.2                 47.8   \n",
       "102           59.9                 92.9                 99.5   \n",
       "103           59.7                 58.7                 52.3   \n",
       "104           59.4                 62.7                 30.5   \n",
       "\n",
       "     faculty_student_ratio  citations_per_faculty  \\\n",
       "0                    100.0                  100.0   \n",
       "1                    100.0                   92.3   \n",
       "2                    100.0                   90.6   \n",
       "3                     98.3                  100.0   \n",
       "4                    100.0                   99.9   \n",
       "..                     ...                    ...   \n",
       "100                   32.2                   46.5   \n",
       "101                   61.3                   37.4   \n",
       "102                   20.6                   11.6   \n",
       "103                   54.7                   46.9   \n",
       "104                   47.7                   45.6   \n",
       "\n",
       "     international_faculty_ratio  international_students_ratio  \\\n",
       "0                          100.0                          88.2   \n",
       "1                          100.0                          95.8   \n",
       "2                           98.2                          98.2   \n",
       "3                           84.6                          66.8   \n",
       "4                           99.9                          51.2   \n",
       "..                           ...                           ...   \n",
       "100                         90.0                          75.2   \n",
       "101                         30.9                          22.8   \n",
       "102                         16.4                           3.5   \n",
       "103                         84.0                          97.5   \n",
       "104                         98.3                          82.4   \n",
       "\n",
       "     international_research_network  employment_outcomes  sustainability  \\\n",
       "0                              94.3                100.0            95.2   \n",
       "1                              99.9                100.0            97.3   \n",
       "2                             100.0                100.0            97.8   \n",
       "3                             100.0                100.0            96.7   \n",
       "4                              95.8                100.0            94.4   \n",
       "..                              ...                  ...             ...   \n",
       "100                            98.4                 24.4            80.0   \n",
       "101                            83.6                 73.1            83.7   \n",
       "102                            56.8                 76.3            91.3   \n",
       "103                            96.1                 24.9            76.3   \n",
       "104                            95.5                 58.2            99.4   \n",
       "\n",
       "    Fundos (US$)  \n",
       "0            9.2  \n",
       "1            7.8  \n",
       "2            6.7  \n",
       "3            6.3  \n",
       "4            6.2  \n",
       "..           ...  \n",
       "100            0  \n",
       "101            0  \n",
       "102            0  \n",
       "103            0  \n",
       "104            0  \n",
       "\n",
       "[105 rows x 14 columns]"
      ]
     },
     "execution_count": 33,
     "metadata": {},
     "output_type": "execute_result"
    }
   ],
   "source": [
    "dfUniversities = pd.read_csv('../DayTwo/top_100_world_university_2024_new.csv')\n",
    "dfUniversities"
   ]
  },
  {
   "cell_type": "code",
   "execution_count": 34,
   "id": "e61dfb49",
   "metadata": {},
   "outputs": [],
   "source": [
    "duplikatyUniwersytetów = dfUniversities.duplicated()\n",
    "duplikatyUniwersytetówKolumna = dfUniversities['university'].duplicated()"
   ]
  },
  {
   "cell_type": "code",
   "execution_count": 35,
   "id": "06d961f3",
   "metadata": {},
   "outputs": [
    {
     "name": "stdout",
     "output_type": "stream",
     "text": [
      "Duplikaty wierszy:\n",
      " 0      False\n",
      "1      False\n",
      "2      False\n",
      "3      False\n",
      "4      False\n",
      "       ...  \n",
      "100    False\n",
      "101    False\n",
      "102    False\n",
      "103    False\n",
      "104    False\n",
      "Length: 105, dtype: bool\n",
      "Duplikaty w kolumnie 'university':\n",
      " 0      False\n",
      "1      False\n",
      "2      False\n",
      "3      False\n",
      "4      False\n",
      "       ...  \n",
      "100    False\n",
      "101    False\n",
      "102    False\n",
      "103    False\n",
      "104    False\n",
      "Name: university, Length: 105, dtype: bool\n"
     ]
    }
   ],
   "source": [
    "print(\"Duplikaty wierszy:\\n\", duplikatyUniwersytetów)\n",
    "print(\"Duplikaty w kolumnie 'university':\\n\", duplikatyUniwersytetówKolumna)"
   ]
  },
  {
   "cell_type": "code",
   "execution_count": 36,
   "id": "4d979295",
   "metadata": {},
   "outputs": [
    {
     "name": "stdout",
     "output_type": "stream",
     "text": [
      "DataFrame bez duplikatów:\n",
      "    A  B\n",
      "0  1  a\n",
      "1  2  b\n",
      "3  3  c\n",
      "4  4  d\n",
      "DataFrame bez duplikatów w kolumnie 'A':\n",
      "    A  B\n",
      "0  1  a\n",
      "1  2  b\n",
      "3  3  c\n",
      "4  4  d\n"
     ]
    }
   ],
   "source": [
    "# Usunięcie zduplikowanych wierszy (zostawiając pierwszy wystąpienie)\n",
    "df_bez_duplikatow = df.drop_duplicates()\n",
    "\n",
    "# Usunięcie zduplikowanych wierszy bazując na konkretnej kolumnie\n",
    "df_bez_duplikatow_kolumna_A = df.drop_duplicates(subset='A')\n",
    "\n",
    "print(\"DataFrame bez duplikatów:\\n\", df_bez_duplikatow)\n",
    "print(\"DataFrame bez duplikatów w kolumnie 'A':\\n\", df_bez_duplikatow_kolumna_A)"
   ]
  },
  {
   "cell_type": "markdown",
   "id": "5666c054",
   "metadata": {},
   "source": [
    "## 7. Wartości Brakujące - Różne Podejścia do Radzenia Sobie z Nimi w Pandas"
   ]
  },
  {
   "cell_type": "markdown",
   "id": "21e91931",
   "metadata": {},
   "source": [
    "#### Sprawdzenie Wartości Brakujących:"
   ]
  },
  {
   "cell_type": "code",
   "execution_count": 37,
   "id": "7769dd05",
   "metadata": {},
   "outputs": [
    {
     "name": "stdout",
     "output_type": "stream",
     "text": [
      "Wartości brakujące w DataFrame:\n",
      "        A      B\n",
      "0  False  False\n",
      "1  False  False\n",
      "2   True  False\n",
      "3  False   True\n"
     ]
    }
   ],
   "source": [
    "import pandas as pd\n",
    "\n",
    "# Przykładowe utworzenie DataFrame z wartościami brakującymi\n",
    "data = {'A': [1, 2, None, 4],\n",
    "        'B': ['a', 'b', 'c', None]}\n",
    "df = pd.DataFrame(data)\n",
    "\n",
    "# Sprawdzenie, czy istnieją wartości brakujące w DataFrame\n",
    "brakujace_wartosci = df.isnull()\n",
    "\n",
    "print(\"Wartości brakujące w DataFrame:\\n\", brakujace_wartosci)"
   ]
  },
  {
   "cell_type": "markdown",
   "id": "77ef4065",
   "metadata": {},
   "source": [
    "#### Usuwanie Wartości Brakujących:"
   ]
  },
  {
   "cell_type": "code",
   "execution_count": 38,
   "id": "aa844bb8",
   "metadata": {},
   "outputs": [
    {
     "name": "stdout",
     "output_type": "stream",
     "text": [
      "DataFrame bez wierszy zawierających wartości brakujące:\n",
      "      A  B\n",
      "0  1.0  a\n",
      "1  2.0  b\n",
      "DataFrame bez kolumn zawierających wartości brakujące:\n",
      " Empty DataFrame\n",
      "Columns: []\n",
      "Index: [0, 1, 2, 3]\n"
     ]
    }
   ],
   "source": [
    "# Usunięcie wierszy zawierających przynajmniej jedną wartość brakującą\n",
    "df_bez_brakujacych_wierszy = df.dropna()\n",
    "\n",
    "# Usunięcie kolumn zawierających przynajmniej jedną wartość brakującą\n",
    "df_bez_brakujacych_kolumn = df.dropna(axis=1)\n",
    "\n",
    "print(\"DataFrame bez wierszy zawierających wartości brakujące:\\n\", df_bez_brakujacych_wierszy)\n",
    "print(\"DataFrame bez kolumn zawierających wartości brakujące:\\n\", df_bez_brakujacych_kolumn)"
   ]
  },
  {
   "cell_type": "markdown",
   "id": "7851539a",
   "metadata": {},
   "source": [
    "#### Uzupełnianie Wartości Brakujących:"
   ]
  },
  {
   "cell_type": "code",
   "execution_count": 39,
   "id": "14347b45",
   "metadata": {},
   "outputs": [
    {
     "name": "stdout",
     "output_type": "stream",
     "text": [
      "DataFrame po uzupełnieniu wartości brakujących:\n",
      "           A            B\n",
      "0  1.000000            a\n",
      "1  2.000000            b\n",
      "2  2.333333            c\n",
      "3  4.000000  brak_danych\n"
     ]
    }
   ],
   "source": [
    "# Uzupełnienie wartości brakujących określoną wartością (np. średnią)\n",
    "srednia_wartosc_A = df['A'].mean()\n",
    "df_uzupelnione = df.fillna({'A': srednia_wartosc_A, 'B': 'brak_danych'})\n",
    "\n",
    "print(\"DataFrame po uzupełnieniu wartości brakujących:\\n\", df_uzupelnione)"
   ]
  },
  {
   "cell_type": "markdown",
   "id": "b03f9931",
   "metadata": {},
   "source": [
    "## 8. Wykrywanie Wartości Odstających w Pandas"
   ]
  },
  {
   "cell_type": "markdown",
   "id": "3169fd52",
   "metadata": {},
   "source": [
    "#### Wykrywanie Wartości Odstających:"
   ]
  },
  {
   "cell_type": "code",
   "execution_count": 40,
   "id": "3e92ca4e",
   "metadata": {},
   "outputs": [
    {
     "name": "stdout",
     "output_type": "stream",
     "text": [
      "Wartości odstające w DataFrame:\n",
      "        A      B\n",
      "0  False  False\n",
      "1  False  False\n",
      "2  False  False\n",
      "3   True   True\n"
     ]
    }
   ],
   "source": [
    "import pandas as pd\n",
    "\n",
    "# Przykładowe utworzenie DataFrame z wartościami odstającymi\n",
    "data = {'A': [1, 2, 3, 100],\n",
    "        'B': [4, 5, 6, 200]}\n",
    "df = pd.DataFrame(data)\n",
    "\n",
    "# Wykrywanie wartości odstających na podstawie kwantyli\n",
    "kwantyl_25 = df.quantile(0.25)\n",
    "kwantyl_25 = df.quantile(0.75)\n",
    "rozstep_miedzykwartylowy = kwantyl_75 - kwantyl_25\n",
    "\n",
    "# Definiowanie zakresu wartości \"normalnych\"\n",
    "dolny_limit = kwantyl_25 - 1.5 * rozstep_miedzykwartylowy\n",
    "gorny_limit = kwantyl_75 + 1.5 * rozstep_miedzykwartylowy\n",
    "\n",
    "# Wykrywanie wartości odstających\n",
    "odstajace_wartosci = (df < dolny_limit) | (df > gorny_limit)\n",
    "\n",
    "print(\"Wartości odstające w DataFrame:\\n\", odstajace_wartosci)"
   ]
  },
  {
   "cell_type": "markdown",
   "id": "f6fe9a2a",
   "metadata": {},
   "source": [
    "#### Zastępowanie Wartości Odstających:"
   ]
  },
  {
   "cell_type": "code",
   "execution_count": 41,
   "id": "a9cc1b45",
   "metadata": {},
   "outputs": [
    {
     "name": "stdout",
     "output_type": "stream",
     "text": [
      "DataFrame po zastąpieniu wartości odstających:\n",
      "       A        B\n",
      "0   1.0    4.000\n",
      "1   2.0    5.000\n",
      "2   3.0    6.000\n",
      "3  65.5  129.125\n"
     ]
    }
   ],
   "source": [
    "# Zastępowanie wartości odstających wartością graniczną\n",
    "df_bez_odstajacych = df.mask(odstajace_wartosci, gorny_limit, axis=1)\n",
    "\n",
    "print(\"DataFrame po zastąpieniu wartości odstających:\\n\", df_bez_odstajacych)"
   ]
  },
  {
   "cell_type": "markdown",
   "id": "fd8193d3",
   "metadata": {},
   "source": [
    "## 9. Sortowanie Danych w Pandas"
   ]
  },
  {
   "cell_type": "markdown",
   "id": "fc154cf7",
   "metadata": {},
   "source": [
    "#### Sortowanie Wierszy:"
   ]
  },
  {
   "cell_type": "code",
   "execution_count": 42,
   "id": "ee43607b",
   "metadata": {},
   "outputs": [
    {
     "name": "stdout",
     "output_type": "stream",
     "text": [
      "DataFrame po posortowaniu wierszy według kolumny 'A':\n",
      "    A  B\n",
      "1  1  a\n",
      "3  2  b\n",
      "0  3  c\n",
      "2  4  d\n"
     ]
    }
   ],
   "source": [
    "import pandas as pd\n",
    "\n",
    "# Przykładowe utworzenie DataFrame do sortowania wierszy\n",
    "data = {'A': [3, 1, 4, 2],\n",
    "        'B': ['c', 'a', 'd', 'b']}\n",
    "df = pd.DataFrame(data)\n",
    "\n",
    "# Sortowanie wierszy według kolumny 'A'\n",
    "df_posortowany = df.sort_values(by='A')\n",
    "\n",
    "print(\"DataFrame po posortowaniu wierszy według kolumny 'A':\\n\", df_posortowany)"
   ]
  },
  {
   "cell_type": "markdown",
   "id": "c1801bf6",
   "metadata": {},
   "source": [
    "#### Sortowanie Kolumn:"
   ]
  },
  {
   "cell_type": "code",
   "execution_count": 43,
   "id": "04157b7f",
   "metadata": {},
   "outputs": [
    {
     "name": "stdout",
     "output_type": "stream",
     "text": [
      "DataFrame po posortowaniu kolumn według etykiet:\n",
      "    A  B\n",
      "0  3  c\n",
      "1  1  a\n",
      "2  4  d\n",
      "3  2  b\n"
     ]
    }
   ],
   "source": [
    "# Sortowanie kolumn według etykiet kolumn\n",
    "df_kolumny_posortowane = df.sort_index(axis=1)\n",
    "\n",
    "print(\"DataFrame po posortowaniu kolumn według etykiet:\\n\", df_kolumny_posortowane)"
   ]
  },
  {
   "cell_type": "markdown",
   "id": "4a0c2bc5",
   "metadata": {},
   "source": [
    "#### Sortowanie Malejące:"
   ]
  },
  {
   "cell_type": "code",
   "execution_count": 44,
   "id": "0326ddb1",
   "metadata": {},
   "outputs": [
    {
     "name": "stdout",
     "output_type": "stream",
     "text": [
      "DataFrame po posortowaniu malejąco według kolumny 'A':\n",
      "    A  B\n",
      "2  4  d\n",
      "0  3  c\n",
      "3  2  b\n",
      "1  1  a\n"
     ]
    }
   ],
   "source": [
    "# Sortowanie wierszy malejąco według kolumny 'A'\n",
    "df_posortowany_malejaco = df.sort_values(by='A', ascending=False)\n",
    "\n",
    "print(\"DataFrame po posortowaniu malejąco według kolumny 'A':\\n\", df_posortowany_malejaco)"
   ]
  },
  {
   "cell_type": "markdown",
   "id": "12031800",
   "metadata": {},
   "source": [
    "## 10. Filtrowanie Danych w Pandas"
   ]
  },
  {
   "cell_type": "markdown",
   "id": "da2c7127",
   "metadata": {},
   "source": [
    "#### Filtrowanie za pomocą loc:"
   ]
  },
  {
   "cell_type": "code",
   "execution_count": 45,
   "id": "93b771f4",
   "metadata": {},
   "outputs": [
    {
     "name": "stdout",
     "output_type": "stream",
     "text": [
      "Nasz zbiór danych:\n",
      " {'A': [1, 2, 3, 4], 'B': ['a', 'b', 'c', 'd']} \n",
      "\n",
      "----------------------\n",
      "\n",
      "Nasz zbiór danych bez indeksów literowych tylko cyfrowe od 0:\n",
      "    A  B\n",
      "1  1  a\n",
      "2  2  b\n",
      "3  3  c\n",
      "4  4  d \n",
      "\n",
      "----------------------\n",
      "\n",
      "Dodanie indeksów wierszy do danych:\n",
      "    A  B\n",
      "x  1  a\n",
      "y  2  b\n",
      "z  3  c\n",
      "w  4  d \n",
      "\n",
      "----------------------\n",
      "\n",
      "Wynik filtrowania za pomocą loc:\n",
      " x    1\n",
      "y    2\n",
      "Name: A, dtype: int64\n"
     ]
    }
   ],
   "source": [
    "import pandas as pd\n",
    "\n",
    "# Przykładowe utworzenie DataFrame do filtrowania\n",
    "data = {'A': [1, 2, 3, 4],\n",
    "        'B': ['a', 'b', 'c', 'd']}\n",
    "\n",
    "dfBezIndeksow = pd.DataFrame(data)\n",
    "\n",
    "dfBezIndeksow.index += 1 # by default indeksy są od 0 - tutaj możemy ustawić od 1\n",
    "\n",
    "df = pd.DataFrame(data, index=['x', 'y', 'z', 'w'])\n",
    "\n",
    "# Filtrowanie wierszy o indeksach 'x' i 'y' oraz kolumny 'A'\n",
    "df_filtr_loc = df.loc[['x', 'y'], 'A']\n",
    "\n",
    "\n",
    "print('Nasz zbiór danych:\\n', data, '\\n\\n----------------------\\n')\n",
    "\n",
    "print('Nasz zbiór danych bez indeksów literowych tylko cyfrowe od 0:\\n', dfBezIndeksow, '\\n\\n----------------------\\n')\n",
    "\n",
    "\n",
    "\n",
    "print('Dodanie indeksów wierszy do danych:\\n', df, '\\n\\n----------------------\\n')\n",
    "\n",
    "print(\"Wynik filtrowania za pomocą loc:\\n\", df_filtr_loc)"
   ]
  },
  {
   "cell_type": "markdown",
   "id": "4887a756",
   "metadata": {},
   "source": [
    "#### Filtrowanie za pomocą iloc:"
   ]
  },
  {
   "cell_type": "code",
   "execution_count": 46,
   "id": "800b2365",
   "metadata": {},
   "outputs": [
    {
     "name": "stdout",
     "output_type": "stream",
     "text": [
      "Wynik filtrowania za pomocą iloc:\n",
      " x    1\n",
      "y    2\n",
      "Name: A, dtype: int64\n"
     ]
    }
   ],
   "source": [
    "# Filtrowanie pierwszych dwóch wierszy oraz pierwszej kolumny\n",
    "df_filtr_iloc = df.iloc[:2, 0] # pierwszy argument to wiersz, a drugi to kolumna\n",
    "\n",
    "print(\"Wynik filtrowania za pomocą iloc:\\n\", df_filtr_iloc)"
   ]
  },
  {
   "cell_type": "markdown",
   "id": "85414a8c",
   "metadata": {},
   "source": [
    "#### Filtrowanie za pomocą query:"
   ]
  },
  {
   "cell_type": "code",
   "execution_count": 47,
   "id": "0cf01145",
   "metadata": {},
   "outputs": [
    {
     "name": "stdout",
     "output_type": "stream",
     "text": [
      "Wynik filtrowania za pomocą query:\n",
      "    A  B\n",
      "z  3  c\n",
      "w  4  d\n"
     ]
    }
   ],
   "source": [
    "# Filtrowanie wierszy, gdzie wartość w kolumnie 'A' jest większa niż 2\n",
    "df_filtr_query = df.query('A > 2')\n",
    "\n",
    "print(\"Wynik filtrowania za pomocą query:\\n\", df_filtr_query)"
   ]
  },
  {
   "cell_type": "markdown",
   "id": "3e5b5039",
   "metadata": {},
   "source": [
    "#### Filtrowanie za pomocą where:"
   ]
  },
  {
   "cell_type": "code",
   "execution_count": 48,
   "id": "0f616dec",
   "metadata": {},
   "outputs": [
    {
     "name": "stdout",
     "output_type": "stream",
     "text": [
      "Wynik filtrowania za pomocą where:\n",
      "      A    B\n",
      "x  NaN  NaN\n",
      "y  NaN  NaN\n",
      "z  3.0    c\n",
      "w  4.0    d\n"
     ]
    }
   ],
   "source": [
    "# Filtrowanie, zwracając nowy DataFrame z wartościami, które spełniają warunek, a reszta to NaN\n",
    "df_filtr_where = df.where(df['A'] > 2)\n",
    "\n",
    "print(\"Wynik filtrowania za pomocą where:\\n\", df_filtr_where)"
   ]
  },
  {
   "cell_type": "markdown",
   "id": "c9c85bac",
   "metadata": {},
   "source": [
    "#### Filtrowanie za pomocą isin:"
   ]
  },
  {
   "cell_type": "code",
   "execution_count": 49,
   "id": "40a8fad0",
   "metadata": {},
   "outputs": [
    {
     "name": "stdout",
     "output_type": "stream",
     "text": [
      "Wynik filtrowania za pomocą isin:\n",
      "    A  B\n",
      "x  1  a\n",
      "z  3  c\n"
     ]
    }
   ],
   "source": [
    "# Filtrowanie wierszy, gdzie wartość w kolumnie 'B' jest jedną z określonych wartości\n",
    "df_filtr_isin = df[df['B'].isin(['a', 'c'])]\n",
    "\n",
    "print(\"Wynik filtrowania za pomocą isin:\\n\", df_filtr_isin)"
   ]
  },
  {
   "cell_type": "markdown",
   "id": "616b3069",
   "metadata": {},
   "source": [
    "#### Filtrowanie za pomocą isnull i notnull:"
   ]
  },
  {
   "cell_type": "code",
   "execution_count": 50,
   "id": "bccc674b",
   "metadata": {},
   "outputs": [
    {
     "name": "stdout",
     "output_type": "stream",
     "text": [
      "Wynik filtrowania za pomocą isnull:\n",
      " Empty DataFrame\n",
      "Columns: [A, B]\n",
      "Index: []\n",
      "Wynik filtrowania za pomocą notnull:\n",
      "    A  B\n",
      "x  1  a\n",
      "y  2  b\n",
      "z  3  c\n",
      "w  4  d\n"
     ]
    }
   ],
   "source": [
    "# Filtrowanie wierszy, gdzie wartość w kolumnie 'A' jest NaN\n",
    "df_filtr_isnull = df[df['A'].isnull()]\n",
    "\n",
    "# Filtrowanie wierszy, gdzie wartość w kolumnie 'A' nie jest NaN\n",
    "df_filtr_notnull = df[df['A'].notnull()]\n",
    "\n",
    "print(\"Wynik filtrowania za pomocą isnull:\\n\", df_filtr_isnull)\n",
    "print(\"Wynik filtrowania za pomocą notnull:\\n\", df_filtr_notnull)"
   ]
  },
  {
   "cell_type": "markdown",
   "id": "effb9d0c",
   "metadata": {},
   "source": [
    "## 11. Tabele Przestawne w Pandas"
   ]
  },
  {
   "cell_type": "markdown",
   "id": "c47790b4",
   "metadata": {},
   "source": [
    "#### Tworzenie Tabeli Przestawnej:"
   ]
  },
  {
   "cell_type": "code",
   "execution_count": 51,
   "id": "717930a3",
   "metadata": {},
   "outputs": [
    {
     "name": "stdout",
     "output_type": "stream",
     "text": [
      "Tabela przestawna:\n",
      " Category   A    B\n",
      "Value     90  120\n"
     ]
    }
   ],
   "source": [
    "import pandas as pd\n",
    "\n",
    "# Przykładowe utworzenie DataFrame do tabeli przestawnej\n",
    "data = {'Category': ['A', 'B', 'A', 'B', 'A', 'B'],\n",
    "        'Value': [10, 20, 30, 40, 50, 60]}\n",
    "df = pd.DataFrame(data)\n",
    "\n",
    "# Tworzenie tabeli przestawnej\n",
    "table_przestawna = pd.pivot_table(df, values='Value', columns='Category', aggfunc='sum')\n",
    "\n",
    "print(\"Tabela przestawna:\\n\", table_przestawna)"
   ]
  },
  {
   "cell_type": "markdown",
   "id": "0dc7fbc5",
   "metadata": {},
   "source": [
    "#### Określanie Indeksów i Kolumn Tabeli Przestawnej:"
   ]
  },
  {
   "cell_type": "code",
   "execution_count": 52,
   "id": "a9b341f9",
   "metadata": {},
   "outputs": [
    {
     "name": "stdout",
     "output_type": "stream",
     "text": [
      "Tabela przestawna z określonymi indeksami i kolumnami:\n",
      " Category     A      B\n",
      "Category             \n",
      "A         90.0    NaN\n",
      "B          NaN  120.0\n"
     ]
    }
   ],
   "source": [
    "# Określanie indeksów i kolumn dla tabeli przestawnej\n",
    "table_przestawna_indeks_kolumny = pd.pivot_table(df, values='Value', index='Category', columns='Category', aggfunc='sum')\n",
    "\n",
    "print(\"Tabela przestawna z określonymi indeksami i kolumnami:\\n\", table_przestawna_indeks_kolumny)"
   ]
  },
  {
   "cell_type": "markdown",
   "id": "46bbc799",
   "metadata": {},
   "source": [
    "#### Określanie Funkcji Agregującej:"
   ]
  },
  {
   "cell_type": "code",
   "execution_count": 53,
   "id": "35640a97",
   "metadata": {},
   "outputs": [
    {
     "name": "stdout",
     "output_type": "stream",
     "text": [
      "Tabela przestawna z określoną funkcją agregującą (średnia):\n",
      "           Value\n",
      "Category       \n",
      "A            30\n",
      "B            40\n"
     ]
    }
   ],
   "source": [
    "# Określanie funkcji agregującej dla tabeli przestawnej (np. średnia)\n",
    "table_przestawna_srednia = pd.pivot_table(df, values='Value', index='Category', aggfunc='mean')\n",
    "\n",
    "print(\"Tabela przestawna z określoną funkcją agregującą (średnia):\\n\", table_przestawna_srednia)"
   ]
  },
  {
   "cell_type": "markdown",
   "id": "1ea9b197",
   "metadata": {},
   "source": [
    "#### Uzupełnianie Wartości Brakujących:"
   ]
  },
  {
   "cell_type": "code",
   "execution_count": 54,
   "id": "d11be451",
   "metadata": {},
   "outputs": [
    {
     "name": "stdout",
     "output_type": "stream",
     "text": [
      "Tabela przestawna z uzupełnionymi wartościami brakującymi:\n",
      "           Value\n",
      "Category       \n",
      "A            90\n",
      "B           120\n"
     ]
    }
   ],
   "source": [
    "# Uzupełnianie wartości brakujących w tabeli przestawnej (np. wartością 0)\n",
    "table_przestawna_uzupelniona = pd.pivot_table(df, values='Value', index='Category', fill_value=0, aggfunc='sum')\n",
    "\n",
    "print(\"Tabela przestawna z uzupełnionymi wartościami brakującymi:\\n\", table_przestawna_uzupelniona)"
   ]
  },
  {
   "cell_type": "markdown",
   "id": "0609a0d7",
   "metadata": {},
   "source": [
    "## 12. Grupowanie Danych w Pandas"
   ]
  },
  {
   "cell_type": "markdown",
   "id": "6dc4220d",
   "metadata": {},
   "source": [
    "#### Grupowanie na Podstawie Jednej Kolumny:"
   ]
  },
  {
   "cell_type": "code",
   "execution_count": 55,
   "id": "e278240c",
   "metadata": {},
   "outputs": [
    {
     "name": "stdout",
     "output_type": "stream",
     "text": [
      "Wynik grupowania na podstawie jednej kolumny:\n",
      "           Value\n",
      "Category       \n",
      "A            90\n",
      "B           120\n"
     ]
    }
   ],
   "source": [
    "import pandas as pd\n",
    "\n",
    "# Przykładowe utworzenie DataFrame do grupowania\n",
    "data = {'Category': ['A', 'B', 'A', 'B', 'A', 'B'],\n",
    "        'Value': [10, 20, 30, 40, 50, 60]}\n",
    "df = pd.DataFrame(data)\n",
    "\n",
    "# Grupowanie na podstawie kolumny 'Category' i obliczanie sumy dla każdej grupy\n",
    "grupowanie_jedna_kolumna = df.groupby('Category').sum()\n",
    "\n",
    "print(\"Wynik grupowania na podstawie jednej kolumny:\\n\", grupowanie_jedna_kolumna)"
   ]
  },
  {
   "cell_type": "markdown",
   "id": "30754336",
   "metadata": {},
   "source": [
    "#### Grupowanie na Podstawie Wielu Kolumn:"
   ]
  },
  {
   "cell_type": "code",
   "execution_count": 56,
   "id": "6919a083",
   "metadata": {},
   "outputs": [
    {
     "name": "stdout",
     "output_type": "stream",
     "text": [
      "Wynik grupowania na podstawie wielu kolumn:\n",
      "   Category  Value  Count\n",
      "0        A     10      1\n",
      "1        A     30      1\n",
      "2        A     50      1\n",
      "3        B     20      1\n",
      "4        B     40      1\n",
      "5        B     60      1\n"
     ]
    }
   ],
   "source": [
    "# Grupowanie na podstawie wielu kolumn i obliczanie sumy dla każdej grupy\n",
    "grupowanie_wiele_kolumn = df.groupby(['Category', 'Value']).size().reset_index(name='Count')\n",
    "\n",
    "print(\"Wynik grupowania na podstawie wielu kolumn:\\n\", grupowanie_wiele_kolumn)"
   ]
  },
  {
   "cell_type": "markdown",
   "id": "75c62462",
   "metadata": {},
   "source": [
    "#### Wykonywanie Różnych Operacji dla Każdej Grupy:"
   ]
  },
  {
   "cell_type": "code",
   "execution_count": 57,
   "id": "e5690ef8",
   "metadata": {},
   "outputs": [
    {
     "name": "stdout",
     "output_type": "stream",
     "text": [
      "Wynik grupowania z różnymi operacjami dla każdej grupy:\n",
      "          Value            \n",
      "           sum  mean count\n",
      "Category                  \n",
      "A           90  30.0     3\n",
      "B          120  40.0     3\n"
     ]
    }
   ],
   "source": [
    "# Grupowanie i obliczanie różnych statystyk dla każdej grupy\n",
    "grupowanie_statystyki = df.groupby('Category').agg({'Value': ['sum', 'mean', 'count']})\n",
    "\n",
    "print(\"Wynik grupowania z różnymi operacjami dla każdej grupy:\\n\", grupowanie_statystyki)"
   ]
  },
  {
   "cell_type": "markdown",
   "id": "13b797a5",
   "metadata": {},
   "source": [
    "## 13. Łączenie Danych w Pandas"
   ]
  },
  {
   "cell_type": "markdown",
   "id": "8f9c4d64",
   "metadata": {},
   "source": [
    "#### Łączenie na Podstawie Wspólnej Kolumny:"
   ]
  },
  {
   "cell_type": "code",
   "execution_count": 58,
   "id": "9db25438",
   "metadata": {},
   "outputs": [
    {
     "name": "stdout",
     "output_type": "stream",
     "text": [
      "Wynik łączenia na podstawie wspólnej kolumny:\n",
      "    ID Value1 Value2\n",
      "0   2      B      X\n",
      "1   3      C      Y\n"
     ]
    }
   ],
   "source": [
    "import pandas as pd\n",
    "\n",
    "# Przykładowe utworzenie dwóch DataFrame'ów do łączenia\n",
    "df1 = pd.DataFrame({'ID': [1, 2, 3],\n",
    "                    'Value1': ['A', 'B', 'C']})\n",
    "\n",
    "df2 = pd.DataFrame({'ID': [2, 3, 4],\n",
    "                    'Value2': ['X', 'Y', 'Z']})\n",
    "\n",
    "# Łączenie na podstawie wspólnej kolumny 'ID'\n",
    "laczenie_kolumna = pd.merge(df1, df2, on='ID')\n",
    "\n",
    "print(\"Wynik łączenia na podstawie wspólnej kolumny:\\n\", laczenie_kolumna)"
   ]
  },
  {
   "cell_type": "markdown",
   "id": "e75c20e7",
   "metadata": {},
   "source": [
    "#### Łączenie na Podstawie Wspólnego Indeksu:"
   ]
  },
  {
   "cell_type": "code",
   "execution_count": 59,
   "id": "0da2267c",
   "metadata": {},
   "outputs": [
    {
     "name": "stdout",
     "output_type": "stream",
     "text": [
      "Wynik łączenia na podstawie wspólnego indeksu:\n",
      "     ID Value1 Value3\n",
      "0  1.0      A    NaN\n",
      "1  2.0      B      M\n",
      "2  3.0      C      N\n",
      "3  NaN    NaN      O\n"
     ]
    }
   ],
   "source": [
    "# Przykładowe utworzenie dwóch DataFrame'ów do łączenia na podstawie indeksu\n",
    "df3 = pd.DataFrame({'Value3': ['M', 'N', 'O']}, index=[1, 2, 3])\n",
    "\n",
    "# Łączenie na podstawie wspólnego indeksu\n",
    "laczenie_indeks = pd.concat([df1, df3], axis=1)\n",
    "\n",
    "print(\"Wynik łączenia na podstawie wspólnego indeksu:\\n\", laczenie_indeks)"
   ]
  },
  {
   "cell_type": "markdown",
   "id": "3e052d2f",
   "metadata": {},
   "source": [
    "#### Łączenie na Podstawie Wspólnego Indeksu w Kierunku Pionowym:"
   ]
  },
  {
   "cell_type": "code",
   "execution_count": 60,
   "id": "71b53727",
   "metadata": {},
   "outputs": [
    {
     "name": "stdout",
     "output_type": "stream",
     "text": [
      "Wynik łączenia na podstawie wspólnego indeksu w kierunku pionowym:\n",
      "     ID Value1 Value3\n",
      "0  1.0      A    NaN\n",
      "1  2.0      B    NaN\n",
      "2  3.0      C    NaN\n",
      "1  NaN    NaN      M\n",
      "2  NaN    NaN      N\n",
      "3  NaN    NaN      O\n"
     ]
    }
   ],
   "source": [
    "# Łączenie na podstawie wspólnego indeksu w kierunku pionowym\n",
    "laczenie_pionowe = pd.concat([df1, df3], axis=0)\n",
    "\n",
    "print(\"Wynik łączenia na podstawie wspólnego indeksu w kierunku pionowym:\\n\", laczenie_pionowe)"
   ]
  },
  {
   "cell_type": "markdown",
   "id": "73482c98",
   "metadata": {},
   "source": [
    "## 14. Tworzenie Nowych Atrybutów w Pandas"
   ]
  },
  {
   "cell_type": "markdown",
   "id": "532386a0",
   "metadata": {},
   "source": [
    "#### Dodawanie Nowego Atrybutu na Podstawie Istniejących Kolumn:"
   ]
  },
  {
   "cell_type": "code",
   "execution_count": 61,
   "id": "07963d8b",
   "metadata": {},
   "outputs": [
    {
     "name": "stdout",
     "output_type": "stream",
     "text": [
      "DataFrame z dodanym atrybutem 'Sum':\n",
      "    Value1  Value2  Sum\n",
      "0      10       5   15\n",
      "1      20      15   35\n",
      "2      30      25   55\n"
     ]
    }
   ],
   "source": [
    "import pandas as pd\n",
    "\n",
    "# Przykładowe utworzenie DataFrame\n",
    "df = pd.DataFrame({'Value1': [10, 20, 30],\n",
    "                   'Value2': [5, 15, 25]})\n",
    "\n",
    "# Dodawanie nowego atrybutu 'Sum' na podstawie istniejących kolumn\n",
    "df['Sum'] = df['Value1'] + df['Value2']\n",
    "\n",
    "print(\"DataFrame z dodanym atrybutem 'Sum':\\n\", df)"
   ]
  },
  {
   "cell_type": "markdown",
   "id": "fec57b7c",
   "metadata": {},
   "source": [
    "#### Dodawanie Nowego Atrybutu na Podstawie Warunków Logicznych:"
   ]
  },
  {
   "cell_type": "code",
   "execution_count": 62,
   "id": "779cee1e",
   "metadata": {},
   "outputs": [
    {
     "name": "stdout",
     "output_type": "stream",
     "text": [
      "DataFrame z dodanym atrybutem 'Category':\n",
      "    Value1  Value2  Sum Category\n",
      "0      10       5   15      Low\n",
      "1      20      15   35     High\n",
      "2      30      25   55     High\n"
     ]
    }
   ],
   "source": [
    "# Dodawanie nowego atrybutu 'Category' na podstawie warunków logicznych\n",
    "df['Category'] = ['High' if x > 15 else 'Low' for x in df['Sum']]\n",
    "\n",
    "print(\"DataFrame z dodanym atrybutem 'Category':\\n\", df)"
   ]
  },
  {
   "cell_type": "markdown",
   "id": "0cbb069d",
   "metadata": {},
   "source": [
    "#### Utworzenie Nowego Atrybutu przy Użyciu Funkcji:"
   ]
  },
  {
   "cell_type": "code",
   "execution_count": 63,
   "id": "26d9099c",
   "metadata": {},
   "outputs": [
    {
     "name": "stdout",
     "output_type": "stream",
     "text": [
      "DataFrame z dodanym atrybutem 'Product':\n",
      "    Value1  Value2  Sum Category  Product\n",
      "0      10       5   15      Low    Basic\n",
      "1      20      15   35     High  Premium\n",
      "2      30      25   55     High  Premium\n"
     ]
    }
   ],
   "source": [
    "# Utworzenie nowego atrybutu 'Product' przy użyciu funkcji\n",
    "def categorize_product(sum_value):\n",
    "    if sum_value > 30:\n",
    "        return 'Premium'\n",
    "    elif sum_value > 20:\n",
    "        return 'Standard'\n",
    "    else:\n",
    "        return 'Basic'\n",
    "\n",
    "df['Product'] = df['Sum'].apply(categorize_product)\n",
    "\n",
    "print(\"DataFrame z dodanym atrybutem 'Product':\\n\", df)"
   ]
  },
  {
   "cell_type": "code",
   "execution_count": null,
   "id": "40008b91",
   "metadata": {},
   "outputs": [],
   "source": []
  }
 ],
 "metadata": {
  "kernelspec": {
   "display_name": "Python 3 (ipykernel)",
   "language": "python",
   "name": "python3"
  },
  "language_info": {
   "codemirror_mode": {
    "name": "ipython",
    "version": 3
   },
   "file_extension": ".py",
   "mimetype": "text/x-python",
   "name": "python",
   "nbconvert_exporter": "python",
   "pygments_lexer": "ipython3",
   "version": "3.11.5"
  }
 },
 "nbformat": 4,
 "nbformat_minor": 5
}
