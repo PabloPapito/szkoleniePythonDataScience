{
 "cells": [
  {
   "cell_type": "markdown",
   "id": "8c0226bd-b5e4-4d46-80a7-25bd6ecb3e4f",
   "metadata": {},
   "source": [
    "# Ćwiczenia analiza"
   ]
  },
  {
   "cell_type": "markdown",
   "id": "aaa3671a-be83-4f8c-bab9-8f39b693d53d",
   "metadata": {},
   "source": [
    "#### Ćwiczenie 1. - NumPy"
   ]
  },
  {
   "cell_type": "code",
   "execution_count": null,
   "id": "29b3cc36-0494-44ad-9d48-9a9e09f89aeb",
   "metadata": {},
   "outputs": [],
   "source": [
    "import numpy as np\n",
    "\n",
    "# Ćwiczenie: Stworzenie dwuwymiarowej tablicy i wykonanie operacji\n",
    "tablica_2d_cw = np.array([[1, 2, 3], [4, 5, 6], [7, 8, 9]])\n",
    "\n",
    "# Zadanie: Pomnóż każdy element tablicy przez 2\n",
    "wynik_mnozenia_cw = # Tu dodaj kod\n",
    "\n",
    "# Zadanie: Oblicz średnią dla każdej kolumny\n",
    "srednia_kolumn_cw = # Tu dodaj kod\n",
    "\n",
    "# Wyświetlenie wyników\n",
    "print(\"Tablica po mnożeniu:\", wynik_mnozenia_cw)\n",
    "print(\"Średnie kolumn:\", srednia_kolumn_cw)"
   ]
  },
  {
   "cell_type": "markdown",
   "id": "098fa37d-3356-4987-a26b-252ccab4ca5b",
   "metadata": {},
   "source": [
    "#### Ćwiczenie 2. - Pandas"
   ]
  },
  {
   "cell_type": "code",
   "execution_count": null,
   "id": "1ead1d4f-6a53-4f44-93df-e08503910ec8",
   "metadata": {},
   "outputs": [],
   "source": [
    "import pandas as pd\n",
    "import numpy as np\n",
    "\n",
    "# Ćwiczenie: Stworzenie DataFrame z danymi losowymi\n",
    "df_cw = pd.DataFrame(np.random.randint(0, 100, size=(5, 3)), columns=['A', 'B', 'C'])\n",
    "\n",
    "# Zadanie: Wyświetlenie informacji o danych w DataFrame\n",
    "info_dane_cw = # Tu dodaj kod\n",
    "\n",
    "# Zadanie: Wyświetlenie trzech pierwszych wierszy DataFrame\n",
    "pierwsze_wiersze_cw = # Tu dodaj kod\n",
    "\n",
    "# Wyświetlenie wyników\n",
    "print(\"Informacje o danych:\", info_dane_cw)\n",
    "print(\"Trzy pierwsze wiersze DataFrame:\\n\", pierwsze_wiersze_cw)"
   ]
  },
  {
   "cell_type": "markdown",
   "id": "97a584ed-579d-47b9-9845-53b7addb2ff5",
   "metadata": {},
   "source": [
    "#### Ćwiczenie 3. - Wczytywanie i zapis danych"
   ]
  },
  {
   "cell_type": "code",
   "execution_count": null,
   "id": "c789cf9c-6789-44b4-89e5-8b1aadbffef5",
   "metadata": {},
   "outputs": [],
   "source": [
    "import pandas as pd\n",
    "\n",
    "# Ćwiczenie: Wczytanie danych z pliku CSV\n",
    "df_wczytane_cw = # Tu dodaj kod\n",
    "\n",
    "# Zadanie: Wyświetlenie pięciu pierwszych wierszy wczytanych danych\n",
    "pierwsze_wiersze_wczytane_cw = # Tu dodaj kod\n",
    "\n",
    "# Zadanie: Zapisanie wczytanych danych do pliku Excel\n",
    "# (Uwaga: Dla potrzeb ćwiczenia, możesz użyć tych samych wczytanych danych)\n",
    "df_wczytane_cw.to_excel('dane_wczytane.xlsx', index=False)\n",
    "\n",
    "# Wyświetlenie wyników\n",
    "print(\"Pięć pierwszych wierszy wczytanych danych:\\n\", pierwsze_wiersze_wczytane_cw)\n",
    "print(\"Dane zostały zapisane do pliku Excel.\")"
   ]
  },
  {
   "cell_type": "markdown",
   "id": "5ebd3a85-f7c5-4c1f-ad8b-026817305b7d",
   "metadata": {},
   "source": [
    "#### Ćwiczenie 4. - Atrybuty DataFrame w Pandas"
   ]
  },
  {
   "cell_type": "code",
   "execution_count": null,
   "id": "ca34f1ed-6374-4a83-b47d-70a27441b2f3",
   "metadata": {},
   "outputs": [],
   "source": [
    "import pandas as pd\n",
    "\n",
    "# Ćwiczenie: Sprawdzenie kształtu i struktury DataFrame\n",
    "df_cw = pd.DataFrame({'A': [1, 2, 3], 'B': [4, 5, 6]})\n",
    "\n",
    "# Zadanie: Wyświetlenie kształtu DataFrame\n",
    "ksztalt_cw = # Tu dodaj kod\n",
    "\n",
    "# Zadanie: Wyświetlenie indeksów wierszy DataFrame\n",
    "indeksy_cw = # Tu dodaj kod\n",
    "\n",
    "# Zadanie: Wyświetlenie etykiet kolumn DataFrame\n",
    "etykiety_kolumn_cw = # Tu dodaj kod\n",
    "\n",
    "# Zadanie: Wyświetlenie typów danych kolumn DataFrame\n",
    "typy_danych_cw = # Tu dodaj kod\n",
    "\n",
    "# Wyświetlenie wyników\n",
    "print(\"Kształt DataFrame:\", ksztalt_cw)\n",
    "print(\"Indeksy wierszy DataFrame:\", indeksy_cw)\n",
    "print(\"Etykiety kolumn DataFrame:\", etykiety_kolumn_cw)\n",
    "print(\"Typy danych kolumn DataFrame:\\n\", typy_danych_cw)"
   ]
  },
  {
   "cell_type": "markdown",
   "id": "9cee7392-e2d5-4482-adbc-225700ae7408",
   "metadata": {},
   "source": [
    "#### Ćwiczenie 5. - Przydatne funkcje w Pandas"
   ]
  },
  {
   "cell_type": "code",
   "execution_count": null,
   "id": "a96203ef-d622-4258-9c8b-7ea6b5e53516",
   "metadata": {},
   "outputs": [],
   "source": [
    "# Ćwiczenie: Użycie funkcji describe, info, head, tail, sample\n",
    "df_cw = pd.DataFrame({'A': [1, 2, 3, 4, 5],\n",
    "                      'B': ['a', 'b', 'c', 'd', 'e'],\n",
    "                      'C': [0.1, 0.5, 0.8, 0.3, 0.9]})\n",
    "\n",
    "# Zadanie: Uzyskanie opisu statystycznego dla DataFrame\n",
    "opis_statystyczny_cw = # Tu dodaj kod\n",
    "\n",
    "# Zadanie: Wyświetlenie informacji o danych w DataFrame\n",
    "informacje_o_danych_cw = # Tu dodaj kod\n",
    "\n",
    "# Zadanie: Wyświetlenie trzech pierwszych wierszy DataFrame\n",
    "pierwsze_wiersze_cw = # Tu dodaj kod\n",
    "\n",
    "# Zadanie: Wyświetlenie trzech ostatnich wierszy DataFrame\n",
    "ostatnie_wiersze_cw = # Tu dodaj kod\n",
    "\n",
    "# Zadanie: Wyświetlenie trzech losowych wierszy DataFrame\n",
    "losowe_wiersze_cw = # Tu dodaj kod\n",
    "\n",
    "# Wyświetlenie wyników\n",
    "print(\"Opis statystyczny DataFrame:\\n\", opis_statystyczny_cw)\n",
    "print(\"Informacje o danych w DataFrame:\\n\", informacje_o_danych_cw)\n",
    "print(\"Trzy pierwsze wiersze DataFrame:\\n\", pierwsze_wiersze_cw)\n",
    "print(\"Trzy ostatnie wiersze DataFrame:\\n\", ostatnie_wiersze_cw)\n",
    "print(\"Trzy losowe wiersze DataFrame:\\n\", losowe_wiersze_cw)"
   ]
  },
  {
   "cell_type": "markdown",
   "id": "e0a5c36e-b162-4029-ba4b-69a755eccd37",
   "metadata": {},
   "source": [
    "#### Ćwiczenie 6. - Czyszczenie Wartości Zduplikowanych w Pandas"
   ]
  },
  {
   "cell_type": "code",
   "execution_count": null,
   "id": "4cd85854-d5fe-4e76-955f-191985b3708f",
   "metadata": {},
   "outputs": [],
   "source": [
    "# Ćwiczenie: Sprawdzenie duplikatów i usunięcie ich\n",
    "df_cw = pd.DataFrame({'A': [1, 2, 2, 3, 4],\n",
    "                      'B': ['a', 'b', 'b', 'c', 'd']})\n",
    "\n",
    "# Zadanie: Sprawdzenie duplikatów w całych wierszach\n",
    "duplikaty_wiersze_cw = # Tu dodaj kod\n",
    "\n",
    "# Zadanie: Sprawdzenie duplikatów w kolumnie 'A'\n",
    "duplikaty_kolumna_A_cw = # Tu dodaj kod\n",
    "\n",
    "# Zadanie: Usunięcie zduplikowanych wierszy\n",
    "df_bez_duplikatow_cw = # Tu dodaj kod\n",
    "\n",
    "# Zadanie: Usunięcie zduplikowanych wierszy bazując na kolumnie 'A'\n",
    "df_bez_duplikatow_kolumna_A_cw = # Tu dodaj kod\n",
    "\n",
    "# Wyświetlenie wyników\n",
    "print(\"Duplikaty wierszy:\\n\", duplikaty_wiersze_cw)\n",
    "print(\"Duplikaty w kolumnie 'A':\\n\", duplikaty_kolumna_A_cw)\n",
    "print(\"DataFrame bez duplikatów:\\n\", df_bez_duplikatow_cw)\n",
    "print(\"DataFrame bez duplikatów w kolumnie 'A':\\n\", df_bez_duplikatow_kolumna_A_cw)"
   ]
  },
  {
   "cell_type": "markdown",
   "id": "f68401de-826e-444f-b8a6-557addd18e79",
   "metadata": {},
   "source": [
    "#### Ćwiczenie 7. - Wartości Brakujące - Różne Podejścia do Radzenia Sobie z Nimi w Pandas"
   ]
  },
  {
   "cell_type": "code",
   "execution_count": null,
   "id": "c36d0592-5bc1-4e88-b9f7-80e2a70da5b0",
   "metadata": {},
   "outputs": [],
   "source": [
    "# Ćwiczenie: Radzenie sobie z wartościami brakującymi\n",
    "df_cw = pd.DataFrame({'A': [1, 2, None, 4],\n",
    "                      'B': ['a', 'b', 'c', None]})\n",
    "\n",
    "# Zadanie: Sprawdzenie wartości brakujących w DataFrame\n",
    "brakujace_wartosci_cw = # Tu dodaj kod\n",
    "\n",
    "# Zadanie: Usunięcie wierszy zawierających wartości brakujące\n",
    "df_bez_brakujacych_wierszy_cw = # Tu dodaj kod\n",
    "\n",
    "# Zadanie: Uzupełnienie wartości brakujących w kolumnie 'A' średnią wartością\n",
    "srednia_wartosc_A_cw = # Tu dodaj kod\n",
    "df_uzupelnione_cw = # Tu dodaj kod\n",
    "\n",
    "# Wyświetlenie wyników\n",
    "print(\"Wartości brakujące w DataFrame:\\n\", brakujace_wartosci_cw)\n",
    "print(\"DataFrame bez wierszy zawierających wartości brakujące:\\n\", df_bez_brakujacych_wierszy_cw)\n",
    "print(\"DataFrame po uzupełnieniu wartości brakujących:\\n\", df_uzupelnione_cw)"
   ]
  },
  {
   "cell_type": "markdown",
   "id": "3187885a-57d6-411c-afcc-b070646d9f24",
   "metadata": {},
   "source": [
    "#### Ćwiczenie 8. - Wykrywanie Wartości Odstających w Pandas"
   ]
  },
  {
   "cell_type": "code",
   "execution_count": null,
   "id": "07d1f0a9-0f2f-4b25-9bf5-99674fb88328",
   "metadata": {},
   "outputs": [],
   "source": [
    "# Ćwiczenie: Wykrywanie i radzenie sobie z wartościami odstającymi\n",
    "df_cw = pd.DataFrame({'A': [1, 2, 3, 100],\n",
    "                      'B': [4, 5, 6, 200]})\n",
    "\n",
    "# Zadanie: Wykrycie wartości odstających na podstawie kwantyli\n",
    "kwantyl_25_cw = # Tu dodaj kod\n",
    "kwantyl_75_cw = # Tu dodaj kod\n",
    "rozstep_miedzykwartylowy_cw = # Tu dodaj kod\n",
    "\n",
    "# Zadanie: Definiowanie zakresu wartości \"normalnych\"\n",
    "dolny_limit_cw = # Tu dodaj kod\n",
    "gorny_limit_cw = # Tu dodaj kod\n",
    "\n",
    "# Zadanie: Wykrywanie wartości odstających\n",
    "odstajace_wartosci_cw = # Tu dodaj kod\n",
    "\n",
    "# Zadanie: Zastępowanie wartości odstających wartością graniczną\n",
    "df_bez_odstajacych_cw = # Tu dodaj kod\n",
    "\n",
    "# Wyświetlenie wyników\n",
    "print(\"Wartości odstające w DataFrame:\\n\", odstajace_wartosci_cw)\n",
    "print(\"DataFrame po zastąpieniu wartości odstających:\\n\", df_bez_odstajacych_cw)"
   ]
  },
  {
   "cell_type": "markdown",
   "id": "615f83f1-cb82-4429-8cbe-31d940756b80",
   "metadata": {},
   "source": [
    "#### Ćwiczenie 9. - Sortowanie Danych w Pandas"
   ]
  },
  {
   "cell_type": "code",
   "execution_count": null,
   "id": "f43cb986-460f-41b9-b2cd-85ad4113d357",
   "metadata": {},
   "outputs": [],
   "source": [
    "# Ćwiczenie: Sortowanie danych w Pandas\n",
    "df_cw = pd.DataFrame({'A': [3, 1, 4, 2],\n",
    "                      'B': ['c', 'a', 'd', 'b']})\n",
    "\n",
    "# Zadanie: Sortowanie wierszy według kolumny 'A'\n",
    "df_posortowany_cw = # Tu dodaj kod\n",
    "\n",
    "# Zadanie: Sortowanie kolumn według etykiet\n",
    "df_kolumny_posortowane_cw = # Tu dodaj kod\n",
    "\n",
    "# Zadanie: Sortowanie wierszy malejąco według kolumny 'A'\n",
    "df_posortowany_malejaco_cw = # Tu dodaj kod\n",
    "\n",
    "# Wyświetlenie wyników\n",
    "print(\"DataFrame po posortowaniu wierszy według kolumny 'A':\\n\", df_posortowany_cw)\n",
    "print(\"DataFrame po posortowaniu kolumn według etykiet:\\n\", df_kolumny_posortowane_cw)\n",
    "print(\"DataFrame po posortowaniu malejąco według kolumny 'A':\\n\", df_posortowany_malejaco_cw)"
   ]
  },
  {
   "cell_type": "markdown",
   "id": "3ba67aa2-7083-4696-b314-7f7b9bbbeb16",
   "metadata": {},
   "source": [
    "#### Ćwiczenie 10. - Filtrowanie Danych w Pandas"
   ]
  },
  {
   "cell_type": "code",
   "execution_count": null,
   "id": "7ecfd25d-d525-4fb1-a70b-9a656d57740d",
   "metadata": {},
   "outputs": [],
   "source": [
    "# Ćwiczenie: Filtrowanie danych w Pandas\n",
    "df_cw = pd.DataFrame({'A': [1, 2, 3, 4],\n",
    "                      'B': ['a', 'b', 'c', 'd']}, index=['x', 'y', 'z', 'w'])\n",
    "\n",
    "# Zadanie: Filtrowanie wierszy o indeksach 'x' i 'y' oraz kolumny 'A'\n",
    "df_filtr_loc_cw = # Tu dodaj kod\n",
    "\n",
    "# Zadanie: Filtrowanie pierwszych dwóch wierszy oraz pierwszej kolumny za pomocą iloc\n",
    "df_filtr_iloc_cw = # Tu dodaj kod\n",
    "\n",
    "# Zadanie: Filtrowanie wierszy, gdzie wartość w kolumnie 'A' jest większa niż 2 za pomocą query\n",
    "df_filtr_query_cw = # Tu dodaj kod\n",
    "\n",
    "# Zadanie: Filtrowanie, zwracając nowy DataFrame z wartościami, które spełniają warunek, a reszta to NaN za pomocą where\n",
    "df_filtr_where_cw = # Tu dodaj kod\n",
    "\n",
    "# Zadanie: Filtrowanie wierszy, gdzie wartość w kolumnie 'B' jest jedną z określonych wartości za pomocą isin\n",
    "df_filtr_isin_cw = # Tu dodaj kod\n",
    "\n",
    "# Zadanie: Filtrowanie wierszy, gdzie wartość w kolumnie 'A' jest NaN za pomocą isnull\n",
    "df_filtr_isnull_cw = # Tu dodaj kod\n",
    "\n",
    "# Zadanie: Filtrowanie wierszy, gdzie wartość w kolumnie 'A' nie jest NaN za pomocą notnull\n",
    "df_filtr_notnull_cw = # Tu dodaj kod\n",
    "\n",
    "# Wyświetlenie wyników\n",
    "print(\"Wynik filtrowania za pomocą loc:\\n\", df_filtr_loc_cw)\n",
    "print(\"Wynik filtrowania za pomocą iloc:\\n\", df_filtr_iloc_cw)\n",
    "print(\"Wynik filtrowania za pomocą query:\\n\", df_filtr_query_cw)\n",
    "print(\"Wynik filtrowania za pomocą where:\\n\", df_filtr_where_cw)\n",
    "print(\"Wynik filtrowania za pomocą isin:\\n\", df_filtr_isin_cw)\n",
    "print(\"Wynik filtrowania za pomocą isnull:\\n\", df_filtr_isnull_cw)\n",
    "print(\"Wynik filtrowania za pomocą notnull:\\n\", df_filtr_notnull_cw)"
   ]
  },
  {
   "cell_type": "markdown",
   "id": "8e486b00-e7c6-4c46-82a8-030698ff18a3",
   "metadata": {},
   "source": [
    "#### Ćwiczenie 11. - Tabele Przestawne w Pandas"
   ]
  },
  {
   "cell_type": "code",
   "execution_count": null,
   "id": "8b1651d4-89e8-4040-b527-bfe071223141",
   "metadata": {},
   "outputs": [],
   "source": [
    "# Ćwiczenie: Tworzenie tabeli przestawnej w Pandas\n",
    "df_cw = pd.DataFrame({'Category': ['A', 'B', 'A', 'B', 'A', 'B'],\n",
    "                      'Value': [10, 20, 30, 40, 50, 60]})\n",
    "\n",
    "# Zadanie: Stwórz tabelę przestawną na podstawie danych w df_cw\n",
    "table_przestawna_cw = # Tu dodaj kod\n",
    "\n",
    "# Zadanie: Określ indeksy i kolumny dla tabeli przestawnej\n",
    "table_przestawna_indeks_kolumny_cw = # Tu dodaj kod\n",
    "\n",
    "# Zadanie: Określ funkcję agregującą (np. suma) dla tabeli przestawnej\n",
    "table_przestawna_suma_cw = # Tu dodaj kod\n",
    "\n",
    "# Zadanie: Uzupełnij wartości brakujące w tabeli przestawnej (np. wartością 0)\n",
    "table_przestawna_uzupelniona_cw = # Tu dodaj kod\n",
    "\n",
    "# Wyświetlenie wyników\n",
    "print(\"Tabela przestawna:\\n\", table_przestawna_cw)\n",
    "print(\"Tabela przestawna z określonymi indeksami i kolumnami:\\n\", table_przestawna_indeks_kolumny_cw)\n",
    "print(\"Tabela przestawna z określoną funkcją agregującą (suma):\\n\", table_przestawna_suma_cw)\n",
    "print(\"Tabela przestawna z uzupełnionymi wartościami brakującymi:\\n\", table_przestawna_uzupelniona_cw)"
   ]
  },
  {
   "cell_type": "markdown",
   "id": "b0f507cb-bd9a-42e3-9950-50d56abe9593",
   "metadata": {},
   "source": [
    "#### Ćwiczenie 12. - Grupowanie Danych w Pandas"
   ]
  },
  {
   "cell_type": "code",
   "execution_count": null,
   "id": "6886d95f-aa5e-4010-adba-5d44d787819f",
   "metadata": {},
   "outputs": [],
   "source": [
    "# Ćwiczenie: Grupowanie danych w Pandas\n",
    "df_cw = pd.DataFrame({'Category': ['A', 'B', 'A', 'B', 'A', 'B'],\n",
    "                      'Value': [10, 20, 30, 40, 50, 60]})\n",
    "\n",
    "# Zadanie: Grupowanie na podstawie kolumny 'Category' i obliczanie sumy dla każdej grupy\n",
    "grupowanie_jedna_kolumna_cw = # Tu dodaj kod\n",
    "\n",
    "# Zadanie: Grupowanie na podstawie wielu kolumn i obliczanie sumy dla każdej grupy\n",
    "grupowanie_wiele_kolumn_cw = # Tu dodaj kod\n",
    "\n",
    "# Zadanie: Grupowanie i obliczanie różnych statystyk dla każdej grupy\n",
    "grupowanie_statystyki_cw = # Tu dodaj kod\n",
    "\n",
    "# Wyświetlenie wyników\n",
    "print(\"Wynik grupowania na podstawie jednej kolumny:\\n\", grupowanie_jedna_kolumna_cw)\n",
    "print(\"Wynik grupowania na podstawie wielu kolumn:\\n\", grupowanie_wiele_kolumn_cw)\n",
    "print(\"Wynik grupowania z różnymi operacjami dla każdej grupy:\\n\", grupowanie_statystyki_cw)"
   ]
  },
  {
   "cell_type": "markdown",
   "id": "88e3d418-9c25-499a-b0ac-2d95c46a7040",
   "metadata": {},
   "source": [
    "#### Ćwiczenie 13. - Łączenie Danych w Pandas"
   ]
  },
  {
   "cell_type": "code",
   "execution_count": null,
   "id": "c5b6825a-4430-4279-9ced-45f8f8f31bc9",
   "metadata": {},
   "outputs": [],
   "source": [
    "# Ćwiczenie: Łączenie danych w Pandas\n",
    "df1_cw = pd.DataFrame({'ID': [1, 2, 3],\n",
    "                       'Value1': ['A', 'B', 'C']})\n",
    "\n",
    "df2_cw = pd.DataFrame({'ID': [2, 3, 4],\n",
    "                       'Value2': ['X', 'Y', 'Z']})\n",
    "\n",
    "# Zadanie: Łączenie na podstawie wspólnej kolumny 'ID'\n",
    "laczenie_kolumna_cw = # Tu dodaj kod\n",
    "\n",
    "# Zadanie: Przykładowe utworzenie DataFrame'ów do łączenia na podstawie indeksu\n",
    "df3_cw = pd.DataFrame({'Value3': ['M', 'N', 'O']}, index=[1, 2, 3])\n",
    "\n",
    "# Zadanie: Łączenie na podstawie wspólnego indeksu\n",
    "laczenie_indeks_cw = # Tu dodaj kod\n",
    "\n",
    "# Zadanie: Łączenie na podstawie wspólnego indeksu w kierunku pionowym\n",
    "laczenie_pionowe_cw = # Tu dodaj kod\n",
    "\n",
    "# Wyświetlenie wyników\n",
    "print(\"Wynik łączenia na podstawie wspólnej kolumny:\\n\", laczenie_kolumna_cw)\n",
    "print(\"Wynik łączenia na podstawie wspólnego indeksu:\\n\", laczenie_indeks_cw)\n",
    "print(\"Wynik łączenia na podstawie wspólnego indeksu w kierunku pionowym:\\n\", laczenie_pionowe_cw)"
   ]
  },
  {
   "cell_type": "markdown",
   "id": "a451e350-273d-48b3-bba9-b2347e283a0e",
   "metadata": {},
   "source": [
    "#### Ćwiczenie 14. - Tworzenie Nowych Atrybutów w Pandas"
   ]
  },
  {
   "cell_type": "code",
   "execution_count": null,
   "id": "9b050a48-f926-4ec7-8d9e-a7bfb67cf567",
   "metadata": {},
   "outputs": [],
   "source": [
    "# Ćwiczenie: Tworzenie nowych atrybutów w Pandas\n",
    "df_cw = pd.DataFrame({'Value1': [10, 20, 30],\n",
    "                      'Value2': [5, 15, 25]})\n",
    "\n",
    "# Zadanie: Dodaj nowy atrybut 'Multiply' na podstawie iloczynu istniejących kolumn\n",
    "df_cw['Multiply'] = # Tu dodaj kod\n",
    "\n",
    "# Zadanie: Dodaj nowy atrybut 'Status' na podstawie warunku logicznego (np. > 50)\n",
    "df_cw['Status'] = # Tu dodaj kod\n",
    "\n",
    "# Zadanie: Utwórz nowy atrybut 'Grade' przy użyciu funkcji (np. A, B, C)\n",
    "def categorize_grade(multiply_value):\n",
    "    # Tu dodaj kod\n",
    "\n",
    "df_cw['Grade'] = # Tu dodaj kod\n",
    "\n",
    "# Wyświetlenie wyników\n",
    "print(\"DataFrame z dodanym atrybutem 'Multiply':\\n\", df_cw)\n",
    "print(\"DataFrame z dodanym atrybutem 'Status':\\n\", df_cw)\n",
    "print(\"DataFrame z dodanym atrybutem 'Grade':\\n\", df_cw)"
   ]
  }
 ],
 "metadata": {
  "kernelspec": {
   "display_name": "Python 3 (ipykernel)",
   "language": "python",
   "name": "python3"
  },
  "language_info": {
   "codemirror_mode": {
    "name": "ipython",
    "version": 3
   },
   "file_extension": ".py",
   "mimetype": "text/x-python",
   "name": "python",
   "nbconvert_exporter": "python",
   "pygments_lexer": "ipython3",
   "version": "3.11.5"
  }
 },
 "nbformat": 4,
 "nbformat_minor": 5
}
