{
 "cells": [
  {
   "cell_type": "markdown",
   "id": "e910cc60-b2f9-44c0-9534-e2751a6e8145",
   "metadata": {},
   "source": [
    "# Ćwiczenia Python"
   ]
  },
  {
   "cell_type": "markdown",
   "id": "324f7d0b-36e3-4a8c-bc19-a491504489b3",
   "metadata": {},
   "source": [
    "#### 1. Liczby całkowite (int) i liczby zmiennoprzecinkowe (float)"
   ]
  },
  {
   "cell_type": "code",
   "execution_count": 13,
   "id": "57f731ef-09ae-4968-997e-fe74ae372696",
   "metadata": {},
   "outputs": [],
   "source": [
    "# Ćwiczenie 1\n",
    "\n",
    "# Stwórz dwie zmienne, jedną przechowującą liczbę całkowitą, a drugą liczbę zmiennoprzecinkową.\n",
    "# Następnie wykonaj operacje matematyczne (dodawanie +, odejmowanie -, mnożenie *, dzielenie /) na tych zmiennych.\n"
   ]
  },
  {
   "cell_type": "code",
   "execution_count": null,
   "id": "0a075afc-c04c-4de5-a449-32342dc48e5f",
   "metadata": {},
   "outputs": [],
   "source": [
    "# Liczby całkowite (int) i liczby zmiennoprzecinkowe (float)\n",
    "\n",
    "\n",
    "# Operacje matematyczne\n"
   ]
  },
  {
   "cell_type": "markdown",
   "id": "6ab29db8-28e6-4788-b0c4-baaa82ea451b",
   "metadata": {},
   "source": [
    "#### 2. Napisy (str)"
   ]
  },
  {
   "cell_type": "code",
   "execution_count": null,
   "id": "52c840ab-1b4d-4279-b870-caed2ab454f7",
   "metadata": {},
   "outputs": [],
   "source": [
    "# Ćwiczenie 2\n",
    "\n",
    "# Stwórz zmienną przechowującą napis \"Hello, Python!\".\n",
    "# Następnie użyj różnych operacji na napisach, takich jak indeksowanie, wycinanie fragmentów (slicing) i łączenie napisów.\n"
   ]
  },
  {
   "cell_type": "code",
   "execution_count": null,
   "id": "9be2be57-d252-4bd8-a66c-84e92b0b6722",
   "metadata": {},
   "outputs": [],
   "source": [
    "# Operacje na napisach\n",
    "\n"
   ]
  },
  {
   "cell_type": "markdown",
   "id": "aa3fa246-7e9e-4360-a15e-0d1618305faf",
   "metadata": {},
   "source": [
    "#### 3. Listy"
   ]
  },
  {
   "cell_type": "code",
   "execution_count": null,
   "id": "8d856549-9afb-40a1-b8a7-5dc1d0d9cf9c",
   "metadata": {},
   "outputs": [],
   "source": [
    "# Ćwiczenie 3\n",
    "\n",
    "# Stwórz listę zawierającą kilka różnych typów danych (liczby, napisy).\n",
    "# Następnie wykonaj operacje takie jak dodawanie elementów, usuwanie elementów i dostęp do elementów za pomocą indeksów.\n"
   ]
  },
  {
   "cell_type": "code",
   "execution_count": null,
   "id": "829b2009-dbc0-4216-b9b9-191b7be2fe12",
   "metadata": {},
   "outputs": [],
   "source": [
    "# Lista\n",
    "\n",
    "# Operacje na listach\n"
   ]
  },
  {
   "cell_type": "markdown",
   "id": "8b25600c-38d7-4579-9341-452808d9a0fc",
   "metadata": {},
   "source": [
    "#### 4. Krotki (tuple)"
   ]
  },
  {
   "cell_type": "code",
   "execution_count": null,
   "id": "68de9d7c-c9cb-48d5-b5f1-55b7a6f905a7",
   "metadata": {},
   "outputs": [],
   "source": [
    "# Ćwiczenie 4\n",
    "\n",
    "# Stwórz krotkę zawierającą co najmniej trzy elementy.\n",
    "# Następnie spróbuj zmienić wartość jednego z elementów (będzie to niemożliwe z powodu niemodyfikowalności krotek).\n"
   ]
  },
  {
   "cell_type": "code",
   "execution_count": null,
   "id": "ca67e58a-8f68-46f3-a32e-2e0317bc82a2",
   "metadata": {},
   "outputs": [],
   "source": [
    "# Krotka\n",
    "\n",
    "# Próba zmiany wartości (spowoduje błąd)\n"
   ]
  },
  {
   "cell_type": "markdown",
   "id": "30e96292-f221-48e1-94dc-b927a711010b",
   "metadata": {},
   "source": [
    "#### 5. Słowniki (dict)"
   ]
  },
  {
   "cell_type": "code",
   "execution_count": null,
   "id": "2a9e2ec7-2333-41f3-aee4-f5ce9d68a41e",
   "metadata": {},
   "outputs": [],
   "source": [
    "# Ćwiczenie 5\n",
    "\n",
    "# Stwórz słownik reprezentujący informacje o studencie (imię, wiek, ocena).\n",
    "# Następnie dodaj nowy klucz i zmień wartość jednego z kluczy.\n"
   ]
  },
  {
   "cell_type": "code",
   "execution_count": null,
   "id": "cefac6ad-70f0-44db-9f7d-2b06b2dab20e",
   "metadata": {},
   "outputs": [],
   "source": [
    "# Słownik\n",
    "\n",
    "# Dodanie nowego klucza\n",
    "\n",
    "# Zmiana wartości klucza 'wiek'\n"
   ]
  },
  {
   "cell_type": "markdown",
   "id": "fda9c2e5-e9a6-467d-ae71-06d839d1d764",
   "metadata": {},
   "source": [
    "#### 6. List Comprehension"
   ]
  },
  {
   "cell_type": "code",
   "execution_count": null,
   "id": "d43e59a5-e1ae-4ee8-868e-1e49c0b223da",
   "metadata": {},
   "outputs": [],
   "source": [
    "# Ćwiczenie 6\n",
    "\n",
    "# Stwórz listę liczb od 1 do 10.\n",
    "# Następnie używając list comprehension, utwórz nową listę zawierającą kwadraty tych liczb.\n"
   ]
  },
  {
   "cell_type": "code",
   "execution_count": null,
   "id": "cf9f5ad3-7a15-4b2a-80f6-3d69819d31ac",
   "metadata": {},
   "outputs": [],
   "source": [
    "# Lista\n",
    "\n",
    "# Utwórz listę kwadratów używając List Comprehension\n"
   ]
  },
  {
   "cell_type": "markdown",
   "id": "867abbb0-5cee-4bd5-8b81-fd3b2ccf5be3",
   "metadata": {},
   "source": [
    "#### 7. Funkcje Matematyczne i Tekstowe"
   ]
  },
  {
   "cell_type": "code",
   "execution_count": null,
   "id": "ace6e31b-ce7a-4630-ad1c-2f803412a7d2",
   "metadata": {},
   "outputs": [],
   "source": [
    "# Ćwiczenie 7\n",
    "\n",
    "# Stwórz funkcję, która przyjmuje dwie liczby i zwraca ich sumę.\n",
    "# Następnie użyj tej funkcji do dodawania dwóch liczb.\n",
    "\n"
   ]
  },
  {
   "cell_type": "code",
   "execution_count": null,
   "id": "ad8ce267-9767-4e40-a3bb-de1b49fea954",
   "metadata": {},
   "outputs": [],
   "source": [
    "# Funkcja\n",
    "\n",
    "# Użycie funkcji do dodawania dwóch liczb\n"
   ]
  },
  {
   "cell_type": "markdown",
   "id": "df47783d-7ea7-45ae-9070-5a8db596cbeb",
   "metadata": {},
   "source": [
    "#### 8. Iteracja i warunki"
   ]
  },
  {
   "cell_type": "code",
   "execution_count": null,
   "id": "060e0e6f-7cdb-450d-9ecc-99d73653dde6",
   "metadata": {},
   "outputs": [],
   "source": [
    "# Ćwiczenie 8\n",
    "\n",
    "# Stwórz listę liczb od 1 do 10.\n",
    "# Następnie użyj pętli for do iteracji przez listę i wyświetlenia tylko parzystych liczb.\n"
   ]
  },
  {
   "cell_type": "code",
   "execution_count": null,
   "id": "787f24df-ba4c-41c5-9032-f77bd52657a8",
   "metadata": {},
   "outputs": [],
   "source": [
    "# Lista\n",
    "\n",
    "# Iteracja przez listę i wyświetlenie parzystych liczb\n"
   ]
  },
  {
   "cell_type": "markdown",
   "id": "67593ae2-15a7-48cd-8c9d-0e3cd32787ba",
   "metadata": {},
   "source": [
    "#### 9. Pętla While"
   ]
  },
  {
   "cell_type": "code",
   "execution_count": null,
   "id": "6fd7fdf0-96b0-4509-bb33-a2f02f024cc7",
   "metadata": {},
   "outputs": [],
   "source": [
    "# Ćwiczenie 9\n",
    "\n",
    "# Używając pętli while, stwórz program, który dodaje kolejne liczby całkowite, aż suma przekroczy 100.\n"
   ]
  },
  {
   "cell_type": "markdown",
   "id": "777360a9-3688-487b-95ef-80cc4e778d46",
   "metadata": {},
   "source": [
    "#### 10. Slicing napisów"
   ]
  },
  {
   "cell_type": "code",
   "execution_count": null,
   "id": "5be97f3d-7263-4784-887a-f5e72497f08b",
   "metadata": {},
   "outputs": [],
   "source": [
    "# Ćwiczenie 10\n",
    "\n",
    "# Stwórz napis zawierający dowolne zdanie.\n",
    "# Następnie użyj slicingu, aby wyświetlić co trzeci znak w napisie.\n"
   ]
  },
  {
   "cell_type": "code",
   "execution_count": null,
   "id": "24bca990-76c9-4c34-badd-dbf4f04db31d",
   "metadata": {},
   "outputs": [],
   "source": [
    "# Tekst\n",
    "\n",
    "# Wyświetl co trzeci znak w napisie\n"
   ]
  },
  {
   "cell_type": "markdown",
   "id": "5deb50af-4764-4efa-9bb6-98d64da7164b",
   "metadata": {},
   "source": [
    "#### 11. Funkcje Anonimowe (Lambda) i List Comprehension"
   ]
  },
  {
   "cell_type": "code",
   "execution_count": null,
   "id": "82ae509c-6e74-4ab8-900e-761714a49b07",
   "metadata": {},
   "outputs": [],
   "source": [
    "# Ćwiczenie 11\n",
    "\n",
    "# Utwórz funkcję anonimową (lambda), która podnosi liczbę do kwadratu.\n",
    "# Następnie użyj List Comprehension, aby utworzyć listę kwadratów liczb od 1 do 5.\n"
   ]
  },
  {
   "cell_type": "code",
   "execution_count": null,
   "id": "1d96620a-27c6-4568-ad4d-bbe7e07e26a1",
   "metadata": {},
   "outputs": [],
   "source": [
    "# Lista z pomocą funkcji lambda\n",
    "\n",
    "# Użyj List Comprehension do utworzenia listy kwadratów\n"
   ]
  },
  {
   "cell_type": "markdown",
   "id": "99057df0-b60f-457d-b670-b88d96be1d4f",
   "metadata": {},
   "source": [
    "#### 12. Instrukcje warunkowe i funkcje tekstowe"
   ]
  },
  {
   "cell_type": "code",
   "execution_count": null,
   "id": "788454e4-76ee-4dba-871e-c62b8e710e26",
   "metadata": {},
   "outputs": [],
   "source": [
    "# Ćwiczenie 12\n",
    "\n",
    "# Stwórz funkcję, która przyjmuje napis i sprawdza, czy zaczyna się od litery \"A\".\n",
    "# Jeśli tak, wyświetl komunikat \"Zaczyna się od A\", w przeciwnym razie \"Nie zaczyna się od A\".\n"
   ]
  },
  {
   "cell_type": "code",
   "execution_count": null,
   "id": "7cf595fd-6124-433e-8116-86d8549011be",
   "metadata": {},
   "outputs": [],
   "source": [
    "# Funkcja\n",
    "\n",
    "# Przykłady użycia funkcji\n"
   ]
  },
  {
   "cell_type": "markdown",
   "id": "de984efb-ce67-4146-ab07-317b3714efea",
   "metadata": {},
   "source": [
    "#### 13. Iteracje i operacje na liście"
   ]
  },
  {
   "cell_type": "code",
   "execution_count": null,
   "id": "adb8b697-e5fd-4f90-89a2-d89ee5f4650f",
   "metadata": {},
   "outputs": [],
   "source": [
    "# Ćwiczenie 13\n",
    "\n",
    "# Stwórz listę zawierającą kilka słów.\n",
    "# Następnie użyj pętli for do wyświetlenia długości każdego słowa.\n"
   ]
  },
  {
   "cell_type": "code",
   "execution_count": null,
   "id": "a12b7d77-7267-4ca9-8575-cce747c5c0a6",
   "metadata": {},
   "outputs": [],
   "source": [
    "# lista\n",
    "\n",
    "# Użyj pętli for do wyświetlenia długości każdego słowa\n"
   ]
  },
  {
   "cell_type": "markdown",
   "id": "8774b45b-2b45-412c-ab46-59af9e182242",
   "metadata": {},
   "source": [
    "#### 14. Praca z datą i czasem"
   ]
  },
  {
   "cell_type": "code",
   "execution_count": null,
   "id": "ca29d9f7-1be8-40f7-8d5a-21984d89fab0",
   "metadata": {},
   "outputs": [],
   "source": [
    "# Ćwiczenie 14\n",
    "\n",
    "# Zaimportuj moduł datetime i użyj go do uzyskania aktualnej daty i godziny.\n",
    "# Następnie przekształć datę do postaci stringa i wyświetl.\n"
   ]
  },
  {
   "cell_type": "code",
   "execution_count": null,
   "id": "88d54b8f-7493-4c01-bbd9-b2adff2272af",
   "metadata": {},
   "outputs": [],
   "source": [
    "# Uzyskaj aktualną datę i godzinę\n",
    "\n",
    "# Przekształć datę do postaci napisu (string) i wyświetl\n"
   ]
  },
  {
   "cell_type": "markdown",
   "id": "2f393cde-c5f6-40e4-bc03-e0a6936a3a56",
   "metadata": {},
   "source": [
    "#### 15. Pętla While i praca z listami"
   ]
  },
  {
   "cell_type": "code",
   "execution_count": null,
   "id": "b90ef099-a075-4182-ae1d-0f7a1b54835e",
   "metadata": {},
   "outputs": [],
   "source": [
    "# Ćwiczenie 15\n",
    "\n",
    "# Użyj pętli while, aby utworzyć listę kolejnych potęg liczby 2, dopóki potęga nie przekroczy 1000.\n"
   ]
  },
  {
   "cell_type": "code",
   "execution_count": null,
   "id": "513f8065-9b1f-45d4-9949-dd751a56b6c8",
   "metadata": {},
   "outputs": [],
   "source": []
  }
 ],
 "metadata": {
  "kernelspec": {
   "display_name": "Python 3 (ipykernel)",
   "language": "python",
   "name": "python3"
  },
  "language_info": {
   "codemirror_mode": {
    "name": "ipython",
    "version": 3
   },
   "file_extension": ".py",
   "mimetype": "text/x-python",
   "name": "python",
   "nbconvert_exporter": "python",
   "pygments_lexer": "ipython3",
   "version": "3.11.5"
  }
 },
 "nbformat": 4,
 "nbformat_minor": 5
}
