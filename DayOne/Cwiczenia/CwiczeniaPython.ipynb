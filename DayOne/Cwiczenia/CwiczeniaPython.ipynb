{
 "cells": [
  {
   "cell_type": "markdown",
   "id": "e910cc60-b2f9-44c0-9534-e2751a6e8145",
   "metadata": {},
   "source": [
    "# Ćwiczenia Python"
   ]
  },
  {
   "cell_type": "markdown",
   "id": "324f7d0b-36e3-4a8c-bc19-a491504489b3",
   "metadata": {},
   "source": [
    "#### 1. Liczby całkowite (int) i liczby zmiennoprzecinkowe (float)"
   ]
  },
  {
   "cell_type": "code",
   "execution_count": 13,
   "id": "57f731ef-09ae-4968-997e-fe74ae372696",
   "metadata": {},
   "outputs": [],
   "source": [
    "# Ćwiczenie 1\n",
    "\n",
    "# Zdefiniuj dwie zmienne: liczbę całkowitą oraz liczbę zmiennoprzecinkową.\n",
    "# Wykonaj podstawowe operacje matematyczne: dodawanie, odejmowanie, mnożenie i dzielenie tych liczb.\n",
    "# Wydrukuj wyniki każdej operacji.\n"
   ]
  },
  {
   "cell_type": "code",
   "execution_count": null,
   "id": "0a075afc-c04c-4de5-a449-32342dc48e5f",
   "metadata": {},
   "outputs": [],
   "source": [
    "# Liczby całkowite (int) i liczby zmiennoprzecinkowe (float)\n",
    "\n",
    "\n",
    "# Operacje matematyczne\n"
   ]
  },
  {
   "cell_type": "markdown",
   "id": "6ab29db8-28e6-4788-b0c4-baaa82ea451b",
   "metadata": {},
   "source": [
    "#### 2. Napisy (str)"
   ]
  },
  {
   "cell_type": "code",
   "execution_count": null,
   "id": "52c840ab-1b4d-4279-b870-caed2ab454f7",
   "metadata": {},
   "outputs": [],
   "source": [
    "# Ćwiczenie 2\n",
    "\n",
    "# Zdefiniuj zmienną zawierającą napis (ciąg znaków).\n",
    "# Użyj indeksowania, aby wyciągnąć pierwszy znak napisu.\n",
    "# Wyciągnij fragment napisu, używając zakresu indeksów.\n",
    "# Połącz napis z innym ciągiem znaków.\n",
    "# Wydrukuj wyniki każdej z tych operacji.\n"
   ]
  },
  {
   "cell_type": "code",
   "execution_count": null,
   "id": "9be2be57-d252-4bd8-a66c-84e92b0b6722",
   "metadata": {},
   "outputs": [],
   "source": [
    "# Operacje na napisach\n",
    "\n"
   ]
  },
  {
   "cell_type": "markdown",
   "id": "aa3fa246-7e9e-4360-a15e-0d1618305faf",
   "metadata": {},
   "source": [
    "#### 3. Listy"
   ]
  },
  {
   "cell_type": "code",
   "execution_count": null,
   "id": "8d856549-9afb-40a1-b8a7-5dc1d0d9cf9c",
   "metadata": {},
   "outputs": [],
   "source": [
    "# Ćwiczenie 3\n",
    "\n",
    "# Zdefiniuj listę, która zawiera różne typy danych.\n",
    "# Dodaj nowy element do listy.\n",
    "# Usuń jeden z elementów listy.\n",
    "# Wyciągnij element o określonym indeksie.\n",
    "# Wydrukuj wyniki tych operacji.\n"
   ]
  },
  {
   "cell_type": "code",
   "execution_count": null,
   "id": "829b2009-dbc0-4216-b9b9-191b7be2fe12",
   "metadata": {},
   "outputs": [],
   "source": [
    "# Lista\n",
    "\n",
    "# Operacje na listach\n"
   ]
  },
  {
   "cell_type": "markdown",
   "id": "8b25600c-38d7-4579-9341-452808d9a0fc",
   "metadata": {},
   "source": [
    "#### 4. Krotki (tuple)"
   ]
  },
  {
   "cell_type": "code",
   "execution_count": null,
   "id": "68de9d7c-c9cb-48d5-b5f1-55b7a6f905a7",
   "metadata": {},
   "outputs": [],
   "source": [
    "# Ćwiczenie 4\n",
    "\n",
    "# Zdefiniuj krotkę zawierającą różne typy danych.\n",
    "# Spróbuj zmienić jeden z elementów krotki (spowoduje to błąd, ponieważ krotki są niemodyfikowalne).\n",
    "# Obsłuż błąd za pomocą instrukcji try-except i wyświetl komunikat o błędzie.\n"
   ]
  },
  {
   "cell_type": "code",
   "execution_count": null,
   "id": "ca67e58a-8f68-46f3-a32e-2e0317bc82a2",
   "metadata": {},
   "outputs": [],
   "source": [
    "# Krotka\n",
    "\n",
    "# Próba zmiany wartości (spowoduje błąd)\n"
   ]
  },
  {
   "cell_type": "markdown",
   "id": "30e96292-f221-48e1-94dc-b927a711010b",
   "metadata": {},
   "source": [
    "#### 5. Słowniki (dict)"
   ]
  },
  {
   "cell_type": "code",
   "execution_count": null,
   "id": "2a9e2ec7-2333-41f3-aee4-f5ce9d68a41e",
   "metadata": {},
   "outputs": [],
   "source": [
    "# Ćwiczenie 5\n",
    "\n",
    "# Zdefiniuj słownik z kilkoma kluczami i wartościami.\n",
    "# Dodaj nowy klucz i wartość do słownika.\n",
    "# Zmień wartość jednego z istniejących kluczy.\n",
    "# Wydrukuj zmieniony słownik.\n"
   ]
  },
  {
   "cell_type": "code",
   "execution_count": null,
   "id": "cefac6ad-70f0-44db-9f7d-2b06b2dab20e",
   "metadata": {},
   "outputs": [],
   "source": [
    "# Słownik\n",
    "\n",
    "# Dodanie nowego klucza\n",
    "\n",
    "# Zmiana wartości klucza 'wiek'\n"
   ]
  },
  {
   "cell_type": "markdown",
   "id": "fda9c2e5-e9a6-467d-ae71-06d839d1d764",
   "metadata": {},
   "source": [
    "#### 6. List Comprehension"
   ]
  },
  {
   "cell_type": "code",
   "execution_count": null,
   "id": "d43e59a5-e1ae-4ee8-868e-1e49c0b223da",
   "metadata": {},
   "outputs": [],
   "source": [
    "# Ćwiczenie 6\n",
    "\n",
    "# Zdefiniuj listę liczb od 1 do 10.\n",
    "# Użyj wyrażenia list comprehension, aby utworzyć nową listę, która będzie zawierała kwadraty tych liczb.\n",
    "# Wydrukuj oryginalną listę oraz listę kwadratów.\n"
   ]
  },
  {
   "cell_type": "code",
   "execution_count": null,
   "id": "cf9f5ad3-7a15-4b2a-80f6-3d69819d31ac",
   "metadata": {},
   "outputs": [],
   "source": [
    "# Lista\n",
    "\n",
    "# Utwórz listę kwadratów używając List Comprehension\n"
   ]
  },
  {
   "cell_type": "markdown",
   "id": "867abbb0-5cee-4bd5-8b81-fd3b2ccf5be3",
   "metadata": {},
   "source": [
    "#### 7. Funkcje Matematyczne i Tekstowe"
   ]
  },
  {
   "cell_type": "code",
   "execution_count": null,
   "id": "ace6e31b-ce7a-4630-ad1c-2f803412a7d2",
   "metadata": {},
   "outputs": [],
   "source": [
    "# Ćwiczenie 7\n",
    "\n",
    "# Zdefiniuj funkcję, która przyjmuje dwie liczby jako argumenty i zwraca ich sumę.\n",
    "# Wywołaj tę funkcję z przykładowymi liczbami.\n",
    "# Wydrukuj wynik dodawania.\n"
   ]
  },
  {
   "cell_type": "code",
   "execution_count": null,
   "id": "ad8ce267-9767-4e40-a3bb-de1b49fea954",
   "metadata": {},
   "outputs": [],
   "source": [
    "# Funkcja\n",
    "\n",
    "# Użycie funkcji do dodawania dwóch liczb\n"
   ]
  },
  {
   "cell_type": "markdown",
   "id": "df47783d-7ea7-45ae-9070-5a8db596cbeb",
   "metadata": {},
   "source": [
    "#### 8. Iteracja i warunki"
   ]
  },
  {
   "cell_type": "code",
   "execution_count": null,
   "id": "060e0e6f-7cdb-450d-9ecc-99d73653dde6",
   "metadata": {},
   "outputs": [],
   "source": [
    "# Ćwiczenie 8\n",
    "\n",
    "# Zdefiniuj listę liczb od 1 do 10.\n",
    "# Użyj pętli for do iteracji przez listę.\n",
    "# Wewnątrz pętli sprawdzaj, czy liczba jest parzysta. Jeśli tak, wydrukuj ją.\n"
   ]
  },
  {
   "cell_type": "code",
   "execution_count": null,
   "id": "787f24df-ba4c-41c5-9032-f77bd52657a8",
   "metadata": {},
   "outputs": [],
   "source": [
    "# Lista\n",
    "\n",
    "# Iteracja przez listę i wyświetlenie parzystych liczb\n"
   ]
  },
  {
   "cell_type": "markdown",
   "id": "67593ae2-15a7-48cd-8c9d-0e3cd32787ba",
   "metadata": {},
   "source": [
    "#### 9. Pętla While"
   ]
  },
  {
   "cell_type": "code",
   "execution_count": null,
   "id": "6fd7fdf0-96b0-4509-bb33-a2f02f024cc7",
   "metadata": {},
   "outputs": [],
   "source": [
    "# Ćwiczenie 9\n",
    "\n",
    "# Zainicjuj zmienną suma o wartości 0 oraz zmienną licznik o wartości 1.\n",
    "# Użyj pętli while, aby dodawać wartość licznika do sumy, dopóki suma nie przekroczy 100.\n",
    "# Zwiększaj wartość licznika w każdej iteracji.\n",
    "# Wydrukuj, po ilu iteracjach suma przekroczyła 100.\n"
   ]
  },
  {
   "cell_type": "code",
   "execution_count": null,
   "id": "7350d5ba-ea33-4473-bd37-0664a8d7c673",
   "metadata": {},
   "outputs": [],
   "source": [
    "# Zmienne\n",
    "\n",
    "# Pętla While\n",
    "\n"
   ]
  },
  {
   "cell_type": "markdown",
   "id": "777360a9-3688-487b-95ef-80cc4e778d46",
   "metadata": {},
   "source": [
    "#### 10. Slicing napisów"
   ]
  },
  {
   "cell_type": "code",
   "execution_count": null,
   "id": "5be97f3d-7263-4784-887a-f5e72497f08b",
   "metadata": {},
   "outputs": [],
   "source": [
    "# Ćwiczenie 10\n",
    "\n",
    "# Zdefiniuj zmienną z przykładowym zdaniem.\n",
    "# Użyj operacji \"slicing\", aby wyciągnąć co trzeci znak z tego zdania.\n",
    "# Wydrukuj oryginalne zdanie oraz wynik operacji slicing.\n"
   ]
  },
  {
   "cell_type": "code",
   "execution_count": null,
   "id": "24bca990-76c9-4c34-badd-dbf4f04db31d",
   "metadata": {},
   "outputs": [],
   "source": [
    "# Tekst\n",
    "\n",
    "# Wyświetl co trzeci znak w napisie\n"
   ]
  },
  {
   "cell_type": "markdown",
   "id": "5deb50af-4764-4efa-9bb6-98d64da7164b",
   "metadata": {},
   "source": [
    "#### 11. Funkcje Anonimowe (Lambda) i List Comprehension"
   ]
  },
  {
   "cell_type": "code",
   "execution_count": null,
   "id": "82ae509c-6e74-4ab8-900e-761714a49b07",
   "metadata": {},
   "outputs": [],
   "source": [
    "# Ćwiczenie 11\n",
    "\n",
    "# Zdefiniuj funkcję anonimową (lambda), która oblicza kwadrat liczby.\n",
    "# Użyj list comprehension, aby utworzyć listę kwadratów liczb od 1 do 5, korzystając z funkcji lambda.\n",
    "# Wydrukuj listę kwadratów.\n"
   ]
  },
  {
   "cell_type": "code",
   "execution_count": null,
   "id": "1d96620a-27c6-4568-ad4d-bbe7e07e26a1",
   "metadata": {},
   "outputs": [],
   "source": [
    "# Lista z pomocą funkcji lambda\n",
    "\n",
    "# Użyj List Comprehension do utworzenia listy kwadratów\n"
   ]
  },
  {
   "cell_type": "markdown",
   "id": "99057df0-b60f-457d-b670-b88d96be1d4f",
   "metadata": {},
   "source": [
    "#### 12. Instrukcje warunkowe i funkcje tekstowe"
   ]
  },
  {
   "cell_type": "code",
   "execution_count": null,
   "id": "788454e4-76ee-4dba-871e-c62b8e710e26",
   "metadata": {},
   "outputs": [],
   "source": [
    "# Ćwiczenie 12\n",
    "\n",
    "# Zdefiniuj funkcję, która sprawdza, czy napis zaczyna się od litery „A”.\n",
    "# Jeśli napis zaczyna się od „A”, zwróć odpowiedni komunikat, w przeciwnym razie zwróć inny.\n",
    "# Przetestuj funkcję z różnymi napisami i wydrukuj wyniki.\n"
   ]
  },
  {
   "cell_type": "code",
   "execution_count": null,
   "id": "7cf595fd-6124-433e-8116-86d8549011be",
   "metadata": {},
   "outputs": [],
   "source": [
    "# Funkcja\n",
    "\n",
    "# Przykłady użycia funkcji\n"
   ]
  },
  {
   "cell_type": "markdown",
   "id": "de984efb-ce67-4146-ab07-317b3714efea",
   "metadata": {},
   "source": [
    "#### 13. Iteracje i operacje na liście"
   ]
  },
  {
   "cell_type": "code",
   "execution_count": null,
   "id": "adb8b697-e5fd-4f90-89a2-d89ee5f4650f",
   "metadata": {},
   "outputs": [],
   "source": [
    "# Ćwiczenie 13\n",
    "\n",
    "# Zdefiniuj listę słów.\n",
    "# Użyj pętli for, aby przejść przez każdy element listy.\n",
    "# Wyświetl długość każdego słowa.\n"
   ]
  },
  {
   "cell_type": "code",
   "execution_count": null,
   "id": "a12b7d77-7267-4ca9-8575-cce747c5c0a6",
   "metadata": {},
   "outputs": [],
   "source": [
    "# lista\n",
    "\n",
    "# Użyj pętli for do wyświetlenia długości każdego słowa\n"
   ]
  },
  {
   "cell_type": "markdown",
   "id": "8774b45b-2b45-412c-ab46-59af9e182242",
   "metadata": {},
   "source": [
    "#### 14. Praca z datą i czasem"
   ]
  },
  {
   "cell_type": "code",
   "execution_count": null,
   "id": "ca29d9f7-1be8-40f7-8d5a-21984d89fab0",
   "metadata": {},
   "outputs": [],
   "source": [
    "# Ćwiczenie 14\n",
    "\n",
    "# Użyj modułu datetime, aby uzyskać aktualną datę i czas.\n",
    "# Przekształć datę i czas na format tekstowy.\n",
    "# Wydrukuj wynik w formacie: „Rok-miesiąc-dzień godzina:minuta”.\n"
   ]
  },
  {
   "cell_type": "code",
   "execution_count": null,
   "id": "88d54b8f-7493-4c01-bbd9-b2adff2272af",
   "metadata": {},
   "outputs": [],
   "source": [
    "# Uzyskaj aktualną datę i godzinę\n",
    "\n",
    "# Przekształć datę do postaci napisu (string) i wyświetl\n"
   ]
  },
  {
   "cell_type": "markdown",
   "id": "2f393cde-c5f6-40e4-bc03-e0a6936a3a56",
   "metadata": {},
   "source": [
    "#### 15. Pętla While i praca z listami"
   ]
  },
  {
   "cell_type": "code",
   "execution_count": null,
   "id": "b90ef099-a075-4182-ae1d-0f7a1b54835e",
   "metadata": {},
   "outputs": [],
   "source": [
    "# Ćwiczenie 15\n",
    "\n",
    "# Zdefiniuj zmienną początkową jako 1.\n",
    "# Użyj pętli while, aby dodawać kolejne potęgi liczby 2 do listy, aż wartość przekroczy 1000.\n",
    "# Wydrukuj listę zawierającą te potęgi.\n"
   ]
  },
  {
   "cell_type": "code",
   "execution_count": null,
   "id": "076b27af-ea57-41e1-98cd-e14d49153fb4",
   "metadata": {},
   "outputs": [],
   "source": [
    "# Zmienna\n",
    "\n",
    "# Pętla While\n"
   ]
  },
  {
   "cell_type": "markdown",
   "id": "d3545857-442a-4fad-a382-212f67d307aa",
   "metadata": {},
   "source": [
    "#### 16. Operacje na napisach"
   ]
  },
  {
   "cell_type": "code",
   "execution_count": null,
   "id": "513f8065-9b1f-45d4-9949-dd751a56b6c8",
   "metadata": {},
   "outputs": [],
   "source": [
    "# Ćwiczenie 16\n",
    "\n",
    "# Zdefiniuj napis.\n",
    "# Wykonaj następujące operacje:\n",
    "# Zamień napis na małe litery.\n",
    "# Zamień napis na wielkie litery.\n",
    "# Odwróć napis.\n",
    "# Wydrukuj wyniki każdej operacji.\n"
   ]
  },
  {
   "cell_type": "code",
   "execution_count": null,
   "id": "800b21c7-1a3c-4386-bb14-f5416218055d",
   "metadata": {},
   "outputs": [],
   "source": [
    "# Napis (string)\n",
    "\n",
    "# Różne operacje na napisach\n"
   ]
  },
  {
   "cell_type": "markdown",
   "id": "480a13e9-4cc9-4223-b15f-3a2df0babe20",
   "metadata": {},
   "source": [
    "#### 17. Wybór elementów z listy"
   ]
  },
  {
   "cell_type": "code",
   "execution_count": null,
   "id": "27def20a-8bd5-40f4-901f-09449c473f4e",
   "metadata": {},
   "outputs": [],
   "source": [
    "# Ćwiczenie 17\n",
    "\n",
    "# Użyj list comprehension, aby utworzyć nową listę o nazwie nowa_lista, która będzie zawierała tylko te liczby z listy liczby, które są większe niż 30.\n",
    "# Wydrukuj oryginalną listę liczby.\n",
    "# Wydrukuj nową listę nowa_lista, która będzie zawierała liczby większe niż 30.\n"
   ]
  },
  {
   "cell_type": "code",
   "execution_count": null,
   "id": "aa6b3f7b-016f-4771-bf3a-a1490a774308",
   "metadata": {},
   "outputs": [],
   "source": [
    "# Lista\n",
    "\n",
    "# Utwórz nową listę zawierającą liczby większe niż 30\n"
   ]
  },
  {
   "cell_type": "markdown",
   "id": "a9e4a8e0-92f1-4fa1-b980-a04ffc5dd441",
   "metadata": {},
   "source": [
    "#### 18. Praca z listami i słownikami"
   ]
  },
  {
   "cell_type": "code",
   "execution_count": null,
   "id": "a9a082cf-8826-4499-af51-5320cb4bfc69",
   "metadata": {},
   "outputs": [],
   "source": [
    "# Ćwiczenie 18\n",
    "\n",
    "# Zdefiniuj listę słowników o nazwie osoby, gdzie każdy słownik reprezentuje osobę z informacjami o jej imieniu (imie), wieku (wiek) i zawodzie (zawod).\n",
    "# Użyj list comprehension, aby utworzyć nową listę imiona_osob, która zawiera tylko imiona osób znajdujących się w liście osoby.\n",
    "# Wydrukuj pełną listę osoby, aby zobaczyć wszystkie dane.\n",
    "# Wydrukuj nową listę imiona_osob, która zawiera tylko imiona osób.\n"
   ]
  },
  {
   "cell_type": "code",
   "execution_count": null,
   "id": "0dc8244a-c97b-448c-b2ca-211243116c85",
   "metadata": {},
   "outputs": [],
   "source": [
    "# Lista słowników\n",
    "\n",
    "# Utwórz listę zawierającą imiona osób\n"
   ]
  },
  {
   "cell_type": "markdown",
   "id": "d6078042-95fd-48ae-9028-921bb701370f",
   "metadata": {},
   "source": [
    "#### 19. Funkcje Anonimowe (Lambda) i Sortowanie"
   ]
  },
  {
   "cell_type": "code",
   "execution_count": null,
   "id": "0d93c0c2-4e20-48dc-af58-90f27e58d958",
   "metadata": {},
   "outputs": [],
   "source": [
    "# Ćwiczenie 19\n",
    "\n",
    "# Zdefiniuj listę liczb o nazwie liczby, która zawiera kilka wartości liczbowych w losowej kolejności.\n",
    "# Użyj funkcji sorted, aby posortować listę liczb rosnąco. Wewnątrz funkcji sorted użyj funkcji anonimowej (lambda) jako klucza sortowania. Funkcja lambda przyjmuje pojedynczy argument x i zwraca tę wartość, co zapewnia sortowanie liczb w kolejności rosnącej.\n",
    "# Przypisz posortowaną listę do zmiennej posortowane_liczby.\n",
    "# Wydrukuj oryginalną listę liczby.\n",
    "# Wydrukuj posortowaną listę posortowane_liczby.\n"
   ]
  },
  {
   "cell_type": "code",
   "execution_count": null,
   "id": "2ed034ed-87a8-4f51-afb9-5d4d2c859723",
   "metadata": {},
   "outputs": [],
   "source": [
    "# Lista liczb całkowitych nieposortowana np. [2, 3, 1, 4]\n",
    "\n",
    "# Posortuj listę rosnąco za pomocą funkcji sorted i funkcji anonimowej (lambda)\n"
   ]
  },
  {
   "cell_type": "markdown",
   "id": "851d6c93-f2bd-45e4-af40-3e065bbb94ad",
   "metadata": {},
   "source": [
    "#### 20. Praca z Tuple i Slicing"
   ]
  },
  {
   "cell_type": "code",
   "execution_count": null,
   "id": "acaee273-2095-4698-960f-c7c68448cdfe",
   "metadata": {},
   "outputs": [],
   "source": [
    "# Ćwiczenie 20\n",
    "\n",
    "# Zdefiniuj krotkę o nazwie krotka, która zawiera kilka wartości liczbowych.\n",
    "# Użyj operacji \"slicing\" (cięcia), aby utworzyć nową krotkę nowa_krotka, która będzie zawierała elementy krotki od drugiego (indeks 1) do czwartego (indeks 3) elementu włącznie.\n",
    "# Wydrukuj oryginalną krotkę krotka.\n",
    "# Wydrukuj nową krotkę nowa_krotka, utworzoną za pomocą slicingu.\n"
   ]
  },
  {
   "cell_type": "code",
   "execution_count": null,
   "id": "fff687f4-cfba-4ccf-9982-f1ed9ffb7ac4",
   "metadata": {},
   "outputs": [],
   "source": [
    "# Krotka\n",
    "\n",
    "# Użyj slicingu, aby utworzyć nową dowolną krotkę\n"
   ]
  }
 ],
 "metadata": {
  "kernelspec": {
   "display_name": "Python 3 (ipykernel)",
   "language": "python",
   "name": "python3"
  },
  "language_info": {
   "codemirror_mode": {
    "name": "ipython",
    "version": 3
   },
   "file_extension": ".py",
   "mimetype": "text/x-python",
   "name": "python",
   "nbconvert_exporter": "python",
   "pygments_lexer": "ipython3",
   "version": "3.11.5"
  }
 },
 "nbformat": 4,
 "nbformat_minor": 5
}
