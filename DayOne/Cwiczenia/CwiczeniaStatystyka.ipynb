{
 "cells": [
  {
   "cell_type": "markdown",
   "id": "c453498c-53e2-4910-95e1-2395ce109f1c",
   "metadata": {},
   "source": [
    "# Ćwiczenia Statystyka"
   ]
  },
  {
   "cell_type": "markdown",
   "id": "bd376bb0-d87e-4f36-83ec-ecb36f55ca2c",
   "metadata": {},
   "source": [
    "#### Ćwiczenie 1. Rozkład Jednostajny"
   ]
  },
  {
   "cell_type": "code",
   "execution_count": null,
   "id": "8f501a50-b3ee-4ba6-bb70-b2d41997ba31",
   "metadata": {},
   "outputs": [],
   "source": [
    "# Importowanie modułów:\n",
    "    # Zaimportuj moduł numpy jako np, aby wygenerować losowe dane.\n",
    "    # Zaimportuj moduł matplotlib.pyplot jako plt, aby móc tworzyć wykresy.\n",
    "\n",
    "# Generowanie losowych danych:\n",
    "    # Użyj funkcji np.random.uniform(), aby wygenerować 1000 losowych wartości z rozkładu jednostajnego w przedziale od 1 do 10. Wynik przypisz do zmiennej data_uniform.\n",
    "\n",
    "# Tworzenie histogramu:\n",
    "    # Użyj funkcji plt.hist() do utworzenia histogramu. Parametry to:\n",
    "        # data_uniform: dane do histogramu.\n",
    "        # bins=20: liczba przedziałów (słupków histogramu).\n",
    "        # density=True: normalizacja, aby uzyskać rozkład prawdopodobieństwa.\n",
    "        # alpha=0.7: przezroczystość słupków.\n",
    "        # color='b': kolor słupków (niebieski).\n",
    "\n",
    "# Ustawienie tytułu i etykiet:\n",
    "    # Użyj funkcji plt.title(), plt.xlabel(), i plt.ylabel(), aby dodać tytuł wykresu oraz etykiety osi x i y.\n",
    "\n",
    "# Wyświetlenie wykresu:\n",
    "    # Użyj funkcji plt.show(), aby wyświetlić histogram z danymi wygenerowanymi z rozkładu jednostajnego.\n"
   ]
  },
  {
   "cell_type": "code",
   "execution_count": null,
   "id": "c908d9e2-c0c2-407c-ba2c-e2c23ff6e135",
   "metadata": {},
   "outputs": [],
   "source": [
    "\n",
    "\n"
   ]
  },
  {
   "cell_type": "markdown",
   "id": "73f6a661-17ff-4bb5-bfdf-86575a187cbd",
   "metadata": {},
   "source": [
    "#### Ćwiczenie 2. Rozkład Normalny"
   ]
  },
  {
   "cell_type": "code",
   "execution_count": null,
   "id": "0a021593-2249-4e2f-b08f-398c328ed877",
   "metadata": {},
   "outputs": [],
   "source": [
    "# Importowanie modułów: Użyj zaimportowanych wcześniej modułów numpy (np) oraz matplotlib.pyplot (plt).\n",
    "\n",
    "# Generowanie losowych danych:\n",
    "    # Użyj funkcji np.random.normal(), aby wygenerować 1000 losowych wartości z rozkładu normalnego (tzw. rozkład Gaussa) o średniej 0 i odchyleniu standardowym 1. Wynik przypisz do zmiennej data_normal.\n",
    "\n",
    "# Tworzenie histogramu:\n",
    "    # Użyj funkcji plt.hist() do utworzenia histogramu z wygenerowanych danych. Parametry:\n",
    "        # data_normal: dane do histogramu.\n",
    "        # bins=20: liczba przedziałów (słupków histogramu).\n",
    "        # density=True: normalizacja, aby uzyskać rozkład prawdopodobieństwa.\n",
    "        # alpha=0.7: przezroczystość słupków.\n",
    "        # color='g': kolor słupków (zielony).\n",
    "\n",
    "# Ustawienie tytułu i etykiet:\n",
    "    # Użyj funkcji plt.title(), plt.xlabel(), i plt.ylabel(), aby dodać tytuł wykresu oraz etykiety osi x i y.\n",
    "\n",
    "# Wyświetlenie wykresu:\n",
    "    # Użyj funkcji plt.show(), aby wyświetlić histogram z danymi wygenerowanymi z rozkładu normalnego."
   ]
  },
  {
   "cell_type": "code",
   "execution_count": null,
   "id": "35cbbb2c-8abd-40d9-8e0e-3a1b11826cc7",
   "metadata": {},
   "outputs": [],
   "source": [
    "\n",
    "\n"
   ]
  },
  {
   "cell_type": "markdown",
   "id": "9421f03e-df91-4f5a-8310-8f7d343dfc7a",
   "metadata": {},
   "source": [
    "#### Ćwiczenie 3. Rozkład Skośny"
   ]
  },
  {
   "cell_type": "code",
   "execution_count": null,
   "id": "efb091e4-312a-4a1d-a46d-c976e0447d1b",
   "metadata": {},
   "outputs": [],
   "source": [
    "# Importowanie modułów: Skorzystaj z wcześniej zaimportowanych modułów numpy (np) oraz matplotlib.pyplot (plt).\n",
    "\n",
    "# Generowanie losowych danych:\n",
    "    # Użyj funkcji np.random.gamma(), aby wygenerować 1000 losowych wartości z rozkładu Gamma, który jest przykładem rozkładu skośnego. Przekaż parametr kształtu 5, co wpłynie na kształt rozkładu. Wynik przypisz do zmiennej data_skewed.\n",
    "\n",
    "# Tworzenie histogramu:\n",
    "    # Użyj funkcji plt.hist() do utworzenia histogramu z wygenerowanych danych. Parametry:\n",
    "        # data_skewed: dane do histogramu.\n",
    "        # bins=20: liczba przedziałów (słupków histogramu).\n",
    "        # density=True: normalizacja, aby uzyskać rozkład prawdopodobieństwa.\n",
    "        # alpha=0.7: przezroczystość słupków.\n",
    "        # color='r': kolor słupków (czerwony).\n",
    "\n",
    "# Ustawienie tytułu i etykiet:\n",
    "    # Użyj funkcji plt.title(), plt.xlabel(), i plt.ylabel(), aby dodać tytuł wykresu oraz etykiety osi x i y.\n",
    "\n",
    "# Wyświetlenie wykresu:\n",
    "    # Użyj funkcji plt.show(), aby wyświetlić histogram z danymi wygenerowanymi z rozkładu skośnego."
   ]
  },
  {
   "cell_type": "code",
   "execution_count": null,
   "id": "324f62bf-14fa-479b-bca8-14504d9cd540",
   "metadata": {},
   "outputs": [],
   "source": [
    "\n",
    "\n"
   ]
  },
  {
   "cell_type": "markdown",
   "id": "883ea18b-b3b2-46e4-87de-b028ee646506",
   "metadata": {},
   "source": [
    "#### Ćwiczenie 4. Rozkład Dwumodalny"
   ]
  },
  {
   "cell_type": "code",
   "execution_count": null,
   "id": "8c886a39-ac24-4ed4-bcd0-08a69ba1885d",
   "metadata": {},
   "outputs": [],
   "source": [
    "# Importowanie modułów: Skorzystaj z wcześniej zaimportowanych modułów numpy (np) oraz matplotlib.pyplot (plt).\n",
    "\n",
    "# Generowanie losowych danych:\n",
    "    # Wygeneruj dwie grupy danych z rozkładu normalnego:\n",
    "        # Użyj np.random.normal(-2, 1, 500) do wygenerowania 500 wartości z rozkładu normalnego o średniej -2 i odchyleniu standardowym 1.\n",
    "        # Użyj np.random.normal(2, 1, 500) do wygenerowania 500 wartości z rozkładu normalnego o średniej 2 i odchyleniu standardowym 1.\n",
    "        # Użyj np.concatenate() do połączenia obu zestawów danych w jedną listę i przypisz wynik do zmiennej data_bimodal.\n",
    "\n",
    "# Tworzenie histogramu:\n",
    "    # Użyj funkcji plt.hist() do utworzenia histogramu z połączonych danych. Parametry:\n",
    "        # data_bimodal: dane do histogramu.\n",
    "        # bins=20: liczba przedziałów (słupków histogramu).\n",
    "        # density=True: normalizacja, aby uzyskać rozkład prawdopodobieństwa.\n",
    "        # alpha=0.7: przezroczystość słupków.\n",
    "        # color='purple': kolor słupków (fioletowy).\n",
    "\n",
    "# Ustawienie tytułu i etykiet:\n",
    "    # Użyj funkcji plt.title(), plt.xlabel(), i plt.ylabel(), aby dodać tytuł wykresu oraz etykiety osi x i y.\n",
    "\n",
    "# Wyświetlenie wykresu:\n",
    "    # Użyj funkcji plt.show(), aby wyświetlić histogram z danymi wygenerowanymi z rozkładu dwumodalnego."
   ]
  },
  {
   "cell_type": "code",
   "execution_count": null,
   "id": "99c454c7-7de7-4366-878e-8fe9e28da168",
   "metadata": {},
   "outputs": [],
   "source": [
    "\n",
    "\n"
   ]
  }
 ],
 "metadata": {
  "kernelspec": {
   "display_name": "Python 3 (ipykernel)",
   "language": "python",
   "name": "python3"
  },
  "language_info": {
   "codemirror_mode": {
    "name": "ipython",
    "version": 3
   },
   "file_extension": ".py",
   "mimetype": "text/x-python",
   "name": "python",
   "nbconvert_exporter": "python",
   "pygments_lexer": "ipython3",
   "version": "3.11.5"
  }
 },
 "nbformat": 4,
 "nbformat_minor": 5
}
