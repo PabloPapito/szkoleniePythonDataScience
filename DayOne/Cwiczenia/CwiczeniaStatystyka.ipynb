{
 "cells": [
  {
   "cell_type": "markdown",
   "id": "c453498c-53e2-4910-95e1-2395ce109f1c",
   "metadata": {},
   "source": [
    "# Ćwiczenia Statystyka"
   ]
  },
  {
   "cell_type": "markdown",
   "id": "bd376bb0-d87e-4f36-83ec-ecb36f55ca2c",
   "metadata": {},
   "source": [
    "#### Ćwiczenie 1. Rozkład Jednostajny"
   ]
  },
  {
   "cell_type": "code",
   "execution_count": null,
   "id": "8f501a50-b3ee-4ba6-bb70-b2d41997ba31",
   "metadata": {},
   "outputs": [],
   "source": [
    "import numpy as np\n",
    "import matplotlib.pyplot as plt\n",
    "\n",
    "# Wygeneruj losowe dane z rozkładu jednostajnego\n",
    "\n"
   ]
  },
  {
   "cell_type": "code",
   "execution_count": null,
   "id": "c908d9e2-c0c2-407c-ba2c-e2c23ff6e135",
   "metadata": {},
   "outputs": [],
   "source": [
    "# Stwórz histogram dla zestawu danych o rozkładzie jednostajnym. Wykorzystaj funkcję generującą losowe liczby z rozkładu jednostajnego w zakresie od 1 do 10.\n",
    "# (Pamiętaj o dodaniu odpowiednich etykiet i tytułu wykresu)\n",
    "\n"
   ]
  },
  {
   "cell_type": "markdown",
   "id": "73f6a661-17ff-4bb5-bfdf-86575a187cbd",
   "metadata": {},
   "source": [
    "#### Ćwiczenie 2. Rozkład Normalny"
   ]
  },
  {
   "cell_type": "code",
   "execution_count": null,
   "id": "0a021593-2249-4e2f-b08f-398c328ed877",
   "metadata": {},
   "outputs": [],
   "source": [
    "# Wygeneruj losowe dane z rozkładu normalnego\n"
   ]
  },
  {
   "cell_type": "code",
   "execution_count": null,
   "id": "35cbbb2c-8abd-40d9-8e0e-3a1b11826cc7",
   "metadata": {},
   "outputs": [],
   "source": [
    "# Stwórz histogram dla zestawu danych o rozkładzie normalnym. Wykorzystaj funkcję generującą losowe liczby z rozkładu normalnego.\n",
    "# (Pamiętaj o dodaniu odpowiednich etykiet i tytułu wykresu)\n",
    "\n"
   ]
  },
  {
   "cell_type": "markdown",
   "id": "9421f03e-df91-4f5a-8310-8f7d343dfc7a",
   "metadata": {},
   "source": [
    "#### Ćwiczenie 3. Rozkład Skośny"
   ]
  },
  {
   "cell_type": "code",
   "execution_count": null,
   "id": "efb091e4-312a-4a1d-a46d-c976e0447d1b",
   "metadata": {},
   "outputs": [],
   "source": [
    "# Wygeneruj losowe dane z rozkładu skośnego\n"
   ]
  },
  {
   "cell_type": "code",
   "execution_count": null,
   "id": "324f62bf-14fa-479b-bca8-14504d9cd540",
   "metadata": {},
   "outputs": [],
   "source": [
    "# Stwórz histogram dla zestawu danych o rozkładzie skośnym. Wykorzystaj funkcję generującą losowe liczby z rozkładu gamma.\n",
    "# (Pamiętaj o dodaniu odpowiednich etykiet i tytułu wykresu)\n"
   ]
  },
  {
   "cell_type": "markdown",
   "id": "883ea18b-b3b2-46e4-87de-b028ee646506",
   "metadata": {},
   "source": [
    "#### Ćwiczenie 4. Rozkład Dwumodalny"
   ]
  },
  {
   "cell_type": "code",
   "execution_count": null,
   "id": "8c886a39-ac24-4ed4-bcd0-08a69ba1885d",
   "metadata": {},
   "outputs": [],
   "source": [
    "# Wygeneruj losowe dane z rozkładu dwumodalnego\n"
   ]
  },
  {
   "cell_type": "code",
   "execution_count": null,
   "id": "99c454c7-7de7-4366-878e-8fe9e28da168",
   "metadata": {},
   "outputs": [],
   "source": [
    "# Stwórz histogram dla zestawu danych o rozkładzie dwumodalnym. Wykorzystaj funkcję generującą losowe liczby z dwóch różnych rozkładów normalnych.\n",
    "# (Pamiętaj o dodaniu odpowiednich etykiet i tytułu wykresu)\n",
    "\n"
   ]
  }
 ],
 "metadata": {
  "kernelspec": {
   "display_name": "Python 3 (ipykernel)",
   "language": "python",
   "name": "python3"
  },
  "language_info": {
   "codemirror_mode": {
    "name": "ipython",
    "version": 3
   },
   "file_extension": ".py",
   "mimetype": "text/x-python",
   "name": "python",
   "nbconvert_exporter": "python",
   "pygments_lexer": "ipython3",
   "version": "3.11.5"
  }
 },
 "nbformat": 4,
 "nbformat_minor": 5
}
