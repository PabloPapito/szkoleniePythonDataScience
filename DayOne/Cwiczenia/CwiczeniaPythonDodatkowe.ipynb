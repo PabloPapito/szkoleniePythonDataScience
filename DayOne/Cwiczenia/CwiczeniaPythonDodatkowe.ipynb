{
 "cells": [
  {
   "cell_type": "markdown",
   "id": "b2258e3a-eeff-426a-8a42-ba409282ecd4",
   "metadata": {},
   "source": [
    "# Ćwiczenia Python Dodatkowe"
   ]
  },
  {
   "cell_type": "markdown",
   "id": "4f52ae16-80f2-4a29-8baf-622241b56b26",
   "metadata": {},
   "source": [
    "#### 21. Grupowanie i Przetwarzanie Listy Słowników"
   ]
  },
  {
   "cell_type": "code",
   "execution_count": null,
   "id": "183515b9-6ef6-48cf-b0cb-186b179b1c1e",
   "metadata": {},
   "outputs": [],
   "source": [
    "# Ćwiczenie 21\n",
    "\n",
    "# Zdefiniuj listę słowników o nazwie produkty, gdzie każdy słownik reprezentuje produkt z trzema kluczami: nazwa (nazwa produktu), cena (cena produktu), oraz ilosc (liczba dostępnych sztuk).\n",
    "# Użyj list comprehension, aby utworzyć nową listę tanie_produkty, która zawiera tylko te produkty, których cena jest mniejsza niż 100.\n",
    "# Wydrukuj pełną listę produkty, aby zobaczyć wszystkie dostępne produkty.\n",
    "# Wydrukuj listę tanie_produkty, która zawiera tylko te produkty, które spełniają warunek niskiej ceny.\n"
   ]
  },
  {
   "cell_type": "code",
   "execution_count": null,
   "id": "6b5f0e07-2ac1-4a27-b3ba-642038890673",
   "metadata": {},
   "outputs": [],
   "source": [
    "# Lista słowników\n",
    "\n",
    "# Utwórz nową listę zawierającą produkty o cenie mniejszej niż 100\n"
   ]
  },
  {
   "cell_type": "markdown",
   "id": "57e5e1ba-1c22-4603-a471-6d5a3a6e7472",
   "metadata": {},
   "source": [
    "#### 22. Łączenie List i Słowników"
   ]
  },
  {
   "cell_type": "code",
   "execution_count": null,
   "id": "1364245a-5c36-4f1e-a652-af0fb944d57c",
   "metadata": {},
   "outputs": [],
   "source": [
    "# Ćwiczenie 22\n",
    "\n",
    "# Zdefiniuj dwie listy: nazwy_produktow zawierającą nazwy produktów oraz ceny_produktow zawierającą ich ceny.\n",
    "# Użyj funkcji zip, aby połączyć obie listy w listę krotek, gdzie każdy produkt jest połączony z odpowiadającą mu ceną. Wynik przypisz do zmiennej produkty_i_ceny.\n",
    "# Użyj funkcji dict, aby utworzyć słownik słownik_cen, gdzie kluczami są nazwy produktów, a wartościami są ich ceny.\n",
    "# Wydrukuj oryginalne listy nazwy_produktow i ceny_produktow.\n",
    "# Wydrukuj słownik słownik_cen, który zawiera nazwy produktów jako klucze oraz ich ceny jako wartości.\n"
   ]
  },
  {
   "cell_type": "code",
   "execution_count": null,
   "id": "7ef3d5ad-e32d-4c26-8b62-69090be5dadf",
   "metadata": {},
   "outputs": [],
   "source": [
    "# Dwie osobne listy\n",
    "\n",
    "# Połącz listy w listę krotek za pomocą funkcji zip\n",
    "\n",
    "# Utwórz słownik z produktami i ich cenami\n"
   ]
  },
  {
   "cell_type": "markdown",
   "id": "52cb0e63-f87a-4da4-a471-20d637651022",
   "metadata": {},
   "source": [
    "#### 23. Generatory i Iteratory"
   ]
  },
  {
   "cell_type": "code",
   "execution_count": null,
   "id": "beebeb8a-b809-452b-8f98-46bbcd703cdd",
   "metadata": {},
   "outputs": [],
   "source": [
    "# Ćwiczenie 23\n",
    "\n",
    "# Utwórz generator o nazwie generator_parzystych, który generuje liczby parzyste w zakresie od 0 do 10. Użyj wyrażenia generatora ((x for x in range(11) if x % 2 == 0)), aby generować tylko te liczby, które są podzielne przez 2.\n",
    "# Wydrukuj tekst \"Liczby parzyste:\", aby oznaczyć początek wyświetlania wyników.\n",
    "# Użyj pętli for, aby iterować przez liczby generowane przez generator_parzystych i wydrukuj każdą z nich.\n"
   ]
  },
  {
   "cell_type": "code",
   "execution_count": null,
   "id": "aa8b792b-71db-4a94-ac88-d89e3f0d77dc",
   "metadata": {},
   "outputs": [],
   "source": [
    "# Generator\n",
    "\n",
    "# Iteruj przez liczby parzyste\n"
   ]
  },
  {
   "cell_type": "markdown",
   "id": "8a5ad4b7-75f4-474b-9dd7-a56efcd03f03",
   "metadata": {},
   "source": [
    "#### 24. Praca z Datą i Czasem (Część 2)"
   ]
  },
  {
   "cell_type": "code",
   "execution_count": null,
   "id": "d8bc3b70-b13f-4038-aa33-bb92c3cbee16",
   "metadata": {},
   "outputs": [],
   "source": [
    "# Ćwiczenie 24\n",
    "\n",
    "# Zaimportuj moduł datetime z biblioteki datetime, aby móc operować na obiektach dat.\n",
    "# Zdefiniuj funkcję roznica_dat, która przyjmuje dwie daty jako argumenty (data1, data2). Funkcja ta oblicza różnicę między dwiema datami, odejmując data1 od data2, i zwraca wynik (różnicę w dniach).\n",
    "# Zdefiniuj dwie daty:\n",
    "    # data_poczatkowa, która reprezentuje np. 1 stycznia 2024 r.\n",
    "    # data_koncowa, która reprezentuje np. 31 grudnia 2024 r.\n",
    "# Wywołaj funkcję roznica_dat, aby obliczyć różnicę między tymi datami, i przypisz wynik do zmiennej roznica.\n",
    "# Wydrukuj daty początkową i końcową, a następnie wydrukuj różnicę między nimi.\n"
   ]
  },
  {
   "cell_type": "code",
   "execution_count": null,
   "id": "09d83816-d6a4-4c08-befc-63ba890982a9",
   "metadata": {},
   "outputs": [],
   "source": [
    "# Funkcja\n",
    "\n",
    "# Przykłady użycia funkcji\n",
    "\n"
   ]
  },
  {
   "cell_type": "markdown",
   "id": "4b64d7b6-7f71-4da0-8f7b-c0e4d74e39eb",
   "metadata": {},
   "source": [
    "#### 25. Praca z Modułem math"
   ]
  },
  {
   "cell_type": "code",
   "execution_count": null,
   "id": "7aafd80c-0205-4ea9-bafd-83362e48bac5",
   "metadata": {},
   "outputs": [],
   "source": [
    "# Ćwiczenie 25\n",
    "\n",
    "# Zaimportuj moduł math, aby uzyskać dostęp do funkcji matematycznych.\n",
    "# Zdefiniuj funkcję pierwiastek_kwadratowy, która przyjmuje jedną liczbę jako argument. Funkcja używa metody math.sqrt(), aby obliczyć pierwiastek kwadratowy z tej liczby, a następnie zwraca wynik.\n",
    "# Zdefiniuj kilka przykładowych liczb: liczba1, liczba2 i liczba3, dla których chcesz obliczyć pierwiastki kwadratowe.\n",
    "# Użyj funkcji pierwiastek_kwadratowy dla każdej z tych liczb, przypisując wyniki do zmiennych pierwiastek1, pierwiastek2 oraz pierwiastek3.\n",
    "# Wydrukuj wyniki, pokazując, jaki jest pierwiastek kwadratowy każdej z liczb.\n"
   ]
  },
  {
   "cell_type": "code",
   "execution_count": 17,
   "id": "2c7aeaf1-29b4-4cdf-999f-8d496da744a4",
   "metadata": {},
   "outputs": [],
   "source": [
    "# Funkcja\n",
    "\n",
    "# Przykłady użycia funkcji\n",
    "\n"
   ]
  },
  {
   "cell_type": "markdown",
   "id": "5f61a231-16a2-4f5d-8f55-614e79c426fa",
   "metadata": {},
   "source": [
    "#### 26. Przetwarzanie Tekstu za pomocą List Comprehension"
   ]
  },
  {
   "cell_type": "code",
   "execution_count": null,
   "id": "8bfaa6d8-2874-4340-b398-a2de37b15255",
   "metadata": {},
   "outputs": [],
   "source": [
    "# Ćwiczenie 26\n",
    "\n",
    "# Zdefiniuj listę o nazwie lista_slow, która zawiera kilka słów.\n",
    "# Użyj list comprehension, aby utworzyć nową listę dlugosci_slow, która będzie zawierała długości poszczególnych słów z listy lista_slow. Wykorzystaj funkcję len(), aby obliczyć długość każdego słowa.\n",
    "# Wydrukuj oryginalną listę słów lista_slow.\n",
    "# Wydrukuj nową listę dlugosci_slow, która zawiera długości słów.\n"
   ]
  },
  {
   "cell_type": "code",
   "execution_count": null,
   "id": "cc859223-4096-466d-aa05-a12a2477349e",
   "metadata": {},
   "outputs": [],
   "source": [
    "# Lista\n",
    "\n",
    "# Użyj list comprehension do utworzenia listy długości słów\n"
   ]
  },
  {
   "cell_type": "markdown",
   "id": "43d0254e-d650-42a5-a7b3-c11ebd476759",
   "metadata": {},
   "source": [
    "#### 27. Wykorzystanie Funkcji Lambda do Sortowania"
   ]
  },
  {
   "cell_type": "code",
   "execution_count": null,
   "id": "1be59971-b9b2-4bf9-a859-a95222838f01",
   "metadata": {},
   "outputs": [],
   "source": [
    "# Ćwiczenie 27\n",
    "\n",
    "# Zdefiniuj listę liczb o nazwie lista_liczb, która zawiera kilka wartości liczbowych w losowej kolejności.\n",
    "# Użyj funkcji sorted do posortowania listy liczb rosnąco. Wykorzystaj funkcję anonimową (lambda) jako klucz sortowania, która przyjmuje pojedynczy argument x i zwraca tę samą wartość, co zapewnia sortowanie liczb w kolejności rosnącej.\n",
    "# Przypisz posortowaną listę do zmiennej posortowane_liczby.\n",
    "# Wydrukuj oryginalną listę lista_liczb.\n",
    "# Wydrukuj posortowaną listę posortowane_liczby.\n"
   ]
  },
  {
   "cell_type": "code",
   "execution_count": null,
   "id": "439357d8-3983-41fc-8d75-cc53676b4df6",
   "metadata": {},
   "outputs": [],
   "source": [
    "# Lista\n",
    "\n",
    "# Użyj funkcji sorted z funkcją lambda do sortowania rosnącego\n"
   ]
  },
  {
   "cell_type": "markdown",
   "id": "d2fa9191-e6ec-4b16-9de9-e2b1d587d421",
   "metadata": {},
   "source": [
    "#### 28. Praca z Pętlą While i Wyjątkami"
   ]
  },
  {
   "cell_type": "code",
   "execution_count": null,
   "id": "e338986d-14a7-4e0d-8a07-df96793dc4ad",
   "metadata": {},
   "outputs": [],
   "source": [
    "# Ćwiczenie 28\n",
    "\n",
    "# Użyj pętli while True, aby uruchamiać kod w nieskończonej pętli, aż użytkownik wprowadzi poprawną wartość.\n",
    "# Wewnątrz pętli użyj funkcji input, aby poprosić użytkownika o wprowadzenie liczby całkowitej. Następnie użyj funkcji int(), aby przekonwertować dane wejściowe na liczbę całkowitą.\n",
    "# Jeśli konwersja się powiedzie, wyjdź z pętli przy użyciu instrukcji break.\n",
    "# Jeśli użytkownik wprowadzi nieprawidłową wartość (nie będącą liczbą całkowitą), obsłuż błąd ValueError za pomocą bloku try-except, wyświetlając komunikat „Błąd! Wprowadź poprawną liczbę całkowitą.”.\n",
    "# Po zakończeniu pętli wydrukuj wprowadzoną przez użytkownika liczbę.\n"
   ]
  },
  {
   "cell_type": "code",
   "execution_count": null,
   "id": "88bb18d1-ce05-4e06-a25e-00eefd4fad49",
   "metadata": {},
   "outputs": [],
   "source": [
    "# Pętla\n",
    "\n"
   ]
  },
  {
   "cell_type": "markdown",
   "id": "7e645203-e4bc-4c56-b29c-5ddfb88155f3",
   "metadata": {},
   "source": [
    "#### 29. Operacje na Napisach"
   ]
  },
  {
   "cell_type": "code",
   "execution_count": null,
   "id": "25c1cf0d-a837-45f6-b996-c14e5f7e8af2",
   "metadata": {},
   "outputs": [],
   "source": [
    "# Ćwiczenie 29\n",
    "\n",
    "# Zdefiniuj zmienną zdanie, która zawiera przykładowe zdanie do przetworzenia.\n",
    "# Wykonaj następujące operacje na zmiennej zdanie:\n",
    "    # Odwrócenie napisu: Użyj operatora slicing [::-1], aby odwrócić kolejność znaków w zdaniu. Wynik przypisz do zmiennej odwrocone_zdanie.\n",
    "    # Zamiana na wielkie litery: Użyj metody upper(), aby zamienić wszystkie litery w zdaniu na wielkie. Wynik przypisz do zmiennej wielkie_litery.\n",
    "    # Podział na słowa: Użyj metody split(), aby podzielić zdanie na listę słów. Wynik przypisz do zmiennej slowa.\n",
    "# Wydrukuj oryginalne zdanie.\n",
    "# Wydrukuj odwrócone zdanie.\n",
    "# Wydrukuj zdanie zapisane wielkimi literami.\n",
    "# Wydrukuj listę słów uzyskanych z podziału zdania.\n"
   ]
  },
  {
   "cell_type": "code",
   "execution_count": null,
   "id": "dd75e1c0-ec23-4590-b8b1-86bf5ffadc16",
   "metadata": {},
   "outputs": [],
   "source": [
    "# Zdanie\n",
    "\n",
    "# Odwróć napis\n",
    "\n",
    "# Zamień na wielkie litery\n",
    "\n",
    "# Podziel na słowa\n"
   ]
  },
  {
   "cell_type": "markdown",
   "id": "fe25f030-32f7-47fc-954e-2218153b335e",
   "metadata": {},
   "source": [
    "#### 30. Użycie Modułu random do Losowania Liczb"
   ]
  },
  {
   "cell_type": "code",
   "execution_count": null,
   "id": "4155be90-d62a-49fb-b06a-dbaa4844fb52",
   "metadata": {},
   "outputs": [],
   "source": [
    "# Ćwiczenie 30\n",
    "\n",
    "# Importowanie modułu: Zaimportuj moduł random, który pozwala na losowanie liczb.\n",
    "# Definiowanie funkcji: Zdefiniuj funkcję losuj_liczbe, która używa metody random.randint(1, 10) do losowania liczby całkowitej z zakresu od 1 do 10. Funkcja zwraca tę wylosowaną liczbę.\n",
    "# Wylosowanie liczby: Wywołaj funkcję losuj_liczbe i przypisz wynik do zmiennej wylosowana_liczba.\n",
    "# Pętla zgadywania:\n",
    "    # Użyj pętli while True, aby wielokrotnie prosić użytkownika o odgadnięcie liczby.\n",
    "    # Za pomocą input() poproś użytkownika o wprowadzenie liczby. Użyj int(), aby przekonwertować dane wejściowe na liczbę całkowitą.\n",
    "    # Jeśli liczba wprowadzona przez użytkownika jest równa wylosowanej liczbie (odgadnij == wylosowana_liczba), wyświetl gratulacje i przerwij pętlę (break).\n",
    "    # Jeśli liczba jest niepoprawna, wyświetl komunikat i poproś użytkownika o ponowną próbę.\n",
    "# Program kończy się, gdy użytkownik odgadnie poprawną liczbę.\n"
   ]
  },
  {
   "cell_type": "code",
   "execution_count": null,
   "id": "3ebb00ee-6aa8-41f7-aa93-6eb5509c6322",
   "metadata": {},
   "outputs": [],
   "source": [
    "# import random\n",
    "\n",
    "# Funkcja\n",
    "\n",
    "# Wylosowana liczba (zmienna)\n",
    "\n",
    "# Pętla\n"
   ]
  },
  {
   "cell_type": "markdown",
   "id": "e7c6b870-49a8-47dc-8e20-da48eb84762c",
   "metadata": {},
   "source": [
    "#### 31. Wykorzystanie List Comprehension do Filtrowania"
   ]
  },
  {
   "cell_type": "code",
   "execution_count": null,
   "id": "281ef9cc-513e-48e9-9246-2c71c80b3d86",
   "metadata": {},
   "outputs": [],
   "source": [
    "# Ćwiczenie 31\n",
    "\n",
    "# Zdefiniuj listę o nazwie liczby_calkowite, która zawiera liczby całkowite od 1 do 10.\n",
    "# Użyj list comprehension, aby utworzyć nową listę parzyste_liczby, która będzie zawierała tylko te liczby z listy liczby_calkowite, które są parzyste. Sprawdź, czy liczba jest parzysta, używając warunku liczba % 2 == 0.\n",
    "# Wydrukuj oryginalną listę liczby_calkowite.\n",
    "# Wydrukuj nową listę parzyste_liczby, która zawiera tylko liczby parzyste.\n"
   ]
  },
  {
   "cell_type": "code",
   "execution_count": null,
   "id": "f82485d8-69e2-49b0-919c-67c4e0936e23",
   "metadata": {},
   "outputs": [],
   "source": [
    "# Lista\n",
    "\n",
    "# Użyj list comprehension do utworzenia listy parzystych liczb\n"
   ]
  },
  {
   "cell_type": "markdown",
   "id": "3aaec7f8-fabb-425e-90b7-10e89a6813d5",
   "metadata": {},
   "source": [
    "#### 32. Wykorzystanie funkcji ZIP do Łączenia Dwóch List"
   ]
  },
  {
   "cell_type": "code",
   "execution_count": null,
   "id": "76bff2b7-3985-4ee2-9be8-4f155bef3d5b",
   "metadata": {},
   "outputs": [],
   "source": [
    "# Ćwiczenie 32\n",
    "\n",
    "# Zdefiniuj dwie listy: imiona, która zawiera imiona osób, oraz wieki, która zawiera ich odpowiadające wieki.\n",
    "# Użyj funkcji zip, aby połączyć te dwie listy w listę krotek, gdzie każda krotka będzie zawierała imię oraz odpowiadający wiek. Przekonwertuj wynik działania funkcji zip na listę, używając funkcji list(), i przypisz do zmiennej lista_krotek.\n",
    "# Wydrukuj oryginalną listę imion imiona.\n",
    "# Wydrukuj oryginalną listę wieków wieki.\n",
    "# Wydrukuj nową listę krotek lista_krotek, która zawiera pary (imię, wiek).\n"
   ]
  },
  {
   "cell_type": "code",
   "execution_count": null,
   "id": "78bb1817-7288-4b31-b2bc-3fbcd8fc5b58",
   "metadata": {},
   "outputs": [],
   "source": [
    "# Dwie listy\n",
    "\n",
    "# Użyj funkcji zip do łączenia dwóch list\n"
   ]
  },
  {
   "cell_type": "markdown",
   "id": "85ea6fdb-4734-4b21-bc44-c6635fd23075",
   "metadata": {},
   "source": [
    "#### 33. Użycie Funkcji map do Przekształcania Elementów Listy"
   ]
  },
  {
   "cell_type": "code",
   "execution_count": null,
   "id": "982b6cba-6b32-4e34-ad4c-d9e5e0b4d5f6",
   "metadata": {},
   "outputs": [],
   "source": [
    "# Ćwiczenie 33\n",
    "\n",
    "# Zdefiniuj listę liczb całkowitych o nazwie liczby_calkowite, która zawiera kilka liczb parzystych.\n",
    "# Użyj funkcji map wraz z funkcją anonimową (lambda), aby podnieść każdą liczbę z listy do kwadratu. Funkcja lambda przyjmuje pojedynczy argument x i zwraca wynik x**2. Wynik działania funkcji map przekonwertuj na listę, używając funkcji list(), i przypisz do zmiennej kwadraty.\n",
    "# Wydrukuj oryginalną listę liczb całkowitych liczby_calkowite.\n",
    "# Wydrukuj nową listę kwadraty, która zawiera kwadraty liczb z listy liczby_calkowite.\n"
   ]
  },
  {
   "cell_type": "code",
   "execution_count": null,
   "id": "429ab3b2-d835-4dde-83b4-c07c76174e1e",
   "metadata": {},
   "outputs": [],
   "source": [
    "# Lista\n",
    "\n",
    "# Użyj funkcji map do podniesienia każdej liczby do kwadratu\n"
   ]
  },
  {
   "cell_type": "markdown",
   "id": "7eb7853a-b9b9-48eb-8d65-0cb6edfcd88b",
   "metadata": {},
   "source": [
    "#### 34. Praca z Datą i Czasem"
   ]
  },
  {
   "cell_type": "code",
   "execution_count": null,
   "id": "46ab2cff-0115-489e-a689-013794a90c44",
   "metadata": {},
   "outputs": [],
   "source": [
    "# Ćwiczenie 34\n",
    "\n",
    "# Importowanie modułów: Zaimportuj moduły datetime i timedelta z biblioteki datetime, które są potrzebne do pracy z datą i czasem.\n",
    "# Definiowanie funkcji: Zdefiniuj funkcję dodaj_7_dni, która:\n",
    "    # Pobiera aktualną datę i czas przy użyciu datetime.now().\n",
    "    # Dodaje 7 dni do tej daty, używając timedelta(days=7), i zwraca wynik.\n",
    "# Wywołanie funkcji: Wywołaj funkcję dodaj_7_dni, a wynik przypisz do zmiennej wynik.\n",
    "# Wydruk:\n",
    "    # Wydrukuj aktualną datę i czas, używając datetime.now().\n",
    "    # Wydrukuj datę i czas po dodaniu 7 dni, czyli wartość zmiennej wynik.\n"
   ]
  },
  {
   "cell_type": "code",
   "execution_count": null,
   "id": "626ade76-0d33-482a-bd28-ce0b06078b3a",
   "metadata": {},
   "outputs": [],
   "source": [
    "# Import\n",
    "from datetime import datetime, timedelta\n",
    "\n",
    "# Funkcja\n",
    "\n",
    "# Wynik\n"
   ]
  },
  {
   "cell_type": "markdown",
   "id": "859b2ebd-6c6e-4fcd-a945-78b89b0c1491",
   "metadata": {},
   "source": [
    "#### 35. Praca z Modułem math - Obliczanie Pierwiastka Kwadratowego"
   ]
  },
  {
   "cell_type": "code",
   "execution_count": null,
   "id": "7ead6475-e8e7-4afd-80af-814a0820b0a0",
   "metadata": {},
   "outputs": [],
   "source": [
    "# Ćwiczenie 35\n",
    "\n",
    "# Importowanie modułu: Zaimportuj moduł math, aby uzyskać dostęp do funkcji matematycznych, takich jak obliczanie pierwiastka kwadratowego.\n",
    "# Definiowanie funkcji: Zdefiniuj funkcję pierwiastek_kwadratowy, która przyjmuje jedną liczbę jako argument i zwraca jej pierwiastek kwadratowy, używając funkcji math.sqrt().\n",
    "# Przykładowa liczba: Zdefiniuj zmienną liczba_testowa, która zawiera liczbę, dla której chcesz obliczyć pierwiastek kwadratowy.\n",
    "# Wywołanie funkcji: Wywołaj funkcję pierwiastek_kwadratowy, przekazując do niej liczba_testowa, i przypisz wynik do zmiennej wynik.\n",
    "# Wydruk: Użyj funkcji print oraz f-stringów, aby wyświetlić wynik w formacie: „Pierwiastek kwadratowy z [liczba]: [wynik]”.\n"
   ]
  },
  {
   "cell_type": "code",
   "execution_count": null,
   "id": "e335934b-de98-41f3-818f-857e158634d4",
   "metadata": {},
   "outputs": [],
   "source": [
    "# Funkcja\n"
   ]
  },
  {
   "cell_type": "markdown",
   "id": "66c7c63f-e77f-4631-8598-da21e52a54b8",
   "metadata": {},
   "source": [
    "#### 36. Funkcja zip – dodatkowe ćwiczenie (Łączenie trzech list w listę trójek)"
   ]
  },
  {
   "cell_type": "code",
   "execution_count": null,
   "id": "41b564f4-06f2-443c-9a5e-cbf7a942534b",
   "metadata": {},
   "outputs": [],
   "source": [
    "# Ćwiczenie 36\n",
    "\n",
    "# Zdefiniowanie list: Utwórz trzy listy:\n",
    "    # produkty: zawierająca nazwy produktów.\n",
    "    # ceny: zawierająca ceny odpowiadających produktów.\n",
    "    # ilosci: zawierająca ilości poszczególnych produktów.\n",
    "# Użycie funkcji zip: Użyj funkcji zip, aby połączyć trzy listy w zestaw trójek, gdzie każdy produkt zostanie połączony ze swoją ceną i ilością. Wynik przypisz do zmiennej zipped.\n",
    "# Konwersja na listę: Przekonwertuj wynik działania funkcji zip na listę, używając funkcji list(), i przypisz wynik do zmiennej lista_trojek.\n",
    "# Wydruk: Wydrukuj listę trójek lista_trojek, która zawiera krotki z nazwami produktów, cenami i ilościami.\n"
   ]
  },
  {
   "cell_type": "code",
   "execution_count": null,
   "id": "24d074cd-d653-4903-98c7-97fa44c0fe03",
   "metadata": {},
   "outputs": [],
   "source": [
    "# 3 listy\n",
    "\n",
    "# Użycie funkcji zip\n",
    "\n",
    "# Konwersja wyniku do listy trójek\n"
   ]
  },
  {
   "cell_type": "markdown",
   "id": "3aa657ef-3e11-4ff1-8937-f9c2551f9013",
   "metadata": {},
   "source": [
    "#### 37. Funkcja zip – dodatkowe ćwiczenie (Użycie zip w pętli for)"
   ]
  },
  {
   "cell_type": "code",
   "execution_count": null,
   "id": "ab5c8846-0c5c-465a-bd4e-fe372de7cf85",
   "metadata": {},
   "outputs": [],
   "source": [
    "# Ćwiczenie 37\n",
    "\n",
    "# Zdefiniowanie list: Utwórz dwie listy:\n",
    "    # produkty: zawierająca nazwy produktów.\n",
    "    # ceny: zawierająca ceny odpowiadających produktów.\n",
    "# Użycie funkcji zip: Użyj funkcji zip, aby połączyć obie listy w pary, gdzie każdy produkt zostanie połączony z jego ceną. W ten sposób tworzysz zestawienia produkt-cena.\n",
    "# Iteracja przez pary w pętli for: Użyj pętli for, aby przejść przez każdą parę (produkt, cena) utworzoną przez funkcję zip.\n",
    "# Wydruk: Wewnątrz pętli użyj funkcji print oraz f-stringów, aby wyświetlić informacje o produkcie i jego cenie w formacie: „Produkt: [nazwa], Cena: [cena] zł”.\n"
   ]
  },
  {
   "cell_type": "code",
   "execution_count": null,
   "id": "b328101a-469c-49f7-86f2-069e585032b5",
   "metadata": {},
   "outputs": [],
   "source": [
    "# Listy\n",
    "\n",
    "# Użycie funkcji zip w pętli for\n"
   ]
  },
  {
   "cell_type": "markdown",
   "id": "de2770c7-fe7c-4390-9ce1-eb4b8219fe6d",
   "metadata": {},
   "source": [
    "#### 38. Funkcja zip – dodatkowe ćwiczenie (Tworzenie Słownika z Dwóch List)"
   ]
  },
  {
   "cell_type": "code",
   "execution_count": null,
   "id": "213970bc-afe4-48eb-a8ef-3a2dc6ef7cca",
   "metadata": {},
   "outputs": [],
   "source": [
    "# Ćwiczenie 38\n",
    "\n",
    "# Zdefiniowanie list: Utwórz dwie listy:\n",
    "    # przedmioty: zawierająca nazwy przedmiotów.\n",
    "    # oceny: zawierająca oceny z tych przedmiotów.\n",
    "# Użycie funkcji zip: Użyj funkcji zip, aby połączyć obie listy w pary, gdzie każdy przedmiot zostanie połączony z odpowiadającą mu oceną. W ten sposób tworzysz zestawienia przedmiot-ocena.\n",
    "# Tworzenie słownika: Użyj funkcji dict, aby przekształcić wynik funkcji zip w słownik. Kluczami w słowniku będą przedmioty, a wartościami – odpowiadające im oceny. Wynik przypisz do zmiennej słownik_ocen.\n",
    "# Wydruk: Wydrukuj słownik słownik_ocen, który zawiera przedmioty jako klucze i odpowiadające im oceny jako wartości.\n"
   ]
  },
  {
   "cell_type": "code",
   "execution_count": null,
   "id": "7a259961-da76-44d3-8efe-ca12020798fc",
   "metadata": {},
   "outputs": [],
   "source": [
    "# Listy\n",
    "\n",
    "# Użyj funkcji zip do połączenia list w słownik\n",
    "\n",
    "# Wyświetl utworzony słownik"
   ]
  },
  {
   "cell_type": "markdown",
   "id": "3dede4a8-0a7b-4264-b52d-d933a691050c",
   "metadata": {},
   "source": [
    "#### 39. Funkcja ENUMERATE – Iterowanie przez Listę z Indeksami"
   ]
  },
  {
   "cell_type": "code",
   "execution_count": null,
   "id": "f5e7d081-4c5c-47c1-8f67-d69e73dbe247",
   "metadata": {},
   "outputs": [],
   "source": [
    "# Ćwiczenie 39\n",
    "\n",
    "# Zdefiniowanie listy: Utwórz listę o nazwie produkty, która zawiera kilka nazw produktów.\n",
    "# Użycie funkcji enumerate: Użyj funkcji enumerate w pętli for, aby iterować przez listę produkty i przypisywać do zmiennych indeks oraz produkt:\n",
    "    # indeks: reprezentuje pozycję (indeks) produktu w liście, zaczynając od 0.\n",
    "    # produkt: reprezentuje nazwę produktu.\n",
    "# Wydruk: Wewnątrz pętli użyj funkcji print oraz f-stringów, aby wyświetlić indeks i nazwę produktu w formacie: „Indeks: [indeks], Produkt: [produkt]”.\n"
   ]
  },
  {
   "cell_type": "code",
   "execution_count": null,
   "id": "6b8218c5-f6e0-40ca-bc42-ab3f9c8fab09",
   "metadata": {},
   "outputs": [],
   "source": [
    "# Lista\n",
    "\n",
    "# Użycie enumerate do iteracji przez listę z indeksami\n"
   ]
  },
  {
   "cell_type": "markdown",
   "id": "1653d6db-ffa5-4cfa-a32a-863f723890f1",
   "metadata": {},
   "source": [
    "#### 40. Funkcja ENUMERATE – Przykład 2: Iterowanie przez Krotkę z Indeksami"
   ]
  },
  {
   "cell_type": "code",
   "execution_count": null,
   "id": "75f12fd1-8bd5-4845-8378-79d0eaaba627",
   "metadata": {},
   "outputs": [],
   "source": [
    "# Ćwiczenie 40\n",
    "\n",
    "# Zdefiniowanie krotki: Utwórz krotkę o nazwie krotka, która zawiera kilka nazw kolorów.\n",
    "# Użycie funkcji enumerate: Użyj funkcji enumerate w pętli for, aby iterować przez krotkę krotka i przypisywać do zmiennych indeks oraz kolor:\n",
    "    # indeks: reprezentuje pozycję (indeks) koloru w krotce, zaczynając od 0.\n",
    "    # kolor: reprezentuje nazwę koloru.\n",
    "# Wydruk: Wewnątrz pętli użyj funkcji print oraz f-stringów, aby wyświetlić indeks i nazwę koloru w formacie: „Indeks: [indeks], Kolor: [kolor]”.\n"
   ]
  },
  {
   "cell_type": "code",
   "execution_count": null,
   "id": "6e7e3f56-73be-4119-b4dc-7156dbd66f06",
   "metadata": {},
   "outputs": [],
   "source": [
    "# Krotka\n",
    "\n",
    "# Użycie enumerate do iteracji przez krotkę z indeksami\n"
   ]
  },
  {
   "cell_type": "markdown",
   "id": "9aaec3d2-3dfa-4b5d-8056-8e776c2b55ed",
   "metadata": {},
   "source": [
    "#### 41. Funkcja ENUMERATE – Przykład 3: Generowanie Słownika z Indeksami"
   ]
  },
  {
   "cell_type": "code",
   "execution_count": null,
   "id": "3470786a-ca60-4fdf-8d2f-6227555285db",
   "metadata": {},
   "outputs": [],
   "source": [
    "# Ćwiczenie 41\n",
    "\n",
    "# Zdefiniowanie listy: Utwórz listę o nazwie slowa, która zawiera kilka słów (np. nazwy owoców).\n",
    "# Użycie funkcji enumerate: Użyj funkcji enumerate w wyrażeniu słownikowym (dictionary comprehension), aby wygenerować słownik, gdzie:\n",
    "    # Kluczami będą indeksy słów w liście, zaczynając od 0.\n",
    "    # Wartościami będą odpowiednie słowa z listy slowa.\n",
    "# Tworzenie słownika: Przekształć wynik działania funkcji enumerate w słownik, używając wyrażenia {indeks: slowo for indeks, slowo in enumerate(slowa)}. Przypisz wynik do zmiennej slownik_indeksow.\n",
    "# Wydruk: Wydrukuj utworzony słownik slownik_indeksow, który zawiera indeksy jako klucze i słowa jako wartości.\n"
   ]
  },
  {
   "cell_type": "code",
   "execution_count": null,
   "id": "51b09978-e1e5-423c-baa3-98b7aeacdfd4",
   "metadata": {},
   "outputs": [],
   "source": [
    "# Lista\n",
    "\n",
    "# Użycie enumerate do wygenerowania słownika z indeksami\n"
   ]
  },
  {
   "cell_type": "markdown",
   "id": "236ceb80-4b52-4fbe-82b8-6d4be26ecfe5",
   "metadata": {},
   "source": [
    "#### 42. Funkcja ENUMERATE – Ćwiczenie: Numerowanie Elementów Listy"
   ]
  },
  {
   "cell_type": "code",
   "execution_count": null,
   "id": "290d073b-f6f9-4933-acc4-c4d610491002",
   "metadata": {},
   "outputs": [],
   "source": [
    "# Ćwiczenie 42\n",
    "\n",
    "# Zdefiniowanie listy: Utwórz listę o nazwie imiona_osob, która zawiera kilka imion.\n",
    "# Użycie funkcji enumerate: Użyj funkcji enumerate w wyrażeniu słownikowym (dictionary comprehension), aby wygenerować słownik, w którym:\n",
    "    # Kluczami będą indeksy imion w liście, zaczynając od 0.\n",
    "    # Wartościami będą odpowiednie imiona z listy imiona_osob.\n",
    "# Tworzenie słownika: Przekształć wynik działania funkcji enumerate w słownik, używając wyrażenia {indeks: imie for indeks, imie in enumerate(imiona_osob)}. Wynik przypisz do zmiennej slownik_indeksow.\n",
    "# Wydruk: Wydrukuj utworzony słownik slownik_indeksow, który zawiera indeksy jako klucze i imiona jako wartości.\n"
   ]
  },
  {
   "cell_type": "code",
   "execution_count": null,
   "id": "c3362ec7-4707-48da-899c-f0a32b308136",
   "metadata": {},
   "outputs": [],
   "source": [
    "# Lista\n",
    "\n",
    "# Użyj funkcji enumerate do wygenerowania słownika z indeksami\n"
   ]
  }
 ],
 "metadata": {
  "kernelspec": {
   "display_name": "Python 3 (ipykernel)",
   "language": "python",
   "name": "python3"
  },
  "language_info": {
   "codemirror_mode": {
    "name": "ipython",
    "version": 3
   },
   "file_extension": ".py",
   "mimetype": "text/x-python",
   "name": "python",
   "nbconvert_exporter": "python",
   "pygments_lexer": "ipython3",
   "version": "3.11.5"
  }
 },
 "nbformat": 4,
 "nbformat_minor": 5
}
