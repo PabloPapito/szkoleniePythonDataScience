{
 "cells": [
  {
   "cell_type": "code",
   "execution_count": 6,
   "id": "b33ab7d6-efaa-4cd5-a5e6-4459700ccf49",
   "metadata": {},
   "outputs": [
    {
     "name": "stdout",
     "output_type": "stream",
     "text": [
      "Python i Jupyter!\n"
     ]
    }
   ],
   "source": [
    "# Wstęp i omówienie Jupyter Notebook\n",
    "print('Python i Jupyter!')"
   ]
  },
  {
   "cell_type": "markdown",
   "id": "1eb1bfb4",
   "metadata": {},
   "source": [
    "## Sekcja 1: Analiza danych\n",
    "W tym miejscu przeprowadzamy analizę danych, korzystając z narzędzi Pythona."
   ]
  },
  {
   "cell_type": "code",
   "execution_count": 16,
   "id": "045f7c1d",
   "metadata": {},
   "outputs": [
    {
     "ename": "NameError",
     "evalue": "name 'dadas' is not defined",
     "output_type": "error",
     "traceback": [
      "\u001b[1;31m---------------------------------------------------------------------------\u001b[0m",
      "\u001b[1;31mNameError\u001b[0m                                 Traceback (most recent call last)",
      "Cell \u001b[1;32mIn[16], line 1\u001b[0m\n\u001b[1;32m----> 1\u001b[0m dadas\n",
      "\u001b[1;31mNameError\u001b[0m: name 'dadas' is not defined"
     ]
    }
   ],
   "source": [
    "dadas"
   ]
  },
  {
   "cell_type": "markdown",
   "id": "4985033a-abdf-4697-923d-5ddca64190ae",
   "metadata": {},
   "source": [
    "# Sekcja 1: Analiza danych"
   ]
  },
  {
   "cell_type": "markdown",
   "id": "e96ef718-5667-4f98-80fb-436c339ca8d2",
   "metadata": {},
   "source": [
    "## Sekcja 1: Analiza danych"
   ]
  },
  {
   "cell_type": "markdown",
   "id": "c62a4be1-940c-48d1-8797-6ff6bef03c1a",
   "metadata": {},
   "source": [
    "### Sekcja 1: Analiza danych"
   ]
  },
  {
   "cell_type": "markdown",
   "id": "65ee64ff-b3f5-4ab6-bcd9-4b50bc818ece",
   "metadata": {},
   "source": [
    "#### Sekcja 1: Analiza danych"
   ]
  },
  {
   "cell_type": "code",
   "execution_count": null,
   "id": "4fc07070-8646-4db9-916c-29499b496dfa",
   "metadata": {},
   "outputs": [],
   "source": []
  },
  {
   "cell_type": "code",
   "execution_count": null,
   "id": "2b940ab7-a2c4-444c-8867-95a745fc86c1",
   "metadata": {},
   "outputs": [],
   "source": []
  },
  {
   "cell_type": "code",
   "execution_count": null,
   "id": "9661fa98-8b50-4dd0-bf3d-96f22e84df50",
   "metadata": {},
   "outputs": [],
   "source": []
  },
  {
   "cell_type": "code",
   "execution_count": 14,
   "id": "8b6ed2d6-d1e0-401c-b30d-b2b39a63a9ec",
   "metadata": {},
   "outputs": [
    {
     "ename": "NameError",
     "evalue": "name 'aaaa' is not defined",
     "output_type": "error",
     "traceback": [
      "\u001b[1;31m---------------------------------------------------------------------------\u001b[0m",
      "\u001b[1;31mNameError\u001b[0m                                 Traceback (most recent call last)",
      "Cell \u001b[1;32mIn[14], line 1\u001b[0m\n\u001b[1;32m----> 1\u001b[0m aaaa\n",
      "\u001b[1;31mNameError\u001b[0m: name 'aaaa' is not defined"
     ]
    }
   ],
   "source": [
    "aaaa"
   ]
  },
  {
   "cell_type": "code",
   "execution_count": null,
   "id": "ee34f3af-2187-4339-be1c-344af03dab92",
   "metadata": {},
   "outputs": [],
   "source": []
  }
 ],
 "metadata": {
  "kernelspec": {
   "display_name": "Python 3 (ipykernel)",
   "language": "python",
   "name": "python3"
  },
  "language_info": {
   "codemirror_mode": {
    "name": "ipython",
    "version": 3
   },
   "file_extension": ".py",
   "mimetype": "text/x-python",
   "name": "python",
   "nbconvert_exporter": "python",
   "pygments_lexer": "ipython3",
   "version": "3.11.5"
  }
 },
 "nbformat": 4,
 "nbformat_minor": 5
}
