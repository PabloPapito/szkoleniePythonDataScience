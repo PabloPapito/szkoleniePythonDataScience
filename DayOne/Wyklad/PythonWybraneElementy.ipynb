{
 "cells": [
  {
   "cell_type": "markdown",
   "id": "79c7770f",
   "metadata": {},
   "source": [
    "# Python - Wybrane Elementy"
   ]
  },
  {
   "cell_type": "markdown",
   "id": "aa877fb2",
   "metadata": {},
   "source": [
    "#### Różnica między metodą a funkcją w Pythonie dotyczy przede wszystkim kontekstu, w którym są one używane:"
   ]
  },
  {
   "cell_type": "code",
   "execution_count": null,
   "id": "1741aea9",
   "metadata": {},
   "outputs": [],
   "source": [
    "# Metoda:\n",
    "# Metoda jest funkcją, która jest związana z konkretnym obiektem lub typem danych.\n",
    "\n",
    "# Jest wywoływana na rzecz konkretnego obiektu przy użyciu notacji kropkowej (.).\n",
    "\n",
    "# Metoda może mieć dostęp do danych zawartych w obiekcie, na którym jest wywoływana, za pomocą argumentu self.\n",
    "\n",
    "# Przykładem metody jest append() dla list, która dodaje element do listy, lub capitalize() dla łańcuchów,\n",
    "# która zmienia pierwszą literę na wielką."
   ]
  },
  {
   "cell_type": "code",
   "execution_count": null,
   "id": "c75c3b38",
   "metadata": {},
   "outputs": [],
   "source": [
    "# Funkcja:\n",
    "# Funkcja jest blokiem kodu, który wykonuje określone zadanie i może być wywoływany z dowolnego miejsca w programie.\n",
    "\n",
    "# Nie jest związana z konkretnym obiektem ani typem danych.\n",
    "\n",
    "# Funkcje są definiowane przy użyciu słowa kluczowego def i mogą przyjmować argumenty.\n",
    "\n",
    "# Przykładem funkcji jest print(), która wypisuje wartość na standardowe wyjście, lub len(), która zwraca długość obiektu.\n",
    "\n",
    "# W skrócie, metoda jest specjalnym rodzajem funkcji, która jest związana z konkretnym obiektem,\n",
    "# podczas gdy funkcja jest niezależnym blokiem kodu, który może być wywoływany w dowolnym kontekście.\n",
    "\n",
    "# Metody mają dostęp do danych obiektu, na którym są wywoływane, podczas gdy funkcje nie mają takiego dostępu,\n",
    "# chyba że dane są przekazywane jako argumenty."
   ]
  },
  {
   "cell_type": "markdown",
   "id": "5001decf",
   "metadata": {},
   "source": [
    "#### 1. Przypomnienie Podstawowych Typów i Struktur Danych"
   ]
  },
  {
   "cell_type": "code",
   "execution_count": 1,
   "id": "3ef319a3",
   "metadata": {},
   "outputs": [],
   "source": [
    "# Int & Float\n",
    "\n",
    "x = 5 # Int\n",
    "y = 3.14 # Float"
   ]
  },
  {
   "cell_type": "code",
   "execution_count": 2,
   "id": "fc63841f",
   "metadata": {},
   "outputs": [],
   "source": [
    "# String\n",
    "\n",
    "text = \"Hello, Data Science!\""
   ]
  },
  {
   "cell_type": "code",
   "execution_count": 3,
   "id": "d58f0978",
   "metadata": {},
   "outputs": [],
   "source": [
    "# Lista\n",
    "\n",
    "numbers = [1, 2, 3, 4, 5]"
   ]
  },
  {
   "cell_type": "code",
   "execution_count": 4,
   "id": "70986a29",
   "metadata": {},
   "outputs": [],
   "source": [
    "# Tuple\n",
    "\n",
    "coordinates = (3, 4)"
   ]
  },
  {
   "cell_type": "code",
   "execution_count": 5,
   "id": "5257f0d0",
   "metadata": {},
   "outputs": [],
   "source": [
    "# Dictionary\n",
    "\n",
    "student = {'name': 'John',\n",
    "           'age': 20,\n",
    "           'grade': 'A'\n",
    "          }"
   ]
  },
  {
   "cell_type": "markdown",
   "id": "a1acf03a",
   "metadata": {},
   "source": [
    "#### 2. Indeksowanie, Slicing i Iteracja"
   ]
  },
  {
   "cell_type": "code",
   "execution_count": 6,
   "id": "a551dff3",
   "metadata": {},
   "outputs": [],
   "source": [
    "# Indeksowanie\n",
    "\n",
    "numbers = [10, 20, 30, 40, 50]\n",
    "first_element = numbers[0]  # Pobiera pierwszy element (10)"
   ]
  },
  {
   "cell_type": "code",
   "execution_count": 7,
   "id": "e406f8cb",
   "metadata": {},
   "outputs": [],
   "source": [
    "# Slicing\n",
    "\n",
    "numbers = [10, 20, 30, 40, 50]\n",
    "sliced_numbers = numbers[1:4]  # Pobiera elementy od indeksu 1 do 3"
   ]
  },
  {
   "cell_type": "code",
   "execution_count": 8,
   "id": "ebabf3b4",
   "metadata": {},
   "outputs": [
    {
     "name": "stdout",
     "output_type": "stream",
     "text": [
      "10\n",
      "20\n",
      "30\n",
      "40\n",
      "50\n"
     ]
    }
   ],
   "source": [
    "# Iteracja\n",
    "\n",
    "numbers = [10, 20, 30, 40, 50]\n",
    "for num in numbers:\n",
    "    print(num)"
   ]
  },
  {
   "cell_type": "markdown",
   "id": "ae62fbe9",
   "metadata": {},
   "source": [
    "#### 3. Funkcje, Funkcje Anonimowe (Lambda)"
   ]
  },
  {
   "cell_type": "code",
   "execution_count": 9,
   "id": "b086d596",
   "metadata": {},
   "outputs": [],
   "source": [
    "# Definiowanie funkcji\n",
    "\n",
    "def add_numbers(x, y):\n",
    "    return x + y"
   ]
  },
  {
   "cell_type": "code",
   "execution_count": 10,
   "id": "8b7a7be9",
   "metadata": {},
   "outputs": [
    {
     "name": "stdout",
     "output_type": "stream",
     "text": [
      "5\n"
     ]
    }
   ],
   "source": [
    "print(add_numbers(3, 2))"
   ]
  },
  {
   "cell_type": "code",
   "execution_count": 11,
   "id": "fb120bd2",
   "metadata": {},
   "outputs": [],
   "source": [
    "# Funkcja Lambda\n",
    "\n",
    "multiply = lambda x, y: x * y"
   ]
  },
  {
   "cell_type": "code",
   "execution_count": 12,
   "id": "00e7fd40",
   "metadata": {},
   "outputs": [
    {
     "name": "stdout",
     "output_type": "stream",
     "text": [
      "4\n"
     ]
    }
   ],
   "source": [
    "print(multiply(2, 2))"
   ]
  },
  {
   "cell_type": "code",
   "execution_count": 13,
   "id": "b5a720c7",
   "metadata": {},
   "outputs": [
    {
     "name": "stdout",
     "output_type": "stream",
     "text": [
      "8\n"
     ]
    }
   ],
   "source": [
    "print(multiply(2, 4))"
   ]
  },
  {
   "cell_type": "code",
   "execution_count": 14,
   "id": "a7e3b9ec",
   "metadata": {},
   "outputs": [
    {
     "data": {
      "text/plain": [
       "9"
      ]
     },
     "execution_count": 14,
     "metadata": {},
     "output_type": "execute_result"
    }
   ],
   "source": [
    "(lambda x, y: x * y)(3, 3)"
   ]
  },
  {
   "cell_type": "code",
   "execution_count": 15,
   "id": "4a2439c8",
   "metadata": {},
   "outputs": [
    {
     "name": "stdout",
     "output_type": "stream",
     "text": [
      "9\n"
     ]
    }
   ],
   "source": [
    "print((lambda x, y: x * y)(3, 3))"
   ]
  },
  {
   "cell_type": "markdown",
   "id": "b080bac3",
   "metadata": {},
   "source": [
    "#### 4. List Comprehension"
   ]
  },
  {
   "cell_type": "code",
   "execution_count": 16,
   "id": "2fcaf64a",
   "metadata": {},
   "outputs": [],
   "source": [
    "# List Comprehension\n",
    "\n",
    "squares = [x**2 for x in range(1, 6)]"
   ]
  },
  {
   "cell_type": "code",
   "execution_count": 17,
   "id": "0fea4db7",
   "metadata": {},
   "outputs": [
    {
     "name": "stdout",
     "output_type": "stream",
     "text": [
      "[1, 4, 9, 16, 25]\n"
     ]
    }
   ],
   "source": [
    "print(squares)"
   ]
  },
  {
   "cell_type": "markdown",
   "id": "c5624db7",
   "metadata": {},
   "source": [
    "#### 5. Wybrane funkcje wbudowane"
   ]
  },
  {
   "cell_type": "code",
   "execution_count": 18,
   "id": "aad416f4",
   "metadata": {},
   "outputs": [],
   "source": [
    "# Funkcje matematyczne\n",
    "\n",
    "a = abs(-7.25) # Zwraca wartość bezwzględną.\n",
    "\n",
    "b = round(5.76543, 2) # Zaokrągla liczbę do wybranej ilości miejsc po przecinku (nawias)\n",
    "\n",
    "c = max(2, 3, 4, 5, 10, 15, 20) # Zwraca największą wartość z podanej tupli, listy.\n",
    "\n",
    "d = min(2, 3, 4, 5, 10, 15, 20) # Zwraca najmniejszą wartość z podanej tupli, listy.\n",
    "\n",
    "e = (2, 3, 4, 5, 10, 15, 20)\n",
    "\n",
    "f = sum(e) # Sumuje wszystkie wartości z podanej zmiennej 'e'"
   ]
  },
  {
   "cell_type": "code",
   "execution_count": 19,
   "id": "994796d4",
   "metadata": {},
   "outputs": [
    {
     "name": "stdout",
     "output_type": "stream",
     "text": [
      "7.25,\n",
      "5.77,\n",
      "20,\n",
      "2,\n",
      "59\n"
     ]
    }
   ],
   "source": [
    "print(f'{a},\\n{b},\\n{c},\\n{d},\\n{f}')"
   ]
  },
  {
   "cell_type": "code",
   "execution_count": 22,
   "id": "acc5cf7f",
   "metadata": {},
   "outputs": [],
   "source": [
    "# Funkcje tekstowe\n",
    "\n",
    "tekst = 'Przykładowy tekst do sprawdzenia.'\n",
    "int = 4\n",
    "\n",
    "g = len(tekst) # Zwraca długość znaków w podanym tekście.\n",
    "\n",
    "h = str(int) # Zmienia wartość liczbową lub teks którego nie jesteśmy pewni na stringa\n",
    "\n",
    "i = tekst.upper() # Zwraca tekst z powiększonymi znakami.\n",
    "\n",
    "j = tekst.lower() # Zwraca tekst z pomniejszonymi znakami.\n",
    "\n",
    "k = tekst.startswith('Przykład') # Zwraca wartość Prawda/Fałsz (Bolean)\n",
    "\n",
    "l = tekst.startswith('Hello') # Zwraca wartość Prawda/Fałsz (Bolean)\n",
    "\n",
    "m = tekst.endswith('.') # Zwraca wartość Prawda/Fałsz (Bolean)\n",
    "\n",
    "n = tekst.endswith('World!') # Zwraca wartość Prawda/Fałsz (Bolean)"
   ]
  },
  {
   "cell_type": "code",
   "execution_count": 24,
   "id": "b88271b5",
   "metadata": {},
   "outputs": [
    {
     "name": "stdout",
     "output_type": "stream",
     "text": [
      "33,\n",
      "4,\n",
      "PRZYKŁADOWY TEKST DO SPRAWDZENIA.,\n",
      "przykładowy tekst do sprawdzenia.,\n",
      "True,\n",
      "False,\n",
      "True,\n",
      "False\n"
     ]
    }
   ],
   "source": [
    "print(f'{g},\\n{h},\\n{i},\\n{j},\\n{k},\\n{l},\\n{m},\\n{n}')"
   ]
  },
  {
   "cell_type": "code",
   "execution_count": 51,
   "id": "fe53f619",
   "metadata": {},
   "outputs": [
    {
     "name": "stdout",
     "output_type": "stream",
     "text": [
      "7.961538461538462,\n",
      "8.0,\n",
      "11,\n",
      "3.23086080456301\n"
     ]
    }
   ],
   "source": [
    "# Funkcje statystyczne\n",
    "\n",
    "import statistics\n",
    "\n",
    "numbersLong = [2, 4, 2, 5 ,6 ,7 , 8, 8 ,8 ,8 ,8 , 9, 10, 11, 11, 11, 11, 11, 11, 11, 12, 13, 2, 5, 6, 7]\n",
    "\n",
    "print(f'''{statistics.mean(numbersLong)},\n",
    "{statistics.median(numbersLong)},\n",
    "{statistics.mode(numbersLong)},\n",
    "{statistics.stdev(numbersLong)}''')\n",
    "\n",
    "# .mean() - Średnia\n",
    "# .median() - Mediana\n",
    "# .mode() - Dominanta wartość najczęściej występująca w zbiorze.\n",
    "# .stdev() - Odchylenie standardowe"
   ]
  },
  {
   "cell_type": "markdown",
   "id": "acc3c877",
   "metadata": {},
   "source": [
    "#### Dlaczego importujemy najpierw z from datetime a później import datetime?"
   ]
  },
  {
   "cell_type": "code",
   "execution_count": null,
   "id": "336b8502",
   "metadata": {},
   "outputs": [],
   "source": [
    "# Moduł datetime zawiera głównie jedną klasę o nazwie datetime, która jest powszechnie używana.\n",
    "\n",
    "# Importując jedynie tę klasę za pomocą from datetime import datetime,\n",
    "# możesz bezpośrednio odwoływać się do niej bez konieczności używania prefiksu nazwy modułu.\n",
    "\n",
    "# Użycie datetime.now() jest bardziej zwięzłe niż datetime.datetime.now(), co poprawia czytelność kodu."
   ]
  },
  {
   "cell_type": "code",
   "execution_count": 54,
   "id": "1bdaedc4",
   "metadata": {},
   "outputs": [
    {
     "name": "stdout",
     "output_type": "stream",
     "text": [
      "year: 2024\n",
      "month: 01\n",
      "day: 22\n",
      "time: 21:06:22\n",
      "date and time: 01/22/2024, 21:06:22\n",
      "2024-01-22 21:06:22.394635\n"
     ]
    }
   ],
   "source": [
    "# Funkcje data i czas\n",
    "\n",
    "# https://docs.python.org/3/library/datetime.html#format-codes\n",
    "\n",
    "# Różnica pomiędzy strftime() a strptime - z strptime() stringa robimy obiekt, a z strftime() tworzymy stringa\n",
    "\n",
    "from datetime import datetime\n",
    "\n",
    "now = datetime.now() # current date and time\n",
    "\n",
    "year = now.strftime(\"%Y\")\n",
    "print(\"year:\", year)\n",
    "\n",
    "month = now.strftime(\"%m\")\n",
    "print(\"month:\", month)\n",
    "\n",
    "day = now.strftime(\"%d\")\n",
    "print(\"day:\", day)\n",
    "\n",
    "time = now.strftime(\"%H:%M:%S\")\n",
    "print(\"time:\", time)\n",
    "\n",
    "date_time = now.strftime(\"%m/%d/%Y, %H:%M:%S\")\n",
    "print(\"date and time:\", date_time)\n",
    "print(now)"
   ]
  },
  {
   "cell_type": "code",
   "execution_count": 55,
   "id": "ff2e73ff",
   "metadata": {},
   "outputs": [
    {
     "name": "stdout",
     "output_type": "stream",
     "text": [
      "date_string = 21 June, 2018\n",
      "type of date_string = <class 'str'>\n",
      "date_object = 2018-06-21 00:00:00\n",
      "type of date_object = <class 'datetime.datetime'>\n"
     ]
    }
   ],
   "source": [
    "# Funkcje data i czas\n",
    "\n",
    "date_string = \"21 June, 2018\"\n",
    "\n",
    "print(\"date_string =\", date_string)\n",
    "print(\"type of date_string =\", type(date_string))\n",
    "\n",
    "date_object = datetime.strptime(date_string, \"%d %B, %Y\")\n",
    "\n",
    "print(\"date_object =\", date_object)\n",
    "print(\"type of date_object =\", type(date_object))"
   ]
  },
  {
   "cell_type": "code",
   "execution_count": 56,
   "id": "252ba86a",
   "metadata": {},
   "outputs": [
    {
     "name": "stdout",
     "output_type": "stream",
     "text": [
      "dt_object1 = 2018-11-12 09:15:32\n",
      "dt_object2 = 2018-12-11 09:15:32\n"
     ]
    }
   ],
   "source": [
    "# Funkcje data i czas\n",
    "\n",
    "dt_string = \"12/11/2018 09:15:32\"\n",
    "\n",
    "# Considering date is in dd/mm/yyyy format\n",
    "dt_object1 = datetime.strptime(dt_string, \"%d/%m/%Y %H:%M:%S\")\n",
    "print(\"dt_object1 =\", dt_object1)\n",
    "\n",
    "# Considering date is in mm/dd/yyyy format\n",
    "dt_object2 = datetime.strptime(dt_string, \"%m/%d/%Y %H:%M:%S\")\n",
    "print(\"dt_object2 =\", dt_object2)"
   ]
  },
  {
   "cell_type": "code",
   "execution_count": 2,
   "id": "af0788f4",
   "metadata": {},
   "outputs": [
    {
     "name": "stdout",
     "output_type": "stream",
     "text": [
      "2024-04-18 18:58:04\n",
      "04-18-2024 18:58:04\n"
     ]
    }
   ],
   "source": [
    "# Funkcje data i czas\n",
    "\n",
    "from datetime import datetime\n",
    "\n",
    "\n",
    "formatted_datetime1 = datetime.now().strftime(\"%Y-%m-%d %H:%M:%S\")\n",
    "formatted_datetime2 = datetime.now().strftime(\"%m-%d-%Y %H:%M:%S\")\n",
    "\n",
    "print(formatted_datetime1)\n",
    "print(formatted_datetime2)\n",
    "\n",
    "# Funkcja datetime.now().strftime() zwróci bieżącą datę i godzinę w postaci łańcucha znaków,\n",
    "# który zostanie sformatowany zgodnie z podanym formatem. Jednakże, jeśli nie zostanie podany żaden format,\n",
    "# to funkcja spowoduje wystąpienie błędu.\n",
    "\n",
    "# W tym przypadku, %Y-%m-%d %H:%M:%S to formatowanie daty i godziny,\n",
    "# które zwróci wartość bieżącej daty i godziny w formacie \"RRRR-MM-DD HH:MM:SS\"."
   ]
  },
  {
   "cell_type": "markdown",
   "id": "6769d478",
   "metadata": {},
   "source": [
    "#### 6. Kontrola Przepływu"
   ]
  },
  {
   "cell_type": "code",
   "execution_count": 25,
   "id": "a79ab0ad",
   "metadata": {},
   "outputs": [
    {
     "name": "stdout",
     "output_type": "stream",
     "text": [
      "0\n",
      "1\n",
      "2\n",
      "3\n",
      "4\n"
     ]
    }
   ],
   "source": [
    "# Pętla While\n",
    "\n",
    "i = 0\n",
    "while i < 5:\n",
    "    print(i)\n",
    "    i += 1"
   ]
  },
  {
   "cell_type": "code",
   "execution_count": 2,
   "id": "8aa76c87",
   "metadata": {},
   "outputs": [
    {
     "name": "stdout",
     "output_type": "stream",
     "text": [
      "1\n",
      "2\n",
      "3\n",
      "4\n",
      "5\n"
     ]
    }
   ],
   "source": [
    "# Pętla For\n",
    "\n",
    "numbers = [1, 2, 3, 4, 5]\n",
    "for i in numbers:\n",
    "    print(i)"
   ]
  },
  {
   "cell_type": "code",
   "execution_count": 6,
   "id": "084e29a9",
   "metadata": {},
   "outputs": [
    {
     "name": "stdout",
     "output_type": "stream",
     "text": [
      "Dodatnie\n"
     ]
    }
   ],
   "source": [
    "# Instrukcje warunkowe (if, elif, else)\n",
    "\n",
    "x = 10\n",
    "if x > 0:\n",
    "    print(\"Dodatnie\")\n",
    "elif x < 0:\n",
    "    print(\"Ujemne\")\n",
    "else:\n",
    "    print(\"Zero\")"
   ]
  },
  {
   "cell_type": "code",
   "execution_count": null,
   "id": "59ad89c5",
   "metadata": {},
   "outputs": [],
   "source": []
  }
 ],
 "metadata": {
  "kernelspec": {
   "display_name": "Python 3 (ipykernel)",
   "language": "python",
   "name": "python3"
  },
  "language_info": {
   "codemirror_mode": {
    "name": "ipython",
    "version": 3
   },
   "file_extension": ".py",
   "mimetype": "text/x-python",
   "name": "python",
   "nbconvert_exporter": "python",
   "pygments_lexer": "ipython3",
   "version": "3.11.5"
  }
 },
 "nbformat": 4,
 "nbformat_minor": 5
}
