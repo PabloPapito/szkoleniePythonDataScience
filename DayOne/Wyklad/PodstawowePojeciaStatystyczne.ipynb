{
 "cells": [
  {
   "cell_type": "markdown",
   "id": "f5a9f24a",
   "metadata": {},
   "source": [
    "# Podstawy statystyki - Podstawowe pojęcia statystyczne"
   ]
  },
  {
   "cell_type": "code",
   "execution_count": 2,
   "id": "c1e57c5a",
   "metadata": {},
   "outputs": [],
   "source": [
    "# Dane dotyczące wieku osób\n",
    "\n",
    "wiek = [21, 22, 23, 24, 24, 25, 26, 26, 27, 27, 28, 30, 30, 30, 31]"
   ]
  },
  {
   "cell_type": "code",
   "execution_count": 3,
   "id": "cbb61bea",
   "metadata": {},
   "outputs": [],
   "source": [
    "import statistics\n",
    "\n",
    "# Średnia arytmetyczna\n",
    "\n",
    "srednia = statistics.mean(wiek)\n",
    "\n",
    "# Mediana\n",
    "\n",
    "mediana = statistics.median(wiek)\n",
    "\n",
    "# Dominanta\n",
    "\n",
    "dominanta = statistics.mode(wiek)\n"
   ]
  },
  {
   "cell_type": "code",
   "execution_count": 4,
   "id": "ce275ba6",
   "metadata": {},
   "outputs": [
    {
     "name": "stdout",
     "output_type": "stream",
     "text": [
      "26.266666666666666 26 30\n"
     ]
    }
   ],
   "source": [
    "print(srednia, mediana, dominanta)"
   ]
  },
  {
   "cell_type": "code",
   "execution_count": 5,
   "id": "c3b35c4f",
   "metadata": {},
   "outputs": [
    {
     "name": "stdout",
     "output_type": "stream",
     "text": [
      "26.266666666666666\n",
      "26\n",
      "30\n"
     ]
    }
   ],
   "source": [
    "print(srednia)\n",
    "print(mediana)\n",
    "print(dominanta)"
   ]
  },
  {
   "cell_type": "code",
   "execution_count": 6,
   "id": "b25c5bcf",
   "metadata": {},
   "outputs": [],
   "source": [
    "# Odchylenie standardowe\n",
    "\n",
    "odchylenie_std = statistics.stdev(wiek)"
   ]
  },
  {
   "cell_type": "code",
   "execution_count": 7,
   "id": "eaf71816",
   "metadata": {},
   "outputs": [
    {
     "name": "stdout",
     "output_type": "stream",
     "text": [
      "3.1274514194392182\n"
     ]
    }
   ],
   "source": [
    "print(odchylenie_std)"
   ]
  },
  {
   "cell_type": "code",
   "execution_count": 8,
   "id": "580d8939",
   "metadata": {},
   "outputs": [],
   "source": [
    "# Zakres\n",
    "\n",
    "zakres = max(wiek) - min(wiek)\n",
    "\n",
    "# Kwartyle\n",
    "\n",
    "q1 = statistics.quantiles(wiek, n=4)[0]\n",
    "q2 = statistics.quantiles(wiek, n=4)[1]\n",
    "q3 = statistics.quantiles(wiek, n=4)[2]\n",
    "\n",
    "# Rozstęp ćwiartkowy\n",
    "\n",
    "rozstep = q3 - q1"
   ]
  },
  {
   "cell_type": "code",
   "execution_count": 9,
   "id": "f61eeee9",
   "metadata": {},
   "outputs": [
    {
     "name": "stdout",
     "output_type": "stream",
     "text": [
      "10\n",
      "24.0\n",
      "26.0\n",
      "30.0\n",
      "6.0\n"
     ]
    }
   ],
   "source": [
    "print(zakres)\n",
    "print(q1)\n",
    "print(q2)\n",
    "print(q3)\n",
    "print(rozstep)"
   ]
  },
  {
   "cell_type": "code",
   "execution_count": 10,
   "id": "c5207384",
   "metadata": {},
   "outputs": [],
   "source": [
    "q1 = statistics.quantiles(wiek, n=4)[0]  # Pierwszy kwartyl\n",
    "q2 = statistics.quantiles(wiek, n=4)[1]  # Drugi kwartyl (mediana)\n",
    "q3 = statistics.quantiles(wiek, n=4)[2]  # Trzeci kwartyl"
   ]
  },
  {
   "cell_type": "code",
   "execution_count": 12,
   "id": "501b505e",
   "metadata": {},
   "outputs": [],
   "source": [
    "percentyl_25 = statistics.quantiles(wiek, n=100)[25]  # 25 percentyl\n",
    "percentyl_50 = statistics.quantiles(wiek, n=100)[50]  # 50 percentyl (mediana)\n",
    "percentyl_75 = statistics.quantiles(wiek, n=100)[75]  # 75 percentyl"
   ]
  },
  {
   "cell_type": "code",
   "execution_count": 15,
   "id": "d22c1aab",
   "metadata": {},
   "outputs": [
    {
     "name": "stdout",
     "output_type": "stream",
     "text": [
      "24.0 26.16 30.0\n"
     ]
    }
   ],
   "source": [
    "print(percentyl_25, percentyl_50, percentyl_75)"
   ]
  },
  {
   "cell_type": "code",
   "execution_count": null,
   "id": "9d24db92",
   "metadata": {},
   "outputs": [],
   "source": []
  }
 ],
 "metadata": {
  "kernelspec": {
   "display_name": "Python 3 (ipykernel)",
   "language": "python",
   "name": "python3"
  },
  "language_info": {
   "codemirror_mode": {
    "name": "ipython",
    "version": 3
   },
   "file_extension": ".py",
   "mimetype": "text/x-python",
   "name": "python",
   "nbconvert_exporter": "python",
   "pygments_lexer": "ipython3",
   "version": "3.11.5"
  }
 },
 "nbformat": 4,
 "nbformat_minor": 5
}
