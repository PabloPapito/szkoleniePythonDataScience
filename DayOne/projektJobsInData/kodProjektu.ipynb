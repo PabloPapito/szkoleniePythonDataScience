{
 "cells": [
  {
   "cell_type": "code",
   "execution_count": 37,
   "id": "304648b6-3076-4f0d-bcc4-f756fda79a7e",
   "metadata": {},
   "outputs": [
    {
     "name": "stdout",
     "output_type": "stream",
     "text": [
      "<class 'pandas.core.frame.DataFrame'>\n",
      "RangeIndex: 9355 entries, 0 to 9354\n",
      "Data columns (total 12 columns):\n",
      " #   Column              Non-Null Count  Dtype \n",
      "---  ------              --------------  ----- \n",
      " 0   work_year           9355 non-null   int64 \n",
      " 1   job_title           9355 non-null   object\n",
      " 2   job_category        9355 non-null   object\n",
      " 3   salary_currency     9355 non-null   object\n",
      " 4   salary              9355 non-null   int64 \n",
      " 5   salary_in_usd       9355 non-null   int64 \n",
      " 6   employee_residence  9355 non-null   object\n",
      " 7   experience_level    9355 non-null   object\n",
      " 8   employment_type     9355 non-null   object\n",
      " 9   work_setting        9355 non-null   object\n",
      " 10  company_location    9355 non-null   object\n",
      " 11  company_size        9355 non-null   object\n",
      "dtypes: int64(3), object(9)\n",
      "memory usage: 877.2+ KB\n",
      "None\n",
      "         work_year         salary  salary_in_usd\n",
      "count  9355.000000    9355.000000    9355.000000\n",
      "mean   2022.760449  149927.981293  150299.495564\n",
      "std       0.519470   63608.835387   63177.372024\n",
      "min    2020.000000   14000.000000   15000.000000\n",
      "25%    2023.000000  105200.000000  105700.000000\n",
      "50%    2023.000000  143860.000000  143000.000000\n",
      "75%    2023.000000  187000.000000  186723.000000\n",
      "max    2023.000000  450000.000000  450000.000000\n",
      "   work_year             job_title                    job_category  \\\n",
      "0       2023  Data DevOps Engineer                Data Engineering   \n",
      "1       2023        Data Architect  Data Architecture and Modeling   \n",
      "2       2023        Data Architect  Data Architecture and Modeling   \n",
      "3       2023        Data Scientist       Data Science and Research   \n",
      "4       2023        Data Scientist       Data Science and Research   \n",
      "\n",
      "  salary_currency  salary  salary_in_usd employee_residence experience_level  \\\n",
      "0             EUR   88000          95012            Germany        Mid-level   \n",
      "1             USD  186000         186000      United States           Senior   \n",
      "2             USD   81800          81800      United States           Senior   \n",
      "3             USD  212000         212000      United States           Senior   \n",
      "4             USD   93300          93300      United States           Senior   \n",
      "\n",
      "  employment_type work_setting company_location company_size  \n",
      "0       Full-time       Hybrid          Germany            L  \n",
      "1       Full-time    In-person    United States            M  \n",
      "2       Full-time    In-person    United States            M  \n",
      "3       Full-time    In-person    United States            M  \n",
      "4       Full-time    In-person    United States            M  \n",
      "Index(['work_year', 'job_title', 'job_category', 'salary_currency', 'salary',\n",
      "       'salary_in_usd', 'employee_residence', 'experience_level',\n",
      "       'employment_type', 'work_setting', 'company_location', 'company_size'],\n",
      "      dtype='object')\n"
     ]
    }
   ],
   "source": [
    "import pandas as pd\n",
    "import matplotlib.pyplot as plt\n",
    "\n",
    "# Wczytanie danych z pliku CSV\n",
    "data = pd.read_csv('jobs_in_data.csv')\n",
    "\n",
    "# Podstawowe informacje o danych\n",
    "print(data.info())\n",
    "print(data.describe())\n",
    "\n",
    "# Wyświetlenie podstawowych informacji o danych (pierwsze 5 wierszy)\n",
    "print(data.head())\n",
    "\n",
    "# Wyświetlenie nazw kolumn\n",
    "print(data.columns)"
   ]
  },
  {
   "cell_type": "code",
   "execution_count": 38,
   "id": "bbb49756-128a-4945-b78f-cd283c91b338",
   "metadata": {},
   "outputs": [
    {
     "name": "stdout",
     "output_type": "stream",
     "text": [
      "Liczba rekordów: 9355\n",
      "Średnia: 150299.5, Mediana: 143000.0, Min: 15000, Max: 450000, Odchylenie standardowe: 63177.37\n"
     ]
    }
   ],
   "source": [
    "# Obliczenie podstawowych statystyk dla kolumny salary_in_usd\n",
    "mean_salary = round(data['salary_in_usd'].mean(), 2)\n",
    "median_salary = round(data['salary_in_usd'].median(), 2)\n",
    "min_salary = data['salary_in_usd'].min()\n",
    "max_salary = data['salary_in_usd'].max()\n",
    "std_salary = round(data['salary_in_usd'].std(), 2)\n",
    "record_count = len(data)\n",
    "\n",
    "print(f\"Liczba rekordów: {record_count}\")\n",
    "print(f\"Średnia: {mean_salary}, Mediana: {median_salary}, Min: {min_salary}, Max: {max_salary}, Odchylenie standardowe: {std_salary}\")\n"
   ]
  },
  {
   "cell_type": "code",
   "execution_count": 39,
   "id": "0bf6e791-c9d5-4cf8-9293-931b291ba1b3",
   "metadata": {},
   "outputs": [
    {
     "name": "stdout",
     "output_type": "stream",
     "text": [
      "        job_title_upper  job_title_length\n",
      "0  DATA DEVOPS ENGINEER                20\n",
      "1        DATA ARCHITECT                14\n",
      "2        DATA ARCHITECT                14\n",
      "3        DATA SCIENTIST                14\n",
      "4        DATA SCIENTIST                14\n"
     ]
    }
   ],
   "source": [
    "# Zmiana wszystkich nazw stanowisk na wielkie litery\n",
    "data['job_title_upper'] = data['job_title'].str.upper()\n",
    "\n",
    "# Wyświetlenie długości nazw stanowisk\n",
    "data['job_title_length'] = data['job_title'].apply(len)\n",
    "print(data[['job_title_upper', 'job_title_length']].head())\n"
   ]
  },
  {
   "cell_type": "code",
   "execution_count": 40,
   "id": "5cb06745-7b74-4138-be0c-ea3274126df7",
   "metadata": {},
   "outputs": [
    {
     "name": "stdout",
     "output_type": "stream",
     "text": [
      "                     job_title  salary_in_usd experience_level\n",
      "0         Data DevOps Engineer          95012        Mid-level\n",
      "1               Data Architect         186000           Senior\n",
      "2               Data Architect          81800           Senior\n",
      "3               Data Scientist         212000           Senior\n",
      "4               Data Scientist          93300           Senior\n",
      "...                        ...            ...              ...\n",
      "9350           Data Specialist         165000           Senior\n",
      "9351            Data Scientist         412000           Senior\n",
      "9352  Principal Data Scientist         151000        Mid-level\n",
      "9353            Data Scientist         105000      Entry-level\n",
      "9354     Business Data Analyst         100000      Entry-level\n",
      "\n",
      "[9355 rows x 3 columns]\n",
      "Wiersz 1: Wynagrodzenie: 95012 USD\n",
      "Wiersz 2: Wynagrodzenie: 186000 USD\n",
      "Wiersz 3: Wynagrodzenie: 81800 USD\n",
      "Wiersz 4: Wynagrodzenie: 212000 USD\n",
      "Wiersz 5: Wynagrodzenie: 93300 USD\n",
      "Wiersz 6: Wynagrodzenie: 130000 USD\n",
      "Wiersz 7: Wynagrodzenie: 100000 USD\n",
      "Wiersz 8: Wynagrodzenie: 224400 USD\n",
      "Wiersz 9: Wynagrodzenie: 138700 USD\n",
      "Wiersz 10: Wynagrodzenie: 210000 USD\n"
     ]
    }
   ],
   "source": [
    "# Wyciągnięcie wszystkich wierszy dla kolumn job_title, salary_in_usd, experience_level\n",
    "subset_data = data[['job_title', 'salary_in_usd', 'experience_level']]\n",
    "print(subset_data)\n",
    "\n",
    "# Iteracja przez wszystkie wiersze i wyświetlenie wartości salary_in_usd\n",
    "for i in range(10): #dla wszystkich wierszy -> len(data)\n",
    "    salary = data['salary_in_usd'][i]\n",
    "    print(f\"Wiersz {i+1}: Wynagrodzenie: {salary} USD\")\n"
   ]
  },
  {
   "cell_type": "code",
   "execution_count": 41,
   "id": "146136ac-62f7-4718-be50-216eb648c0cc",
   "metadata": {},
   "outputs": [
    {
     "name": "stdout",
     "output_type": "stream",
     "text": [
      "                     job_title  salary_in_usd salary_comparison\n",
      "0         Data DevOps Engineer          95012  Poniżej średniej\n",
      "1               Data Architect         186000  Powyżej średniej\n",
      "2               Data Architect          81800  Poniżej średniej\n",
      "3               Data Scientist         212000  Powyżej średniej\n",
      "4               Data Scientist          93300  Poniżej średniej\n",
      "...                        ...            ...               ...\n",
      "9350           Data Specialist         165000  Powyżej średniej\n",
      "9351            Data Scientist         412000  Powyżej średniej\n",
      "9352  Principal Data Scientist         151000  Powyżej średniej\n",
      "9353            Data Scientist         105000  Poniżej średniej\n",
      "9354     Business Data Analyst         100000  Poniżej średniej\n",
      "\n",
      "[9355 rows x 3 columns]\n"
     ]
    }
   ],
   "source": [
    "# Funkcja sprawdzająca, czy wynagrodzenie jest powyżej czy poniżej średniej\n",
    "def compare_to_mean(salary, mean_salary):\n",
    "    if salary > mean_salary:\n",
    "        return \"Powyżej średniej\"\n",
    "    else:\n",
    "        return \"Poniżej średniej\"\n",
    "\n",
    "# Zastosowanie funkcji dla każdego wiersza\n",
    "data['salary_comparison'] = data['salary_in_usd'].apply(lambda x: compare_to_mean(x, mean_salary))\n",
    "print(data[['job_title', 'salary_in_usd', 'salary_comparison']])\n",
    "# Jupyter automatycznie ogranicza wyświetlanie dużych zestawów danych, aby poprawić czytelność."
   ]
  },
  {
   "cell_type": "markdown",
   "id": "628d0830-51ab-4258-ae35-53855197b49a",
   "metadata": {},
   "source": [
    "#### Analiza wynagrodzeń a poziom doświadczenia"
   ]
  },
  {
   "cell_type": "code",
   "execution_count": 43,
   "id": "ac92cc67-a7cf-4699-82d5-127ccfa99c68",
   "metadata": {},
   "outputs": [
    {
     "name": "stdout",
     "output_type": "stream",
     "text": [
      "Poziom doświadczenia: Mid-level, Średnie wynagrodzenie: 117523.92 USD\n",
      "Poziom doświadczenia: Senior, Średnie wynagrodzenie: 162356.13 USD\n",
      "Poziom doświadczenia: Executive, Średnie wynagrodzenie: 189462.91 USD\n",
      "Poziom doświadczenia: Entry-level, Średnie wynagrodzenie: 88534.78 USD\n"
     ]
    }
   ],
   "source": [
    "# Lista poziomów doświadczenia\n",
    "experience_levels = data['experience_level'].unique()\n",
    "\n",
    "# Obliczanie średnich wynagrodzeń dla każdego poziomu doświadczenia za pomocą pętli\n",
    "for level in experience_levels:\n",
    "    total_salary = 0\n",
    "    count = 0\n",
    "    \n",
    "    # Przejście przez wszystkie wiersze\n",
    "    for i in range(len(data)):\n",
    "        if data['experience_level'][i] == level:\n",
    "            total_salary += data['salary_in_usd'][i]\n",
    "            count += 1\n",
    "    \n",
    "    # Obliczanie średniego wynagrodzenia\n",
    "    average_salary = total_salary / count if count > 0 else 0\n",
    "    print(f'Poziom doświadczenia: {level}, Średnie wynagrodzenie: {average_salary:.2f} USD')\n"
   ]
  },
  {
   "cell_type": "markdown",
   "id": "5b7e476c-bd85-4ddd-b2fb-88f11498a029",
   "metadata": {},
   "source": [
    "#### Wynagrodzenie a lokalizacja firmy"
   ]
  },
  {
   "cell_type": "code",
   "execution_count": 45,
   "id": "fbff8aea-4248-4e65-a6d6-d1ead80ca79b",
   "metadata": {},
   "outputs": [
    {
     "name": "stdout",
     "output_type": "stream",
     "text": [
      "Lokalizacja: Germany, Średnie wynagrodzenie: 97640.64 USD\n",
      "Lokalizacja: United States, Średnie wynagrodzenie: 158586.13 USD\n",
      "Lokalizacja: United Kingdom, Średnie wynagrodzenie: 104920.30 USD\n",
      "Lokalizacja: Canada, Średnie wynagrodzenie: 144743.01 USD\n",
      "Lokalizacja: Spain, Średnie wynagrodzenie: 58084.94 USD\n",
      "Lokalizacja: Ireland, Średnie wynagrodzenie: 110236.88 USD\n",
      "Lokalizacja: South Africa, Średnie wynagrodzenie: 100492.50 USD\n",
      "Lokalizacja: Poland, Średnie wynagrodzenie: 57253.36 USD\n",
      "Lokalizacja: France, Średnie wynagrodzenie: 80700.78 USD\n",
      "Lokalizacja: Czech Republic, Średnie wynagrodzenie: 59999.50 USD\n",
      "Lokalizacja: Netherlands, Średnie wynagrodzenie: 77743.76 USD\n",
      "Lokalizacja: Pakistan, Średnie wynagrodzenie: 38536.17 USD\n",
      "Lokalizacja: Ukraine, Średnie wynagrodzenie: 107571.43 USD\n",
      "Lokalizacja: Lithuania, Średnie wynagrodzenie: 97611.00 USD\n",
      "Lokalizacja: Portugal, Średnie wynagrodzenie: 54054.23 USD\n",
      "Lokalizacja: Australia, Średnie wynagrodzenie: 138639.05 USD\n",
      "Lokalizacja: Uganda, Średnie wynagrodzenie: 36000.00 USD\n",
      "Lokalizacja: Colombia, Średnie wynagrodzenie: 79115.25 USD\n",
      "Lokalizacja: Italy, Średnie wynagrodzenie: 55388.85 USD\n",
      "Lokalizacja: Slovenia, Średnie wynagrodzenie: 56186.33 USD\n",
      "Lokalizacja: Romania, Średnie wynagrodzenie: 48922.50 USD\n",
      "Lokalizacja: Greece, Średnie wynagrodzenie: 55545.88 USD\n",
      "Lokalizacja: India, Średnie wynagrodzenie: 73298.50 USD\n",
      "Lokalizacja: Latvia, Średnie wynagrodzenie: 58626.33 USD\n",
      "Lokalizacja: Mauritius, Średnie wynagrodzenie: 100000.00 USD\n",
      "Lokalizacja: Armenia, Średnie wynagrodzenie: 33500.00 USD\n",
      "Lokalizacja: Croatia, Średnie wynagrodzenie: 66294.50 USD\n",
      "Lokalizacja: Thailand, Średnie wynagrodzenie: 37500.00 USD\n",
      "Lokalizacja: South Korea, Średnie wynagrodzenie: 47000.00 USD\n",
      "Lokalizacja: Estonia, Średnie wynagrodzenie: 44817.78 USD\n",
      "Lokalizacja: Turkey, Średnie wynagrodzenie: 35213.14 USD\n",
      "Lokalizacja: Philippines, Średnie wynagrodzenie: 59682.00 USD\n",
      "Lokalizacja: Brazil, Średnie wynagrodzenie: 66088.16 USD\n",
      "Lokalizacja: Qatar, Średnie wynagrodzenie: 300000.00 USD\n",
      "Lokalizacja: Russia, Średnie wynagrodzenie: 79242.50 USD\n",
      "Lokalizacja: Kenya, Średnie wynagrodzenie: 65000.00 USD\n",
      "Lokalizacja: Tunisia, Średnie wynagrodzenie: 90234.50 USD\n",
      "Lokalizacja: Ghana, Średnie wynagrodzenie: 34250.00 USD\n",
      "Lokalizacja: Belgium, Średnie wynagrodzenie: 95565.83 USD\n",
      "Lokalizacja: Switzerland, Średnie wynagrodzenie: 101659.40 USD\n",
      "Lokalizacja: Andorra, Średnie wynagrodzenie: 50745.00 USD\n",
      "Lokalizacja: Ecuador, Średnie wynagrodzenie: 16000.00 USD\n",
      "Lokalizacja: Peru, Średnie wynagrodzenie: 27000.00 USD\n",
      "Lokalizacja: Mexico, Średnie wynagrodzenie: 105555.56 USD\n",
      "Lokalizacja: Moldova, Średnie wynagrodzenie: 66500.00 USD\n",
      "Lokalizacja: Nigeria, Średnie wynagrodzenie: 55545.45 USD\n",
      "Lokalizacja: Saudi Arabia, Średnie wynagrodzenie: 134999.00 USD\n",
      "Lokalizacja: Argentina, Średnie wynagrodzenie: 56444.44 USD\n",
      "Lokalizacja: Egypt, Średnie wynagrodzenie: 46400.00 USD\n",
      "Lokalizacja: Uzbekistan, Średnie wynagrodzenie: 82000.00 USD\n",
      "Lokalizacja: Georgia, Średnie wynagrodzenie: 57000.00 USD\n",
      "Lokalizacja: Central African Republic, Średnie wynagrodzenie: 49216.00 USD\n",
      "Lokalizacja: Finland, Średnie wynagrodzenie: 68961.50 USD\n",
      "Lokalizacja: Austria, Średnie wynagrodzenie: 71187.33 USD\n",
      "Lokalizacja: Singapore, Średnie wynagrodzenie: 83092.60 USD\n",
      "Lokalizacja: Sweden, Średnie wynagrodzenie: 105000.00 USD\n",
      "Lokalizacja: Kuwait, Średnie wynagrodzenie: 50000.00 USD\n",
      "Lokalizacja: Cyprus, Średnie wynagrodzenie: 63701.00 USD\n",
      "Lokalizacja: Bosnia and Herzegovina, Średnie wynagrodzenie: 120000.00 USD\n",
      "Lokalizacja: Iran, Średnie wynagrodzenie: 100000.00 USD\n",
      "Lokalizacja: American Samoa, Średnie wynagrodzenie: 45555.00 USD\n",
      "Lokalizacja: China, Średnie wynagrodzenie: 125404.00 USD\n",
      "Lokalizacja: Costa Rica, Średnie wynagrodzenie: 20000.00 USD\n",
      "Lokalizacja: Chile, Średnie wynagrodzenie: 105000.00 USD\n",
      "Lokalizacja: Puerto Rico, Średnie wynagrodzenie: 166000.00 USD\n",
      "Lokalizacja: Denmark, Średnie wynagrodzenie: 31192.67 USD\n",
      "Lokalizacja: Bolivia, Średnie wynagrodzenie: 75000.00 USD\n",
      "Lokalizacja: Dominican Republic, Średnie wynagrodzenie: 110000.00 USD\n",
      "Lokalizacja: Indonesia, Średnie wynagrodzenie: 15000.00 USD\n",
      "Lokalizacja: United Arab Emirates, Średnie wynagrodzenie: 100000.00 USD\n",
      "Lokalizacja: Malaysia, Średnie wynagrodzenie: 200000.00 USD\n",
      "Lokalizacja: Japan, Średnie wynagrodzenie: 135500.00 USD\n",
      "Lokalizacja: Honduras, Średnie wynagrodzenie: 20000.00 USD\n",
      "Lokalizacja: Algeria, Średnie wynagrodzenie: 100000.00 USD\n",
      "Lokalizacja: Vietnam, Średnie wynagrodzenie: 44200.00 USD\n",
      "Lokalizacja: Iraq, Średnie wynagrodzenie: 100000.00 USD\n",
      "Lokalizacja: Bulgaria, Średnie wynagrodzenie: 80000.00 USD\n",
      "Lokalizacja: Jersey, Średnie wynagrodzenie: 100000.00 USD\n",
      "Lokalizacja: Serbia, Średnie wynagrodzenie: 25532.00 USD\n",
      "Lokalizacja: New Zealand, Średnie wynagrodzenie: 125000.00 USD\n",
      "Lokalizacja: Hong Kong, Średnie wynagrodzenie: 66022.00 USD\n",
      "Lokalizacja: Luxembourg, Średnie wynagrodzenie: 59102.00 USD\n",
      "Lokalizacja: Malta, Średnie wynagrodzenie: 28369.00 USD\n"
     ]
    }
   ],
   "source": [
    "# Lista unikalnych lokalizacji pracowników\n",
    "locations = data['employee_residence'].unique()\n",
    "\n",
    "# Obliczanie średnich wynagrodzeń dla każdej lokalizacji za pomocą pętli\n",
    "for location in locations:\n",
    "    total_salary = 0\n",
    "    count = 0\n",
    "    \n",
    "    # Przejście przez wszystkie wiersze\n",
    "    for i in range(len(data)):\n",
    "        if data['employee_residence'][i] == location:\n",
    "            total_salary += data['salary_in_usd'][i]\n",
    "            count += 1\n",
    "    \n",
    "    # Obliczanie średniego wynagrodzenia\n",
    "    average_salary = total_salary / count if count > 0 else 0\n",
    "    print(f'Lokalizacja: {location}, Średnie wynagrodzenie: {average_salary:.2f} USD')\n"
   ]
  },
  {
   "cell_type": "markdown",
   "id": "6a0b5832-844d-4387-8102-0342ad4b9ace",
   "metadata": {},
   "source": [
    "#### Wynagrodzenia w zależności od wielkości firmy"
   ]
  },
  {
   "cell_type": "code",
   "execution_count": 47,
   "id": "7b85aeb7-8fe8-470d-9e31-97761baeb799",
   "metadata": {},
   "outputs": [
    {
     "name": "stdout",
     "output_type": "stream",
     "text": [
      "Wielkość firmy: L, Średnie wynagrodzenie: 141097.16 USD\n",
      "Wielkość firmy: M, Średnie wynagrodzenie: 152237.09 USD\n",
      "Wielkość firmy: S, Średnie wynagrodzenie: 90642.60 USD\n"
     ]
    }
   ],
   "source": [
    "# Lista unikalnych wielkości firm\n",
    "company_sizes = data['company_size'].unique()\n",
    "\n",
    "# Obliczanie średnich wynagrodzeń dla każdej wielkości firmy\n",
    "for size in company_sizes:\n",
    "    total_salary = 0\n",
    "    count = 0\n",
    "    \n",
    "    # Przejście przez wszystkie wiersze\n",
    "    for i in range(len(data)):\n",
    "        if data['company_size'][i] == size:\n",
    "            total_salary += data['salary_in_usd'][i]\n",
    "            count += 1\n",
    "    \n",
    "    # Obliczanie średniego wynagrodzenia\n",
    "    average_salary = total_salary / count if count > 0 else 0\n",
    "    print(f'Wielkość firmy: {size}, Średnie wynagrodzenie: {average_salary:.2f} USD')\n"
   ]
  },
  {
   "cell_type": "markdown",
   "id": "648045dd-383d-448e-bd98-478c78ef5e2d",
   "metadata": {},
   "source": [
    "#### Tworzenie funkcji do porównania wynagrodzeń"
   ]
  },
  {
   "cell_type": "code",
   "execution_count": 61,
   "id": "9a7df955-fd85-4aff-83e5-639c6f7bd997",
   "metadata": {},
   "outputs": [
    {
     "name": "stdout",
     "output_type": "stream",
     "text": [
      "Wiersz 1: Wynagrodzenie: 95012 USD - Poniżej średniej\n",
      "Wiersz 2: Wynagrodzenie: 186000 USD - Powyżej średniej\n",
      "Wiersz 3: Wynagrodzenie: 81800 USD - Poniżej średniej\n",
      "Wiersz 4: Wynagrodzenie: 212000 USD - Powyżej średniej\n",
      "Wiersz 5: Wynagrodzenie: 93300 USD - Poniżej średniej\n",
      "Wiersz 6: Wynagrodzenie: 130000 USD - Poniżej średniej\n",
      "Wiersz 7: Wynagrodzenie: 100000 USD - Poniżej średniej\n",
      "Wiersz 8: Wynagrodzenie: 224400 USD - Powyżej średniej\n",
      "Wiersz 9: Wynagrodzenie: 138700 USD - Poniżej średniej\n",
      "Wiersz 10: Wynagrodzenie: 210000 USD - Powyżej średniej\n"
     ]
    }
   ],
   "source": [
    "# Funkcja sprawdzająca, czy wynagrodzenie jest powyżej czy poniżej średniej\n",
    "def compare_to_mean(salary, mean_salary):\n",
    "    return \"Powyżej średniej\" if salary > mean_salary else \"Poniżej średniej\"\n",
    "\n",
    "# Obliczenie średniego wynagrodzenia\n",
    "mean_salary = data['salary_in_usd'].mean()\n",
    "\n",
    "# Zastosowanie funkcji do każdego wiersza\n",
    "for i in range(10):\n",
    "    salary = data['salary_in_usd'][i]\n",
    "    comparison = compare_to_mean(salary, mean_salary)\n",
    "    print(f'Wiersz {i+1}: Wynagrodzenie: {salary} USD - {comparison}')\n"
   ]
  },
  {
   "cell_type": "code",
   "execution_count": 50,
   "id": "41dc48e0-a5ec-4785-b164-bf65fd855493",
   "metadata": {},
   "outputs": [
    {
     "data": {
      "image/png": "[encoded data removed]",
      "text/plain": [
       "<Figure size 640x480 with 1 Axes>"
      ]
     },
     "metadata": {},
     "output_type": "display_data"
    },
    {
     "data": {
      "image/png": "[encoded data removed]",
      "text/plain": [
       "<Figure size 640x480 with 1 Axes>"
      ]
     },
     "metadata": {},
     "output_type": "display_data"
    }
   ],
   "source": [
    "# Tworzenie histogramu wynagrodzeń\n",
    "plt.hist(data['salary_in_usd'], bins=10, color='blue', alpha=0.7)\n",
    "plt.title('Histogram wynagrodzeń w branży danych')\n",
    "plt.xlabel('Wynagrodzenie w USD')\n",
    "plt.ylabel('Liczba pracowników')\n",
    "plt.show()\n",
    "\n",
    "# Tworzenie wykresu słupkowego dla liczebności pracowników na różnych poziomach doświadczenia\n",
    "experience_counts = data['experience_level'].value_counts()\n",
    "plt.bar(experience_counts.index, experience_counts.values, color='green')\n",
    "plt.title('Liczebność pracowników na różnych poziomach doświadczenia')\n",
    "plt.xlabel('Poziom doświadczenia')\n",
    "plt.ylabel('Liczba pracowników')\n",
    "plt.show()\n"
   ]
  },
  {
   "cell_type": "raw",
   "id": "61bdd5a9-8055-4ce7-b62e-75368761ea95",
   "metadata": {},
   "source": [
    "1. Większość wynagrodzeń przekracza średnią\n",
    "Na podstawie przeglądu kolumny salary_comparison, wiele rekordów pokazuje wynagrodzenia powyżej średniej. To sugeruje, że branża danych jest dobrze wynagradzana, z wysokimi zarobkami w przypadku wielu stanowisk, takich jak \"Data Scientist\" czy \"Data Architect\".\n",
    "Jednak nadal istnieją stanowiska, które mają wynagrodzenia poniżej średniej, co może wynikać z poziomu doświadczenia, lokalizacji firmy, czy innych czynników.\n",
    "\n",
    "2. Różnice wynagrodzeń między stanowiskami\n",
    "W analizie widzimy różne stanowiska, takie jak \"Data Scientist\", \"Data Architect\", \"Data DevOps Engineer\", z różnymi poziomami wynagrodzeń. Stanowiska te różnią się pod względem odpowiedzialności i wymagań, co przekłada się na wynagrodzenie.\n",
    "Data Scientist i Data Architect często pojawiają się jako stanowiska o wyższych wynagrodzeniach, przekraczających średnią, co może sugerować, że te role są bardziej specjalistyczne i wymagają bardziej zaawansowanych umiejętności technicznych.\n",
    "\n",
    "3. Możliwe zależności między doświadczeniem a wynagrodzeniem\n",
    "W analizie widzimy różne poziomy stanowisk, ale nie widzimy bezpośredniej informacji o poziomie doświadczenia w wyświetlonych rekordach. Jeśli połączymy to z innymi danymi dotyczącymi poziomu doświadczenia, możemy zauważyć, że osoby z wyższym doświadczeniem (np. seniorzy) prawdopodobnie zarabiają więcej.\n",
    "\n",
    "4. Duże zróżnicowanie wynagrodzeń\n",
    "Istnieje znaczące zróżnicowanie wynagrodzeń, od wartości takich jak $81,800 USD (dla Data Architecta) do wynagrodzeń na poziomie $212,000 USD (dla Data Scientist). To może sugerować, że branża ma szeroką skalę wynagrodzeń, zależną od różnych czynników, takich jak lokalizacja firmy, rodzaj stanowiska, poziom doświadczenia czy specyfika zadań.\n",
    "\n",
    "5. Możliwość dalszej analizy z użyciem innych zmiennych\n",
    "Aby bardziej szczegółowo przeanalizować wynagrodzenia, warto uwzględnić inne kolumny, takie jak doświadczenie zawodowe (experience_level), lokalizacja (company_location), czy rodzaj zatrudnienia (employment_type). Mogłoby to dać pełniejszy obraz tego, jak różne czynniki wpływają na wynagrodzenie.\n",
    "\n",
    "6. Kontekst międzynarodowy i waluty\n",
    "Wynagrodzenia są przedstawiane w kolumnie salary_in_usd, co oznacza, że wszystkie wartości są przeliczone na dolary. Warto jednak pamiętać, że różne stanowiska mogą mieć różne wynagrodzenia w zależności od lokalizacji i oryginalnej waluty, co mogłoby stanowić dodatkowy temat do analizy.\n",
    "Potencjalne wnioski do dalszej analizy:\n",
    "Wpływ lokalizacji na wynagrodzenie: Czy wynagrodzenia w różnych krajach lub regionach są znacząco różne? Można to zbadać, grupując dane według lokalizacji.\n",
    "Rola doświadczenia: Jak poziom doświadczenia wpływa na wynagrodzenie na różnych stanowiskach?\n",
    "Formy zatrudnienia: Czy pracownicy zdalni zarabiają więcej niż osoby pracujące stacjonarnie? Można to sprawdzić, analizując kolumnę employment_type."
   ]
  }
 ],
 "metadata": {
  "kernelspec": {
   "display_name": "Python 3 (ipykernel)",
   "language": "python",
   "name": "python3"
  },
  "language_info": {
   "codemirror_mode": {
    "name": "ipython",
    "version": 3
   },
   "file_extension": ".py",
   "mimetype": "text/x-python",
   "name": "python",
   "nbconvert_exporter": "python",
   "pygments_lexer": "ipython3",
   "version": "3.11.5"
  }
 },
 "nbformat": 4,
 "nbformat_minor": 5
}
