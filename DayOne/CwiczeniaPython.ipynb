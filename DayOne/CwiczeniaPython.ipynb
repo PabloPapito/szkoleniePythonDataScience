{
 "cells": [
  {
   "cell_type": "markdown",
   "id": "7918ad35",
   "metadata": {},
   "source": [
    "# Ćwiczenia Python"
   ]
  },
  {
   "cell_type": "markdown",
   "id": "01550018",
   "metadata": {},
   "source": [
    "#### 1. Liczby całkowite (int) i liczby zmiennoprzecinkowe (float)"
   ]
  },
  {
   "cell_type": "code",
   "execution_count": 4,
   "id": "3f6c3519",
   "metadata": {},
   "outputs": [
    {
     "name": "stdout",
     "output_type": "stream",
     "text": [
      "Suma: 8.14\n",
      "Różnica: 1.8599999999999999\n",
      "Iloczyn: 15.700000000000001\n",
      "Iloraz: 1.592356687898089\n"
     ]
    }
   ],
   "source": [
    "# Ćwiczenie 1\n",
    "liczba_calkowita = 5\n",
    "liczba_zmiennoprzecinkowa = 3.14\n",
    "\n",
    "# Operacje matematyczne\n",
    "suma = liczba_calkowita + liczba_zmiennoprzecinkowa\n",
    "roznica = liczba_calkowita - liczba_zmiennoprzecinkowa\n",
    "iloczyn = liczba_calkowita * liczba_zmiennoprzecinkowa\n",
    "iloraz = liczba_calkowita / liczba_zmiennoprzecinkowa\n",
    "\n",
    "print(\"Suma:\", suma)\n",
    "print(\"Różnica:\", roznica)\n",
    "print(\"Iloczyn:\", iloczyn)\n",
    "print(\"Iloraz:\", iloraz)"
   ]
  },
  {
   "cell_type": "markdown",
   "id": "e1340cf2",
   "metadata": {},
   "source": [
    "#### 2. Napisy (str)"
   ]
  },
  {
   "cell_type": "code",
   "execution_count": 5,
   "id": "07b07b71",
   "metadata": {},
   "outputs": [
    {
     "name": "stdout",
     "output_type": "stream",
     "text": [
      "Pierwszy znak: H\n",
      "Fragment: Python\n",
      "Połączony napis: Hello, Python! Welcome!\n"
     ]
    }
   ],
   "source": [
    "# Ćwiczenie 2\n",
    "napis = \"Hello, Python!\"\n",
    "\n",
    "# Operacje na napisach\n",
    "pierwszy_znak = napis[0]\n",
    "fragment = napis[7:13]\n",
    "polaczony_napis = napis + \" Welcome!\"\n",
    "\n",
    "print(\"Pierwszy znak:\", pierwszy_znak)\n",
    "print(\"Fragment:\", fragment)\n",
    "print(\"Połączony napis:\", polaczony_napis)"
   ]
  },
  {
   "cell_type": "markdown",
   "id": "342ba133",
   "metadata": {},
   "source": [
    "#### 3. Listy"
   ]
  },
  {
   "cell_type": "code",
   "execution_count": 6,
   "id": "24f08d7d",
   "metadata": {},
   "outputs": [
    {
     "name": "stdout",
     "output_type": "stream",
     "text": [
      "Lista po dodaniu: [1, 3.14, 'Data Science', 'New Element']\n",
      "Element o indeksie 2: Data Science\n"
     ]
    }
   ],
   "source": [
    "# Ćwiczenie 3\n",
    "lista = [1, \"Python\", 3.14, \"Data Science\"]\n",
    "\n",
    "# Operacje na listach\n",
    "lista.append(\"New Element\")\n",
    "lista.remove(\"Python\")\n",
    "element = lista[2]\n",
    "\n",
    "print(\"Lista po dodaniu:\", lista)\n",
    "print(\"Element o indeksie 2:\", element)"
   ]
  },
  {
   "cell_type": "markdown",
   "id": "70cd29f2",
   "metadata": {},
   "source": [
    "#### 4. Krotki (tuple)"
   ]
  },
  {
   "cell_type": "code",
   "execution_count": 7,
   "id": "6d8b8e58",
   "metadata": {},
   "outputs": [
    {
     "name": "stdout",
     "output_type": "stream",
     "text": [
      "Błąd: 'tuple' object does not support item assignment\n"
     ]
    }
   ],
   "source": [
    "# Ćwiczenie 4\n",
    "krotka = (10, \"Java\", 2.71)\n",
    "\n",
    "# Próba zmiany wartości (spowoduje błąd)\n",
    "try:\n",
    "    krotka[0] = 20\n",
    "except TypeError as e:\n",
    "    print(\"Błąd:\", e)"
   ]
  },
  {
   "cell_type": "markdown",
   "id": "4d93a9d5",
   "metadata": {},
   "source": [
    "#### 5. Słowniki (dict)"
   ]
  },
  {
   "cell_type": "code",
   "execution_count": 8,
   "id": "cf802f1c",
   "metadata": {},
   "outputs": [
    {
     "name": "stdout",
     "output_type": "stream",
     "text": [
      "Słownik po zmianach: {'imie': 'Anna', 'wiek': 23, 'ocena': 'A', 'kierunek': 'Informatyka'}\n"
     ]
    }
   ],
   "source": [
    "# Ćwiczenie 5\n",
    "student = {'imie': 'Anna', 'wiek': 22, 'ocena': 'A'}\n",
    "\n",
    "# Dodanie nowego klucza\n",
    "student['kierunek'] = 'Informatyka'\n",
    "\n",
    "# Zmiana wartości klucza 'wiek'\n",
    "student['wiek'] = 23\n",
    "\n",
    "print(\"Słownik po zmianach:\", student)"
   ]
  },
  {
   "cell_type": "markdown",
   "id": "0e2d944a",
   "metadata": {},
   "source": [
    "#### 6. List Comprehension"
   ]
  },
  {
   "cell_type": "code",
   "execution_count": 1,
   "id": "dea9b183",
   "metadata": {},
   "outputs": [
    {
     "name": "stdout",
     "output_type": "stream",
     "text": [
      "Oryginalne liczby: [1, 2, 3, 4, 5, 6, 7, 8, 9, 10]\n",
      "Kwadraty: [1, 4, 9, 16, 25, 36, 49, 64, 81, 100]\n"
     ]
    }
   ],
   "source": [
    "# Ćwiczenie 6\n",
    "liczby = [1, 2, 3, 4, 5, 6, 7, 8, 9, 10]\n",
    "\n",
    "# Utwórz listę kwadratów używając List Comprehension\n",
    "kwadraty = [x**2 for x in liczby]\n",
    "\n",
    "print(\"Oryginalne liczby:\", liczby)\n",
    "print(\"Kwadraty:\", kwadraty)"
   ]
  },
  {
   "cell_type": "markdown",
   "id": "e1c0c715",
   "metadata": {},
   "source": [
    "#### 7. Funkcje Matematyczne i Tekstowe"
   ]
  },
  {
   "cell_type": "code",
   "execution_count": 2,
   "id": "983d719d",
   "metadata": {},
   "outputs": [
    {
     "name": "stdout",
     "output_type": "stream",
     "text": [
      "Wynik dodawania: 12\n"
     ]
    }
   ],
   "source": [
    "# Ćwiczenie 7\n",
    "def dodaj_liczby(a, b):\n",
    "    return a + b\n",
    "\n",
    "# Użycie funkcji do dodawania dwóch liczb\n",
    "wynik_dodawania = dodaj_liczby(8, 4)\n",
    "\n",
    "print(\"Wynik dodawania:\", wynik_dodawania)"
   ]
  },
  {
   "cell_type": "markdown",
   "id": "75cce9c2",
   "metadata": {},
   "source": [
    "#### 8. Iteracja i warunki"
   ]
  },
  {
   "cell_type": "code",
   "execution_count": 3,
   "id": "77239a35",
   "metadata": {},
   "outputs": [
    {
     "name": "stdout",
     "output_type": "stream",
     "text": [
      "Parzyste liczby:\n",
      "2\n",
      "4\n",
      "6\n",
      "8\n",
      "10\n"
     ]
    }
   ],
   "source": [
    "# Ćwiczenie 8\n",
    "liczby = [1, 2, 3, 4, 5, 6, 7, 8, 9, 10]\n",
    "\n",
    "# Iteracja przez listę i wyświetlenie parzystych liczb\n",
    "print(\"Parzyste liczby:\")\n",
    "for liczba in liczby:\n",
    "    if liczba % 2 == 0:\n",
    "        print(liczba)"
   ]
  },
  {
   "cell_type": "markdown",
   "id": "f4045425",
   "metadata": {},
   "source": [
    "#### 9. Pętla While"
   ]
  },
  {
   "cell_type": "code",
   "execution_count": 7,
   "id": "19970bff",
   "metadata": {},
   "outputs": [
    {
     "name": "stdout",
     "output_type": "stream",
     "text": [
      "Suma przekroczyła 100 po dodaniu 14 liczb.\n"
     ]
    }
   ],
   "source": [
    "# Ćwiczenie 9\n",
    "suma = 0\n",
    "licznik = 1\n",
    "\n",
    "while suma <= 100:\n",
    "    suma += licznik # Dodajemy aktualną wartość licznika do sumy.\n",
    "    licznik += 1 # Zwiększamy wartość licznika o 1.\n",
    "\n",
    "print(\"Suma przekroczyła 100 po dodaniu\", licznik-1, \"liczb.\")\n",
    "\n",
    "# Iteracja 1: suma = 1, licznik = 2\n",
    "# Iteracja 2: suma = 3, licznik = 3\n",
    "# Iteracja 3: suma = 6, licznik = 4"
   ]
  },
  {
   "cell_type": "markdown",
   "id": "3c852ce2",
   "metadata": {},
   "source": [
    "#### 10. Slicing napisów"
   ]
  },
  {
   "cell_type": "code",
   "execution_count": 8,
   "id": "59930d34",
   "metadata": {},
   "outputs": [
    {
     "name": "stdout",
     "output_type": "stream",
     "text": [
      "Oryginalne zdanie: To jest przykładowe zdanie do ćwiczenia slicingu\n",
      "Co trzeci znak:  spyawzn  iealiu\n"
     ]
    }
   ],
   "source": [
    "# Ćwiczenie 10\n",
    "zdanie = \"To jest przykładowe zdanie do ćwiczenia slicingu\"\n",
    "\n",
    "# Wyświetl co trzeci znak w napisie\n",
    "co_trzeci_znak = zdanie[2::3]\n",
    "\n",
    "print(\"Oryginalne zdanie:\", zdanie)\n",
    "print(\"Co trzeci znak:\", co_trzeci_znak)"
   ]
  },
  {
   "cell_type": "markdown",
   "id": "82517fbb",
   "metadata": {},
   "source": [
    "#### 11. Funkcje Anonimowe (Lambda) i List Comprehension"
   ]
  },
  {
   "cell_type": "code",
   "execution_count": 9,
   "id": "4cd3ecf4",
   "metadata": {},
   "outputs": [
    {
     "name": "stdout",
     "output_type": "stream",
     "text": [
      "Kwadraty liczb od 1 do 5: [1, 4, 9, 16, 25]\n"
     ]
    }
   ],
   "source": [
    "# Ćwiczenie 11\n",
    "kwadrat = lambda x: x**2\n",
    "\n",
    "# Użyj List Comprehension do utworzenia listy kwadratów\n",
    "kwadraty_list = [kwadrat(x) for x in range(1, 6)]\n",
    "\n",
    "print(\"Kwadraty liczb od 1 do 5:\", kwadraty_list)"
   ]
  },
  {
   "cell_type": "markdown",
   "id": "2140ee96",
   "metadata": {},
   "source": [
    "#### 12. Instrukcje warunkowe i funkcje tekstowe"
   ]
  },
  {
   "cell_type": "code",
   "execution_count": 10,
   "id": "93702f41",
   "metadata": {},
   "outputs": [
    {
     "name": "stdout",
     "output_type": "stream",
     "text": [
      "Nie zaczyna się od A\n",
      "Zaczyna się od A\n"
     ]
    }
   ],
   "source": [
    "# Ćwiczenie 12\n",
    "def sprawdzaczaczynasieodA(napis):\n",
    "    if napis.startswith('A'):\n",
    "        return \"Zaczyna się od A\"\n",
    "    else:\n",
    "        return \"Nie zaczyna się od A\"\n",
    "\n",
    "# Przykłady użycia funkcji\n",
    "print(sprawdzaczaczynasieodA(\"Python\"))\n",
    "print(sprawdzaczaczynasieodA(\"Anakonda\"))"
   ]
  },
  {
   "cell_type": "markdown",
   "id": "e3d01c6e",
   "metadata": {},
   "source": [
    "#### 13. Iteracje i operacje na liście"
   ]
  },
  {
   "cell_type": "code",
   "execution_count": 11,
   "id": "e99ca1d0",
   "metadata": {},
   "outputs": [
    {
     "name": "stdout",
     "output_type": "stream",
     "text": [
      "Długość słowa Python: 6\n",
      "Długość słowa Data: 4\n",
      "Długość słowa Analysis: 8\n",
      "Długość słowa Machine: 7\n",
      "Długość słowa Learning: 8\n"
     ]
    }
   ],
   "source": [
    "# Ćwiczenie 13\n",
    "slowa = [\"Python\", \"Data\", \"Analysis\", \"Machine\", \"Learning\"]\n",
    "\n",
    "# Użyj pętli for do wyświetlenia długości każdego słowa\n",
    "for slowo in slowa:\n",
    "    print(f\"Długość słowa {slowo}: {len(slowo)}\")"
   ]
  },
  {
   "cell_type": "markdown",
   "id": "d2acbc70",
   "metadata": {},
   "source": [
    "#### 14. Praca z datą i czasem"
   ]
  },
  {
   "cell_type": "code",
   "execution_count": 12,
   "id": "ebeb9827",
   "metadata": {},
   "outputs": [
    {
     "name": "stdout",
     "output_type": "stream",
     "text": [
      "Aktualna data i czas: 2024-01-25 21:54:18\n"
     ]
    }
   ],
   "source": [
    "# Ćwiczenie 14\n",
    "from datetime import datetime\n",
    "\n",
    "# Uzyskaj aktualną datę i godzinę\n",
    "aktualna_data_i_czas = datetime.now()\n",
    "\n",
    "# Przekształć datę do postaci napisu i wyświetl\n",
    "data_napis = aktualna_data_i_czas.strftime(\"%Y-%m-%d %H:%M:%S\")\n",
    "\n",
    "print(\"Aktualna data i czas:\", data_napis)"
   ]
  },
  {
   "cell_type": "markdown",
   "id": "7375842d",
   "metadata": {},
   "source": [
    "#### 15. Pętla While i praca z listami"
   ]
  },
  {
   "cell_type": "code",
   "execution_count": 13,
   "id": "7ffe0d8f",
   "metadata": {},
   "outputs": [
    {
     "name": "stdout",
     "output_type": "stream",
     "text": [
      "Potęgi liczby 2 do 1000: [1, 2, 4, 8, 16, 32, 64, 128, 256, 512]\n"
     ]
    }
   ],
   "source": [
    "# Ćwiczenie 15\n",
    "potega = 1\n",
    "potegi_dwojki = []\n",
    "\n",
    "while potega <= 1000:\n",
    "    potegi_dwojki.append(potega)\n",
    "    potega *= 2\n",
    "\n",
    "print(\"Potęgi liczby 2 do 1000:\", potegi_dwojki)"
   ]
  },
  {
   "cell_type": "markdown",
   "id": "3c643630",
   "metadata": {},
   "source": [
    "#### 16. Operacje na napisach"
   ]
  },
  {
   "cell_type": "code",
   "execution_count": 14,
   "id": "ab1a62fd",
   "metadata": {},
   "outputs": [
    {
     "name": "stdout",
     "output_type": "stream",
     "text": [
      "Oryginalny napis: Python\n",
      "Napis z małymi literami: python\n",
      "Napis z dużymi literami: PYTHON\n",
      "Odwrocony napis: nohtyP\n"
     ]
    }
   ],
   "source": [
    "# Ćwiczenie 16\n",
    "napis = \"Python\"\n",
    "\n",
    "# Różne operacje na napisach\n",
    "napis_male_litery = napis.lower()\n",
    "napis_duze_litery = napis.upper()\n",
    "odwrocony_napis = napis[::-1]\n",
    "\n",
    "print(\"Oryginalny napis:\", napis)\n",
    "print(\"Napis z małymi literami:\", napis_male_litery)\n",
    "print(\"Napis z dużymi literami:\", napis_duze_litery)\n",
    "print(\"Odwrocony napis:\", odwrocony_napis)"
   ]
  },
  {
   "cell_type": "markdown",
   "id": "4f00d00b",
   "metadata": {},
   "source": [
    "#### 17. Wybór elementów z listy"
   ]
  },
  {
   "cell_type": "code",
   "execution_count": 15,
   "id": "23b32041",
   "metadata": {},
   "outputs": [
    {
     "name": "stdout",
     "output_type": "stream",
     "text": [
      "Oryginalna lista: [10, 20, 30, 40, 50, 60]\n",
      "Nowa lista (liczby większe niż 30): [40, 50, 60]\n"
     ]
    }
   ],
   "source": [
    "# Ćwiczenie 17\n",
    "liczby = [10, 20, 30, 40, 50, 60]\n",
    "\n",
    "# Utwórz nową listę zawierającą liczby większe niż 30\n",
    "nowa_lista = [x for x in liczby if x > 30]\n",
    "\n",
    "print(\"Oryginalna lista:\", liczby)\n",
    "print(\"Nowa lista (liczby większe niż 30):\", nowa_lista)"
   ]
  },
  {
   "cell_type": "markdown",
   "id": "6d3e7f96",
   "metadata": {},
   "source": [
    "#### 18. Praca z listami i słownikami"
   ]
  },
  {
   "cell_type": "code",
   "execution_count": 16,
   "id": "eaad047e",
   "metadata": {},
   "outputs": [
    {
     "name": "stdout",
     "output_type": "stream",
     "text": [
      "Lista osób: [{'imie': 'Anna', 'wiek': 25, 'zawod': 'Programista'}, {'imie': 'Jan', 'wiek': 30, 'zawod': 'Analityk'}, {'imie': 'Ewa', 'wiek': 28, 'zawod': 'Projektant'}]\n",
      "Imiona osób: ['Anna', 'Jan', 'Ewa']\n"
     ]
    }
   ],
   "source": [
    "# Ćwiczenie 18\n",
    "osoby = [\n",
    "    {'imie': 'Anna', 'wiek': 25, 'zawod': 'Programista'},\n",
    "    {'imie': 'Jan', 'wiek': 30, 'zawod': 'Analityk'},\n",
    "    {'imie': 'Ewa', 'wiek': 28, 'zawod': 'Projektant'}\n",
    "]\n",
    "\n",
    "# Utwórz listę zawierającą imiona osób\n",
    "imiona_osob = [osoba['imie'] for osoba in osoby]\n",
    "\n",
    "print(\"Lista osób:\", osoby)\n",
    "print(\"Imiona osób:\", imiona_osob)"
   ]
  },
  {
   "cell_type": "markdown",
   "id": "451308d4",
   "metadata": {},
   "source": [
    "#### 19. Funkcje Anonimowe (Lambda) i Sortowanie"
   ]
  },
  {
   "cell_type": "code",
   "execution_count": 17,
   "id": "d8d4d001",
   "metadata": {},
   "outputs": [
    {
     "name": "stdout",
     "output_type": "stream",
     "text": [
      "Oryginalna lista: [4, 2, 7, 1, 9, 5]\n",
      "Posortowana lista: [1, 2, 4, 5, 7, 9]\n"
     ]
    }
   ],
   "source": [
    "# Ćwiczenie 19\n",
    "liczby = [4, 2, 7, 1, 9, 5]\n",
    "\n",
    "# Posortuj listę rosnąco za pomocą funkcji sorted i funkcji anonimowej (lambda)\n",
    "posortowane_liczby = sorted(liczby, key=lambda x: x)\n",
    "\n",
    "print(\"Oryginalna lista:\", liczby)\n",
    "print(\"Posortowana lista:\", posortowane_liczby)"
   ]
  },
  {
   "cell_type": "markdown",
   "id": "0d2940d3",
   "metadata": {},
   "source": [
    "#### 20. Praca z Tuple i Slicing"
   ]
  },
  {
   "cell_type": "code",
   "execution_count": 18,
   "id": "99dc4796",
   "metadata": {},
   "outputs": [
    {
     "name": "stdout",
     "output_type": "stream",
     "text": [
      "Oryginalna krotka: (10, 20, 30, 40, 50, 60)\n",
      "Nowa krotka: (20, 30, 40)\n"
     ]
    }
   ],
   "source": [
    "# Ćwiczenie 20\n",
    "krotka = (10, 20, 30, 40, 50, 60)\n",
    "\n",
    "# Użyj slicingu, aby utworzyć nową krotkę\n",
    "nowa_krotka = krotka[1:4]\n",
    "\n",
    "print(\"Oryginalna krotka:\", krotka)\n",
    "print(\"Nowa krotka:\", nowa_krotka)"
   ]
  },
  {
   "cell_type": "markdown",
   "id": "4480a8b2",
   "metadata": {},
   "source": [
    "#### 21. Grupowanie i Przetwarzanie Listy Słowników"
   ]
  },
  {
   "cell_type": "code",
   "execution_count": 19,
   "id": "e1d9f685",
   "metadata": {},
   "outputs": [
    {
     "name": "stdout",
     "output_type": "stream",
     "text": [
      "Lista produktów: [{'nazwa': 'Laptop', 'cena': 1500, 'ilosc': 5}, {'nazwa': 'Smartfon', 'cena': 800, 'ilosc': 10}, {'nazwa': 'Kamera', 'cena': 120, 'ilosc': 3}, {'nazwa': 'Słuchawki', 'cena': 50, 'ilosc': 8}]\n",
      "Tanie produkty: [{'nazwa': 'Słuchawki', 'cena': 50, 'ilosc': 8}]\n"
     ]
    }
   ],
   "source": [
    "# Ćwiczenie 21\n",
    "produkty = [\n",
    "    {'nazwa': 'Laptop', 'cena': 1500, 'ilosc': 5},\n",
    "    {'nazwa': 'Smartfon', 'cena': 800, 'ilosc': 10},\n",
    "    {'nazwa': 'Kamera', 'cena': 120, 'ilosc': 3},\n",
    "    {'nazwa': 'Słuchawki', 'cena': 50, 'ilosc': 8}\n",
    "]\n",
    "\n",
    "# Utwórz nową listę zawierającą produkty o cenie mniejszej niż 100\n",
    "tanie_produkty = [produkt for produkt in produkty if produkt['cena'] < 100]\n",
    "\n",
    "print(\"Lista produktów:\", produkty)\n",
    "print(\"Tanie produkty:\", tanie_produkty)"
   ]
  },
  {
   "cell_type": "markdown",
   "id": "0700810c",
   "metadata": {},
   "source": [
    "#### 22. Łączenie List i Słowników"
   ]
  },
  {
   "cell_type": "code",
   "execution_count": 20,
   "id": "367ba0a4",
   "metadata": {},
   "outputs": [
    {
     "name": "stdout",
     "output_type": "stream",
     "text": [
      "Nazwy produktów: ['Laptop', 'Smartfon', 'Kamera', 'Słuchawki']\n",
      "Ceny produktów: [1500, 800, 120, 50]\n",
      "Słownik cen: {'Laptop': 1500, 'Smartfon': 800, 'Kamera': 120, 'Słuchawki': 50}\n"
     ]
    }
   ],
   "source": [
    "# Ćwiczenie 22\n",
    "nazwy_produktow = ['Laptop', 'Smartfon', 'Kamera', 'Słuchawki']\n",
    "ceny_produktow = [1500, 800, 120, 50]\n",
    "\n",
    "# Połącz listy w listę krotek za pomocą funkcji zip\n",
    "produkty_i_ceny = list(zip(nazwy_produktow, ceny_produktow))\n",
    "\n",
    "# Utwórz słownik z produktami i ich cenami\n",
    "słownik_cen = dict(produkty_i_ceny)\n",
    "\n",
    "print(\"Nazwy produktów:\", nazwy_produktow)\n",
    "print(\"Ceny produktów:\", ceny_produktow)\n",
    "print(\"Słownik cen:\", słownik_cen)"
   ]
  },
  {
   "cell_type": "markdown",
   "id": "a1081878",
   "metadata": {},
   "source": [
    "#### 23. Generatory i Iteratory"
   ]
  },
  {
   "cell_type": "code",
   "execution_count": 21,
   "id": "27a0983e",
   "metadata": {},
   "outputs": [
    {
     "name": "stdout",
     "output_type": "stream",
     "text": [
      "Liczby parzyste:\n",
      "0\n",
      "2\n",
      "4\n",
      "6\n",
      "8\n",
      "10\n"
     ]
    }
   ],
   "source": [
    "# Ćwiczenie 23\n",
    "generator_parzystych = (x for x in range(11) if x % 2 == 0)\n",
    "\n",
    "# Iteruj przez liczby parzyste\n",
    "print(\"Liczby parzyste:\")\n",
    "for liczba in generator_parzystych:\n",
    "    print(liczba)"
   ]
  },
  {
   "cell_type": "markdown",
   "id": "50fc5434",
   "metadata": {},
   "source": [
    "#### 24. Praca z Datą i Czasem (Część 2)"
   ]
  },
  {
   "cell_type": "code",
   "execution_count": 22,
   "id": "4f6adfb2",
   "metadata": {},
   "outputs": [
    {
     "name": "stdout",
     "output_type": "stream",
     "text": [
      "Data początkowa: 2022-01-01 00:00:00\n",
      "Data końcowa: 2022-12-31 00:00:00\n",
      "Różnica między datami: 364 days, 0:00:00\n"
     ]
    }
   ],
   "source": [
    "# Ćwiczenie 24\n",
    "from datetime import datetime\n",
    "\n",
    "def roznica_dat(data1, data2):\n",
    "    delta = data2 - data1\n",
    "    return delta\n",
    "\n",
    "# Przykłady użycia funkcji\n",
    "data_poczatkowa = datetime(2022, 1, 1)\n",
    "data_koncowa = datetime(2022, 12, 31)\n",
    "\n",
    "roznica = roznica_dat(data_poczatkowa, data_koncowa)\n",
    "\n",
    "print(\"Data początkowa:\", data_poczatkowa)\n",
    "print(\"Data końcowa:\", data_koncowa)\n",
    "print(\"Różnica między datami:\", roznica)"
   ]
  },
  {
   "cell_type": "markdown",
   "id": "be96427c",
   "metadata": {},
   "source": [
    "#### 25. Praca z Modułem math"
   ]
  },
  {
   "cell_type": "code",
   "execution_count": 23,
   "id": "a7ca10d1",
   "metadata": {},
   "outputs": [
    {
     "name": "stdout",
     "output_type": "stream",
     "text": [
      "Pierwiastek kwadratowy z 16 to 4.0\n",
      "Pierwiastek kwadratowy z 25 to 5.0\n",
      "Pierwiastek kwadratowy z 9 to 3.0\n"
     ]
    }
   ],
   "source": [
    "# Ćwiczenie 25\n",
    "import math\n",
    "\n",
    "def pierwiastek_kwadratowy(liczba):\n",
    "    return math.sqrt(liczba)\n",
    "\n",
    "# Przykłady użycia funkcji\n",
    "liczba1 = 16\n",
    "liczba2 = 25\n",
    "liczba3 = 9\n",
    "\n",
    "pierwiastek1 = pierwiastek_kwadratowy(liczba1)\n",
    "pierwiastek2 = pierwiastek_kwadratowy(liczba2)\n",
    "pierwiastek3 = pierwiastek_kwadratowy(liczba3)\n",
    "\n",
    "print(\"Pierwiastek kwadratowy z\", liczba1, \"to\", pierwiastek1)\n",
    "print(\"Pierwiastek kwadratowy z\", liczba2, \"to\", pierwiastek2)\n",
    "print(\"Pierwiastek kwadratowy z\", liczba3, \"to\", pierwiastek3)"
   ]
  },
  {
   "cell_type": "markdown",
   "id": "d57937e1",
   "metadata": {},
   "source": [
    "#### 26. Przetwarzanie Tekstu za pomocą List Comprehension"
   ]
  },
  {
   "cell_type": "code",
   "execution_count": 1,
   "id": "0d26f762",
   "metadata": {},
   "outputs": [
    {
     "name": "stdout",
     "output_type": "stream",
     "text": [
      "Lista słów: ['Python', 'Programowanie', 'Analiza', 'Dane', 'Szkolenie']\n",
      "Długości słów: [6, 13, 7, 4, 9]\n"
     ]
    }
   ],
   "source": [
    "# Ćwiczenie 26\n",
    "lista_slow = [\"Python\", \"Programowanie\", \"Analiza\", \"Dane\", \"Szkolenie\"]\n",
    "\n",
    "# Użyj list comprehension do utworzenia listy długości słów\n",
    "dlugosci_slow = [len(slowo) for slowo in lista_slow]\n",
    "\n",
    "print(\"Lista słów:\", lista_slow)\n",
    "print(\"Długości słów:\", dlugosci_slow)"
   ]
  },
  {
   "cell_type": "markdown",
   "id": "55ad1ffb",
   "metadata": {},
   "source": [
    "#### 27. Wykorzystanie Funkcji Lambda do Sortowania"
   ]
  },
  {
   "cell_type": "code",
   "execution_count": 2,
   "id": "4d0c33c4",
   "metadata": {},
   "outputs": [
    {
     "name": "stdout",
     "output_type": "stream",
     "text": [
      "Lista liczb: [8, 3, 5, 1, 9, 2, 7]\n",
      "Posortowane liczby: [1, 2, 3, 5, 7, 8, 9]\n"
     ]
    }
   ],
   "source": [
    "# Ćwiczenie 27\n",
    "lista_liczb = [8, 3, 5, 1, 9, 2, 7]\n",
    "\n",
    "# Użyj funkcji sorted z funkcją lambda do sortowania rosnącego\n",
    "posortowane_liczby = sorted(lista_liczb, key=lambda x: x)\n",
    "\n",
    "print(\"Lista liczb:\", lista_liczb)\n",
    "print(\"Posortowane liczby:\", posortowane_liczby)"
   ]
  },
  {
   "cell_type": "markdown",
   "id": "f409bbb6",
   "metadata": {},
   "source": [
    "#### 28. Praca z Pętlą While i Wyjątkami"
   ]
  },
  {
   "cell_type": "code",
   "execution_count": 3,
   "id": "7f341143",
   "metadata": {},
   "outputs": [
    {
     "name": "stdout",
     "output_type": "stream",
     "text": [
      "Wprowadź liczbę całkowitą: 5\n",
      "Wprowadzona liczba: 5\n"
     ]
    }
   ],
   "source": [
    "# Ćwiczenie 28\n",
    "while True:\n",
    "    try:\n",
    "        liczba = int(input(\"Wprowadź liczbę całkowitą: \"))\n",
    "        break\n",
    "    except ValueError:\n",
    "        print(\"Błąd! Wprowadź poprawną liczbę całkowitą.\")\n",
    "\n",
    "print(\"Wprowadzona liczba:\", liczba)"
   ]
  },
  {
   "cell_type": "markdown",
   "id": "c72432aa",
   "metadata": {},
   "source": [
    "#### 29. Operacje na Napisach"
   ]
  },
  {
   "cell_type": "code",
   "execution_count": 4,
   "id": "47faff78",
   "metadata": {},
   "outputs": [
    {
     "name": "stdout",
     "output_type": "stream",
     "text": [
      "Oryginalne zdanie: Python jest potężnym językiem programowania.\n",
      "Odwrócone zdanie: .ainawomargorp meikyzęj mynżętop tsej nohtyP\n",
      "Wielkie litery: PYTHON JEST POTĘŻNYM JĘZYKIEM PROGRAMOWANIA.\n",
      "Słowa: ['Python', 'jest', 'potężnym', 'językiem', 'programowania.']\n"
     ]
    }
   ],
   "source": [
    "# Ćwiczenie 29\n",
    "zdanie = \"Python jest potężnym językiem programowania.\"\n",
    "\n",
    "# Odwróć napis\n",
    "odwrocone_zdanie = zdanie[::-1]\n",
    "\n",
    "# Zamień na wielkie litery\n",
    "wielkie_litery = zdanie.upper()\n",
    "\n",
    "# Podziel na słowa\n",
    "slowa = zdanie.split()\n",
    "\n",
    "print(\"Oryginalne zdanie:\", zdanie)\n",
    "print(\"Odwrócone zdanie:\", odwrocone_zdanie)\n",
    "print(\"Wielkie litery:\", wielkie_litery)\n",
    "print(\"Słowa:\", slowa)"
   ]
  },
  {
   "cell_type": "markdown",
   "id": "6ae7efa8",
   "metadata": {},
   "source": [
    "#### 30. Użycie Modułu random do Losowania Liczb"
   ]
  },
  {
   "cell_type": "code",
   "execution_count": 5,
   "id": "c4a7217c",
   "metadata": {},
   "outputs": [
    {
     "name": "stdout",
     "output_type": "stream",
     "text": [
      "Odgadnij liczbę od 1 do 10: 6\n",
      "Nieprawidłowa liczba. Spróbuj ponownie.\n",
      "Odgadnij liczbę od 1 do 10: 4\n",
      "Nieprawidłowa liczba. Spróbuj ponownie.\n",
      "Odgadnij liczbę od 1 do 10: 8\n",
      "Nieprawidłowa liczba. Spróbuj ponownie.\n",
      "Odgadnij liczbę od 1 do 10: 1\n",
      "Nieprawidłowa liczba. Spróbuj ponownie.\n",
      "Odgadnij liczbę od 1 do 10: 2\n",
      "Nieprawidłowa liczba. Spróbuj ponownie.\n",
      "Odgadnij liczbę od 1 do 10: 3\n",
      "Nieprawidłowa liczba. Spróbuj ponownie.\n",
      "Odgadnij liczbę od 1 do 10: 6\n",
      "Nieprawidłowa liczba. Spróbuj ponownie.\n",
      "Odgadnij liczbę od 1 do 10: 8\n",
      "Nieprawidłowa liczba. Spróbuj ponownie.\n",
      "Odgadnij liczbę od 1 do 10: end\n"
     ]
    },
    {
     "ename": "ValueError",
     "evalue": "invalid literal for int() with base 10: 'end'",
     "output_type": "error",
     "traceback": [
      "\u001b[1;31m---------------------------------------------------------------------------\u001b[0m",
      "\u001b[1;31mValueError\u001b[0m                                Traceback (most recent call last)",
      "Cell \u001b[1;32mIn[5], line 10\u001b[0m\n\u001b[0;32m      7\u001b[0m wylosowana_liczba \u001b[38;5;241m=\u001b[39m losuj_liczbe()\n\u001b[0;32m      9\u001b[0m \u001b[38;5;28;01mwhile\u001b[39;00m \u001b[38;5;28;01mTrue\u001b[39;00m:\n\u001b[1;32m---> 10\u001b[0m     odgadnij \u001b[38;5;241m=\u001b[39m \u001b[38;5;28mint\u001b[39m(\u001b[38;5;28minput\u001b[39m(\u001b[38;5;124m\"\u001b[39m\u001b[38;5;124mOdgadnij liczbę od 1 do 10: \u001b[39m\u001b[38;5;124m\"\u001b[39m))\n\u001b[0;32m     11\u001b[0m     \u001b[38;5;28;01mif\u001b[39;00m odgadnij \u001b[38;5;241m==\u001b[39m wylosowana_liczba:\n\u001b[0;32m     12\u001b[0m         \u001b[38;5;28mprint\u001b[39m(\u001b[38;5;124m\"\u001b[39m\u001b[38;5;124mGratulacje! Odgadłeś właściwą liczbę.\u001b[39m\u001b[38;5;124m\"\u001b[39m)\n",
      "\u001b[1;31mValueError\u001b[0m: invalid literal for int() with base 10: 'end'"
     ]
    }
   ],
   "source": [
    "# Ćwiczenie 30\n",
    "import random\n",
    "\n",
    "def losuj_liczbe():\n",
    "    return random.randint(1, 10)\n",
    "\n",
    "wylosowana_liczba = losuj_liczbe()\n",
    "\n",
    "while True:\n",
    "    odgadnij = int(input(\"Odgadnij liczbę od 1 do 10: \"))\n",
    "    if odgadnij == wylosowana_liczba:\n",
    "        print(\"Gratulacje! Odgadłeś właściwą liczbę.\")\n",
    "        break\n",
    "    else:\n",
    "        print(\"Nieprawidłowa liczba. Spróbuj ponownie.\")"
   ]
  },
  {
   "cell_type": "markdown",
   "id": "a29f708c",
   "metadata": {},
   "source": [
    "#### 31. Wykorzystanie List Comprehension do Filtrowania"
   ]
  },
  {
   "cell_type": "code",
   "execution_count": 6,
   "id": "0c0a0d87",
   "metadata": {},
   "outputs": [
    {
     "name": "stdout",
     "output_type": "stream",
     "text": [
      "Lista liczb całkowitych: [1, 2, 3, 4, 5, 6, 7, 8, 9, 10]\n",
      "Parzyste liczby: [2, 4, 6, 8, 10]\n"
     ]
    }
   ],
   "source": [
    "# Ćwiczenie 31\n",
    "liczby_calkowite = [1, 2, 3, 4, 5, 6, 7, 8, 9, 10]\n",
    "\n",
    "# Użyj list comprehension do utworzenia listy parzystych liczb\n",
    "parzyste_liczby = [liczba for liczba in liczby_calkowite if liczba % 2 == 0]\n",
    "\n",
    "print(\"Lista liczb całkowitych:\", liczby_calkowite)\n",
    "print(\"Parzyste liczby:\", parzyste_liczby)"
   ]
  },
  {
   "cell_type": "markdown",
   "id": "1008b4d0",
   "metadata": {},
   "source": [
    "#### 32. Wykorzystanie funkcji ZIP do Łączenia Dwóch List"
   ]
  },
  {
   "cell_type": "code",
   "execution_count": 7,
   "id": "40e2e5f2",
   "metadata": {},
   "outputs": [
    {
     "name": "stdout",
     "output_type": "stream",
     "text": [
      "Lista imion: ['Anna', 'Jan', 'Ewa']\n",
      "Lista wieków: [25, 30, 28]\n",
      "Lista krotek (imię, wiek): [('Anna', 25), ('Jan', 30), ('Ewa', 28)]\n"
     ]
    }
   ],
   "source": [
    "# Ćwiczenie 32\n",
    "imiona = [\"Anna\", \"Jan\", \"Ewa\"]\n",
    "wieki = [25, 30, 28]\n",
    "\n",
    "# Użyj funkcji zip do łączenia dwóch list\n",
    "lista_krotek = list(zip(imiona, wieki))\n",
    "\n",
    "print(\"Lista imion:\", imiona)\n",
    "print(\"Lista wieków:\", wieki)\n",
    "print(\"Lista krotek (imię, wiek):\", lista_krotek)"
   ]
  },
  {
   "cell_type": "markdown",
   "id": "e8222928",
   "metadata": {},
   "source": [
    "#### 33. Użycie Funkcji map do Przekształcania Elementów Listy"
   ]
  },
  {
   "cell_type": "code",
   "execution_count": 8,
   "id": "04d209d0",
   "metadata": {},
   "outputs": [
    {
     "name": "stdout",
     "output_type": "stream",
     "text": [
      "Lista liczb całkowitych: [2, 4, 6, 8, 10]\n",
      "Kwadraty liczb: [4, 16, 36, 64, 100]\n"
     ]
    }
   ],
   "source": [
    "# Ćwiczenie 33\n",
    "liczby_calkowite = [2, 4, 6, 8, 10]\n",
    "\n",
    "# Użyj funkcji map do podniesienia każdej liczby do kwadratu\n",
    "kwadraty = list(map(lambda x: x**2, liczby_calkowite))\n",
    "\n",
    "print(\"Lista liczb całkowitych:\", liczby_calkowite)\n",
    "print(\"Kwadraty liczb:\", kwadraty)"
   ]
  },
  {
   "cell_type": "markdown",
   "id": "bccf10a9",
   "metadata": {},
   "source": [
    "#### 34. Praca z Datą i Czasem"
   ]
  },
  {
   "cell_type": "code",
   "execution_count": 9,
   "id": "ce96a975",
   "metadata": {},
   "outputs": [
    {
     "name": "stdout",
     "output_type": "stream",
     "text": [
      "Obecna data i czas: 2024-01-26 21:55:47.412698\n",
      "Data i czas po dodaniu 7 dni: 2024-02-02 21:55:47.412177\n"
     ]
    }
   ],
   "source": [
    "# Ćwiczenie 34\n",
    "from datetime import datetime, timedelta\n",
    "\n",
    "def dodaj_7_dni():\n",
    "    obecna_data_czas = datetime.now()\n",
    "    nowa_data_czas = obecna_data_czas + timedelta(days=7)\n",
    "    return nowa_data_czas\n",
    "\n",
    "wynik = dodaj_7_dni()\n",
    "\n",
    "print(\"Obecna data i czas:\", datetime.now())\n",
    "print(\"Data i czas po dodaniu 7 dni:\", wynik)"
   ]
  },
  {
   "cell_type": "markdown",
   "id": "91c62401",
   "metadata": {},
   "source": [
    "#### 35. Praca z Modułem math - Obliczanie Pierwiastka Kwadratowego"
   ]
  },
  {
   "cell_type": "code",
   "execution_count": 10,
   "id": "0a7631f1",
   "metadata": {},
   "outputs": [
    {
     "name": "stdout",
     "output_type": "stream",
     "text": [
      "Pierwiastek kwadratowy z 16: 4.0\n"
     ]
    }
   ],
   "source": [
    "# Ćwiczenie 35\n",
    "import math\n",
    "\n",
    "def pierwiastek_kwadratowy(liczba):\n",
    "    return math.sqrt(liczba)\n",
    "\n",
    "liczba_testowa = 16\n",
    "wynik = pierwiastek_kwadratowy(liczba_testowa)\n",
    "\n",
    "print(f\"Pierwiastek kwadratowy z {liczba_testowa}:\", wynik)"
   ]
  },
  {
   "attachments": {},
   "cell_type": "markdown",
   "id": "63119971",
   "metadata": {},
   "source": [
    "#### 36. Funkcja zip – dodatkowe ćwiczenie (Łączenie trzech list w listę trójek)"
   ]
  },
  {
   "cell_type": "code",
   "execution_count": 1,
   "id": "7782c1e3",
   "metadata": {},
   "outputs": [
    {
     "name": "stdout",
     "output_type": "stream",
     "text": [
      "[('Laptop', 1500, 5), ('Smartfon', 800, 10), ('Kamera', 120, 3)]\n"
     ]
    }
   ],
   "source": [
    "produkty = [\"Laptop\", \"Smartfon\", \"Kamera\"]\n",
    "ceny = [1500, 800, 120]\n",
    "ilosci = [5, 10, 3]\n",
    "\n",
    "# Użycie funkcji zip\n",
    "zipped = zip(produkty, ceny, ilosci)\n",
    "\n",
    "# Konwersja wyniku do listy trójek\n",
    "lista_trojek = list(zipped)\n",
    "\n",
    "print(lista_trojek)\n",
    "# Wynik: [('Laptop', 1500, 5), ('Smartfon', 800, 10), ('Kamera', 120, 3)]"
   ]
  },
  {
   "cell_type": "markdown",
   "id": "7854554c",
   "metadata": {},
   "source": [
    "#### 37. Funkcja zip – dodatkowe ćwiczenie (Użycie zip w pętli for)"
   ]
  },
  {
   "cell_type": "code",
   "execution_count": 2,
   "id": "d4af734d",
   "metadata": {},
   "outputs": [
    {
     "name": "stdout",
     "output_type": "stream",
     "text": [
      "Produkt: Laptop, Cena: 1500 zł\n",
      "Produkt: Smartfon, Cena: 800 zł\n",
      "Produkt: Kamera, Cena: 120 zł\n"
     ]
    }
   ],
   "source": [
    "produkty = [\"Laptop\", \"Smartfon\", \"Kamera\"]\n",
    "ceny = [1500, 800, 120]\n",
    "\n",
    "# Użycie funkcji zip w pętli for\n",
    "for produkt, cena in zip(produkty, ceny):\n",
    "    print(f\"Produkt: {produkt}, Cena: {cena} zł\")\n",
    "# Wynik:\n",
    "# Produkt: Laptop, Cena: 1500 zł\n",
    "# Produkt: Smartfon, Cena: 800 zł\n",
    "# Produkt: Kamera, Cena: 120 zł"
   ]
  },
  {
   "cell_type": "markdown",
   "id": "2ceb08d9",
   "metadata": {},
   "source": [
    "#### 38. Funkcja zip – dodatkowe ćwiczenie (Tworzenie Słownika z Dwóch List)"
   ]
  },
  {
   "cell_type": "code",
   "execution_count": 3,
   "id": "95f7e4b1",
   "metadata": {},
   "outputs": [
    {
     "name": "stdout",
     "output_type": "stream",
     "text": [
      "Słownik ocen: {'Matematyka': 4.5, 'Fizyka': 3.8, 'Chemia': 5.0, 'Informatyka': 4.2}\n"
     ]
    }
   ],
   "source": [
    "# Ćwiczenie\n",
    "przedmioty = [\"Matematyka\", \"Fizyka\", \"Chemia\", \"Informatyka\"]\n",
    "oceny = [4.5, 3.8, 5.0, 4.2]\n",
    "\n",
    "# Użyj funkcji zip do połączenia list w słownik\n",
    "słownik_ocen = dict(zip(przedmioty, oceny))\n",
    "\n",
    "# Wyświetl utworzony słownik\n",
    "print(\"Słownik ocen:\", słownik_ocen)\n",
    "\n",
    "# W tym ćwiczeniu funkcja zip jest używana do połączenia list przedmioty i oceny w słownik,\n",
    "# gdzie nazwy przedmiotów stają się kluczami, a oceny stają się wartościami.\n",
    "# Możesz dostosować listy według własnych danych lub dodać więcej przedmiotów do listy, aby przetestować działanie funkcji."
   ]
  },
  {
   "cell_type": "markdown",
   "id": "bfe7dda2",
   "metadata": {},
   "source": [
    "#### 39. Funkcja ENUMERATE – Przykład 1: Iterowanie przez Listę z Indeksami"
   ]
  },
  {
   "cell_type": "code",
   "execution_count": 4,
   "id": "2ad755f5",
   "metadata": {},
   "outputs": [
    {
     "name": "stdout",
     "output_type": "stream",
     "text": [
      "Indeks: 0, Produkt: Laptop\n",
      "Indeks: 1, Produkt: Smartfon\n",
      "Indeks: 2, Produkt: Kamera\n"
     ]
    }
   ],
   "source": [
    "# Przykład 1\n",
    "produkty = [\"Laptop\", \"Smartfon\", \"Kamera\"]\n",
    "\n",
    "# Użycie enumerate do iteracji przez listę z indeksami\n",
    "for indeks, produkt in enumerate(produkty):\n",
    "    print(f\"Indeks: {indeks}, Produkt: {produkt}\")\n",
    "# Wynik:\n",
    "# Indeks: 0, Produkt: Laptop\n",
    "# Indeks: 1, Produkt: Smartfon\n",
    "# Indeks: 2, Produkt: Kamera"
   ]
  },
  {
   "cell_type": "markdown",
   "id": "3b92615c",
   "metadata": {},
   "source": [
    "#### 40. Funkcja ENUMERATE – Przykład 2: Iterowanie przez Krotkę z Indeksami"
   ]
  },
  {
   "cell_type": "code",
   "execution_count": 5,
   "id": "16549d60",
   "metadata": {},
   "outputs": [
    {
     "name": "stdout",
     "output_type": "stream",
     "text": [
      "Indeks: 0, Kolor: czerwony\n",
      "Indeks: 1, Kolor: zielony\n",
      "Indeks: 2, Kolor: niebieski\n"
     ]
    }
   ],
   "source": [
    "# Przykład 2\n",
    "krotka = (\"czerwony\", \"zielony\", \"niebieski\")\n",
    "\n",
    "# Użycie enumerate do iteracji przez krotkę z indeksami\n",
    "for indeks, kolor in enumerate(krotka):\n",
    "    print(f\"Indeks: {indeks}, Kolor: {kolor}\")\n",
    "# Wynik:\n",
    "# Indeks: 0, Kolor: czerwony\n",
    "# Indeks: 1, Kolor: zielony\n",
    "# Indeks: 2, Kolor: niebieski"
   ]
  },
  {
   "cell_type": "markdown",
   "id": "d9c32ecd",
   "metadata": {},
   "source": [
    "#### 41. Funkcja ENUMERATE – Przykład 3: Generowanie Słownika z Indeksami"
   ]
  },
  {
   "cell_type": "code",
   "execution_count": 6,
   "id": "e1baa741",
   "metadata": {},
   "outputs": [
    {
     "name": "stdout",
     "output_type": "stream",
     "text": [
      "Słownik indeksów: {0: 'jabłko', 1: 'banan', 2: 'gruszka'}\n"
     ]
    }
   ],
   "source": [
    "# Przykład 3\n",
    "slowa = [\"jabłko\", \"banan\", \"gruszka\"]\n",
    "\n",
    "# Użycie enumerate do wygenerowania słownika z indeksami\n",
    "slownik_indeksow = {indeks: slowo for indeks, slowo in enumerate(slowa)}\n",
    "\n",
    "print(\"Słownik indeksów:\", slownik_indeksow)\n",
    "# Wynik: {0: 'jabłko', 1: 'banan', 2: 'gruszka'}"
   ]
  },
  {
   "cell_type": "markdown",
   "id": "b97d18a1",
   "metadata": {},
   "source": [
    "#### 42. Funkcja ENUMERATE – Ćwiczenie: Numerowanie Elementów Listy"
   ]
  },
  {
   "cell_type": "code",
   "execution_count": 7,
   "id": "435fe2ab",
   "metadata": {},
   "outputs": [
    {
     "name": "stdout",
     "output_type": "stream",
     "text": [
      "Słownik indeksów: {0: 'Anna', 1: 'Jan', 2: 'Ewa', 3: 'Tomasz', 4: 'Magda'}\n"
     ]
    }
   ],
   "source": [
    "# Ćwiczenie\n",
    "imiona_osob = [\"Anna\", \"Jan\", \"Ewa\", \"Tomasz\", \"Magda\"]\n",
    "\n",
    "# Użyj funkcji enumerate do wygenerowania słownika z indeksami\n",
    "slownik_indeksow = {indeks: imie for indeks, imie in enumerate(imiona_osob)}\n",
    "\n",
    "# Wyświetl utworzony słownik\n",
    "print(\"Słownik indeksów:\", slownik_indeksow)"
   ]
  },
  {
   "cell_type": "code",
   "execution_count": null,
   "id": "f76402ca",
   "metadata": {},
   "outputs": [],
   "source": []
  }
 ],
 "metadata": {
  "kernelspec": {
   "display_name": "Python 3 (ipykernel)",
   "language": "python",
   "name": "python3"
  },
  "language_info": {
   "codemirror_mode": {
    "name": "ipython",
    "version": 3
   },
   "file_extension": ".py",
   "mimetype": "text/x-python",
   "name": "python",
   "nbconvert_exporter": "python",
   "pygments_lexer": "ipython3",
   "version": "3.11.5"
  }
 },
 "nbformat": 4,
 "nbformat_minor": 5
}
